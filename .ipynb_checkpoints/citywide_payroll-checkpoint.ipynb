{
 "cells": [
  {
   "cell_type": "code",
   "execution_count": 1,
   "metadata": {},
   "outputs": [],
   "source": [
    "import numpy as np\n",
    "import pandas as pd\n",
    "import matplotlib.pyplot as plt\n",
    "%matplotlib inline"
   ]
  },
  {
   "cell_type": "code",
   "execution_count": 2,
   "metadata": {},
   "outputs": [
    {
     "name": "stderr",
     "output_type": "stream",
     "text": [
      "C:\\Anaconda3\\lib\\site-packages\\IPython\\core\\interactiveshell.py:3057: DtypeWarning: Columns (7) have mixed types. Specify dtype option on import or set low_memory=False.\n",
      "  interactivity=interactivity, compiler=compiler, result=result)\n"
     ]
    }
   ],
   "source": [
    "# load in the data\n",
    "payroll = pd.read_csv(\"city_payroll.csv\")"
   ]
  },
  {
   "cell_type": "code",
   "execution_count": 3,
   "metadata": {},
   "outputs": [
    {
     "data": {
      "text/html": [
       "<div>\n",
       "<style scoped>\n",
       "    .dataframe tbody tr th:only-of-type {\n",
       "        vertical-align: middle;\n",
       "    }\n",
       "\n",
       "    .dataframe tbody tr th {\n",
       "        vertical-align: top;\n",
       "    }\n",
       "\n",
       "    .dataframe thead th {\n",
       "        text-align: right;\n",
       "    }\n",
       "</style>\n",
       "<table border=\"1\" class=\"dataframe\">\n",
       "  <thead>\n",
       "    <tr style=\"text-align: right;\">\n",
       "      <th></th>\n",
       "      <th>Fiscal Year</th>\n",
       "      <th>Payroll Number</th>\n",
       "      <th>Agency Name</th>\n",
       "      <th>Last Name</th>\n",
       "      <th>First Name</th>\n",
       "      <th>Mid Init</th>\n",
       "      <th>Agency Start Date</th>\n",
       "      <th>Work Location Borough</th>\n",
       "      <th>Title Description</th>\n",
       "      <th>Leave Status as of June 30</th>\n",
       "      <th>Base Salary</th>\n",
       "      <th>Pay Basis</th>\n",
       "      <th>Regular Hours</th>\n",
       "      <th>Regular Gross Paid</th>\n",
       "      <th>OT Hours</th>\n",
       "      <th>Total OT Paid</th>\n",
       "      <th>Total Other Pay</th>\n",
       "    </tr>\n",
       "  </thead>\n",
       "  <tbody>\n",
       "    <tr>\n",
       "      <th>0</th>\n",
       "      <td>2016</td>\n",
       "      <td>NaN</td>\n",
       "      <td>DISTRICT ATTORNEY-MANHATTAN</td>\n",
       "      <td>ABA'AHMID</td>\n",
       "      <td>RAHASHEEM</td>\n",
       "      <td>E</td>\n",
       "      <td>07/14/2003</td>\n",
       "      <td>MANHATTAN</td>\n",
       "      <td>COMMUNITY ASSOCIATE</td>\n",
       "      <td>ACTIVE</td>\n",
       "      <td>47678.0</td>\n",
       "      <td>per Annum</td>\n",
       "      <td>1830.00</td>\n",
       "      <td>47166.03</td>\n",
       "      <td>2.25</td>\n",
       "      <td>57.28</td>\n",
       "      <td>0.0</td>\n",
       "    </tr>\n",
       "    <tr>\n",
       "      <th>1</th>\n",
       "      <td>2016</td>\n",
       "      <td>NaN</td>\n",
       "      <td>DISTRICT ATTORNEY-MANHATTAN</td>\n",
       "      <td>ABENSUR</td>\n",
       "      <td>MARGARET</td>\n",
       "      <td>NaN</td>\n",
       "      <td>06/12/1995</td>\n",
       "      <td>MANHATTAN</td>\n",
       "      <td>ADMINISTRATIVE ACCOUNTANT</td>\n",
       "      <td>ACTIVE</td>\n",
       "      <td>119959.0</td>\n",
       "      <td>per Annum</td>\n",
       "      <td>1831.00</td>\n",
       "      <td>119042.50</td>\n",
       "      <td>0.00</td>\n",
       "      <td>0.00</td>\n",
       "      <td>0.0</td>\n",
       "    </tr>\n",
       "    <tr>\n",
       "      <th>2</th>\n",
       "      <td>2016</td>\n",
       "      <td>NaN</td>\n",
       "      <td>DISTRICT ATTORNEY-MANHATTAN</td>\n",
       "      <td>ABOUNAOUM</td>\n",
       "      <td>ANDREA</td>\n",
       "      <td>L</td>\n",
       "      <td>10/11/2011</td>\n",
       "      <td>MANHATTAN</td>\n",
       "      <td>COMMUNITY ASSOCIATE</td>\n",
       "      <td>ON LEAVE</td>\n",
       "      <td>39966.0</td>\n",
       "      <td>per Annum</td>\n",
       "      <td>1181.68</td>\n",
       "      <td>27452.62</td>\n",
       "      <td>1.00</td>\n",
       "      <td>21.34</td>\n",
       "      <td>33.0</td>\n",
       "    </tr>\n",
       "    <tr>\n",
       "      <th>3</th>\n",
       "      <td>2016</td>\n",
       "      <td>NaN</td>\n",
       "      <td>DISTRICT ATTORNEY-MANHATTAN</td>\n",
       "      <td>ABRAHAM</td>\n",
       "      <td>JONATHAN</td>\n",
       "      <td>J</td>\n",
       "      <td>12/01/2014</td>\n",
       "      <td>MANHATTAN</td>\n",
       "      <td>COMPUTER SYSTEMS MANAGER</td>\n",
       "      <td>ACTIVE</td>\n",
       "      <td>116000.0</td>\n",
       "      <td>per Annum</td>\n",
       "      <td>1831.00</td>\n",
       "      <td>115104.57</td>\n",
       "      <td>0.00</td>\n",
       "      <td>0.00</td>\n",
       "      <td>0.0</td>\n",
       "    </tr>\n",
       "    <tr>\n",
       "      <th>4</th>\n",
       "      <td>2016</td>\n",
       "      <td>NaN</td>\n",
       "      <td>DISTRICT ATTORNEY-MANHATTAN</td>\n",
       "      <td>ABRAMS</td>\n",
       "      <td>JOSEPH</td>\n",
       "      <td>NaN</td>\n",
       "      <td>05/21/2015</td>\n",
       "      <td>MANHATTAN</td>\n",
       "      <td>COLLEGE AIDE</td>\n",
       "      <td>CEASED</td>\n",
       "      <td>1.0</td>\n",
       "      <td>per Hour</td>\n",
       "      <td>0.00</td>\n",
       "      <td>3500.00</td>\n",
       "      <td>0.00</td>\n",
       "      <td>0.00</td>\n",
       "      <td>0.0</td>\n",
       "    </tr>\n",
       "  </tbody>\n",
       "</table>\n",
       "</div>"
      ],
      "text/plain": [
       "   Fiscal Year  Payroll Number                  Agency Name  Last Name  \\\n",
       "0         2016             NaN  DISTRICT ATTORNEY-MANHATTAN  ABA'AHMID   \n",
       "1         2016             NaN  DISTRICT ATTORNEY-MANHATTAN    ABENSUR   \n",
       "2         2016             NaN  DISTRICT ATTORNEY-MANHATTAN  ABOUNAOUM   \n",
       "3         2016             NaN  DISTRICT ATTORNEY-MANHATTAN    ABRAHAM   \n",
       "4         2016             NaN  DISTRICT ATTORNEY-MANHATTAN     ABRAMS   \n",
       "\n",
       "  First Name Mid Init Agency Start Date Work Location Borough  \\\n",
       "0  RAHASHEEM        E        07/14/2003             MANHATTAN   \n",
       "1   MARGARET      NaN        06/12/1995             MANHATTAN   \n",
       "2     ANDREA        L        10/11/2011             MANHATTAN   \n",
       "3   JONATHAN        J        12/01/2014             MANHATTAN   \n",
       "4     JOSEPH      NaN        05/21/2015             MANHATTAN   \n",
       "\n",
       "           Title Description Leave Status as of June 30  Base Salary  \\\n",
       "0        COMMUNITY ASSOCIATE                     ACTIVE      47678.0   \n",
       "1  ADMINISTRATIVE ACCOUNTANT                     ACTIVE     119959.0   \n",
       "2        COMMUNITY ASSOCIATE                   ON LEAVE      39966.0   \n",
       "3   COMPUTER SYSTEMS MANAGER                     ACTIVE     116000.0   \n",
       "4               COLLEGE AIDE                     CEASED          1.0   \n",
       "\n",
       "   Pay Basis  Regular Hours  Regular Gross Paid  OT Hours  Total OT Paid  \\\n",
       "0  per Annum        1830.00            47166.03      2.25          57.28   \n",
       "1  per Annum        1831.00           119042.50      0.00           0.00   \n",
       "2  per Annum        1181.68            27452.62      1.00          21.34   \n",
       "3  per Annum        1831.00           115104.57      0.00           0.00   \n",
       "4   per Hour           0.00             3500.00      0.00           0.00   \n",
       "\n",
       "   Total Other Pay  \n",
       "0              0.0  \n",
       "1              0.0  \n",
       "2             33.0  \n",
       "3              0.0  \n",
       "4              0.0  "
      ]
     },
     "execution_count": 3,
     "metadata": {},
     "output_type": "execute_result"
    }
   ],
   "source": [
    "payroll.head()"
   ]
  },
  {
   "cell_type": "code",
   "execution_count": 6,
   "metadata": {},
   "outputs": [],
   "source": [
    "# sample the data to make it more manageable\n",
    "payroll_sample = payroll.sample(int(len(payroll) / 20))"
   ]
  },
  {
   "cell_type": "code",
   "execution_count": 7,
   "metadata": {},
   "outputs": [
    {
     "name": "stdout",
     "output_type": "stream",
     "text": [
      "Original Dataset Observation Count: 3333096\n",
      "Sampled Dataset Observation Count: 166654\n"
     ]
    }
   ],
   "source": [
    "print(\"Original Dataset Observation Count: \" + str(len(payroll)))\n",
    "print(\"Sampled Dataset Observation Count: \" + str(len(payroll_sample)))"
   ]
  },
  {
   "cell_type": "code",
   "execution_count": 10,
   "metadata": {},
   "outputs": [],
   "source": [
    "# save sampled dataset\n",
    "payroll_sample.to_csv(\"city_payroll_sample.csv\")"
   ]
  },
  {
   "cell_type": "code",
   "execution_count": null,
   "metadata": {},
   "outputs": [],
   "source": [
    "# data types"
   ]
  },
  {
   "cell_type": "code",
   "execution_count": null,
   "metadata": {},
   "outputs": [],
   "source": [
    "# missing values"
   ]
  },
  {
   "cell_type": "code",
   "execution_count": 12,
   "metadata": {},
   "outputs": [],
   "source": [
    "# counts of municipal employees\n",
    "    # year-to-year\n",
    "    # agency-to-agency\n",
    "    # borough-to-borough"
   ]
  },
  {
   "cell_type": "code",
   "execution_count": null,
   "metadata": {},
   "outputs": [],
   "source": [
    "# distributions of base pay\n",
    "    # whole\n",
    "    # by borough "
   ]
  },
  {
   "cell_type": "code",
   "execution_count": null,
   "metadata": {},
   "outputs": [],
   "source": [
    "# distributions of actual pay\n",
    "    # whole\n",
    "    # by borough "
   ]
  },
  {
   "cell_type": "code",
   "execution_count": null,
   "metadata": {},
   "outputs": [],
   "source": [
    "# hypothesis testing for actual pay"
   ]
  },
  {
   "cell_type": "code",
   "execution_count": null,
   "metadata": {},
   "outputs": [],
   "source": [
    "# distributions of the difference between base pay and actual pay"
   ]
  },
  {
   "cell_type": "code",
   "execution_count": null,
   "metadata": {},
   "outputs": [],
   "source": [
    "# distributions of overtime"
   ]
  },
  {
   "cell_type": "code",
   "execution_count": null,
   "metadata": {},
   "outputs": [],
   "source": [
    "# bar graph of the pay of active and ceased employees"
   ]
  },
  {
   "cell_type": "code",
   "execution_count": null,
   "metadata": {},
   "outputs": [],
   "source": [
    "# bar graph of pay basis"
   ]
  },
  {
   "cell_type": "code",
   "execution_count": null,
   "metadata": {},
   "outputs": [],
   "source": [
    "# regular hours vs. base salary scatterplot"
   ]
  },
  {
   "cell_type": "code",
   "execution_count": null,
   "metadata": {},
   "outputs": [],
   "source": [
    "# Pearson's R for regular hours vs base salary"
   ]
  },
  {
   "cell_type": "code",
   "execution_count": null,
   "metadata": {},
   "outputs": [],
   "source": [
    "# agency start date vs. actual pay"
   ]
  },
  {
   "cell_type": "code",
   "execution_count": null,
   "metadata": {},
   "outputs": [],
   "source": [
    "# double bar graph of base salary and regular gross paid \n",
    "    # by borough\n",
    "    # by agency "
   ]
  },
  {
   "cell_type": "code",
   "execution_count": null,
   "metadata": {},
   "outputs": [],
   "source": [
    "# swarm plot of borough vs. regular gross paid "
   ]
  },
  {
   "cell_type": "code",
   "execution_count": null,
   "metadata": {},
   "outputs": [],
   "source": [
    "# swarm plot of fiscal year vs. regular gross paid"
   ]
  },
  {
   "cell_type": "code",
   "execution_count": null,
   "metadata": {},
   "outputs": [],
   "source": [
    "# total hours (regular hours + OT Hours) vs regular gross paid"
   ]
  },
  {
   "cell_type": "code",
   "execution_count": null,
   "metadata": {},
   "outputs": [],
   "source": [
    "# K-Nearest Neighbor Regressor with k = 5 to predict regular gross paid\n",
    "    # manually compute for one random observation\n",
    "    # create a 80/20 train-test split and utilize a k-nearest neighbor algorithm\n",
    "        # compute mse and rmse\n",
    "        # regular gross paid vs residuals "
   ]
  }
 ],
 "metadata": {
  "kernelspec": {
   "display_name": "Python 3",
   "language": "python",
   "name": "python3"
  },
  "language_info": {
   "codemirror_mode": {
    "name": "ipython",
    "version": 3
   },
   "file_extension": ".py",
   "mimetype": "text/x-python",
   "name": "python",
   "nbconvert_exporter": "python",
   "pygments_lexer": "ipython3",
   "version": "3.7.3"
  }
 },
 "nbformat": 4,
 "nbformat_minor": 2
}
