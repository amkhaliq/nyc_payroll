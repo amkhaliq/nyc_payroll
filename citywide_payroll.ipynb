{
 "cells": [
  {
   "cell_type": "code",
   "execution_count": 1,
   "metadata": {},
   "outputs": [],
   "source": [
    "import numpy as np\n",
    "import pandas as pd\n",
    "import datetime\n",
    "import seaborn as sns\n",
    "import matplotlib.pyplot as plt\n",
    "%matplotlib inline"
   ]
  },
  {
   "cell_type": "code",
   "execution_count": 2,
   "metadata": {
    "scrolled": true
   },
   "outputs": [
    {
     "name": "stderr",
     "output_type": "stream",
     "text": [
      "C:\\ProgramData\\Anaconda3\\lib\\site-packages\\IPython\\core\\interactiveshell.py:3058: DtypeWarning: Columns (7) have mixed types. Specify dtype option on import or set low_memory=False.\n",
      "  interactivity=interactivity, compiler=compiler, result=result)\n"
     ]
    }
   ],
   "source": [
    "# load in the data\n",
    "missing_values = [\"n/a\", \"na\", \"--\", \"-\", \"NA\"]\n",
    "payroll = pd.read_csv(\"city_payroll.csv\", na_values = missing_values)"
   ]
  },
  {
   "cell_type": "code",
   "execution_count": 3,
   "metadata": {},
   "outputs": [
    {
     "data": {
      "text/html": [
       "<div>\n",
       "<style scoped>\n",
       "    .dataframe tbody tr th:only-of-type {\n",
       "        vertical-align: middle;\n",
       "    }\n",
       "\n",
       "    .dataframe tbody tr th {\n",
       "        vertical-align: top;\n",
       "    }\n",
       "\n",
       "    .dataframe thead th {\n",
       "        text-align: right;\n",
       "    }\n",
       "</style>\n",
       "<table border=\"1\" class=\"dataframe\">\n",
       "  <thead>\n",
       "    <tr style=\"text-align: right;\">\n",
       "      <th></th>\n",
       "      <th>Fiscal Year</th>\n",
       "      <th>Payroll Number</th>\n",
       "      <th>Agency Name</th>\n",
       "      <th>Last Name</th>\n",
       "      <th>First Name</th>\n",
       "      <th>Mid Init</th>\n",
       "      <th>Agency Start Date</th>\n",
       "      <th>Work Location Borough</th>\n",
       "      <th>Title Description</th>\n",
       "      <th>Leave Status as of June 30</th>\n",
       "      <th>Base Salary</th>\n",
       "      <th>Pay Basis</th>\n",
       "      <th>Regular Hours</th>\n",
       "      <th>Regular Gross Paid</th>\n",
       "      <th>OT Hours</th>\n",
       "      <th>Total OT Paid</th>\n",
       "      <th>Total Other Pay</th>\n",
       "    </tr>\n",
       "  </thead>\n",
       "  <tbody>\n",
       "    <tr>\n",
       "      <td>0</td>\n",
       "      <td>2016</td>\n",
       "      <td>NaN</td>\n",
       "      <td>DISTRICT ATTORNEY-MANHATTAN</td>\n",
       "      <td>ABA'AHMID</td>\n",
       "      <td>RAHASHEEM</td>\n",
       "      <td>E</td>\n",
       "      <td>07/14/2003</td>\n",
       "      <td>MANHATTAN</td>\n",
       "      <td>COMMUNITY ASSOCIATE</td>\n",
       "      <td>ACTIVE</td>\n",
       "      <td>47678.0</td>\n",
       "      <td>per Annum</td>\n",
       "      <td>1830.00</td>\n",
       "      <td>47166.03</td>\n",
       "      <td>2.25</td>\n",
       "      <td>57.28</td>\n",
       "      <td>0.0</td>\n",
       "    </tr>\n",
       "    <tr>\n",
       "      <td>1</td>\n",
       "      <td>2016</td>\n",
       "      <td>NaN</td>\n",
       "      <td>DISTRICT ATTORNEY-MANHATTAN</td>\n",
       "      <td>ABENSUR</td>\n",
       "      <td>MARGARET</td>\n",
       "      <td>NaN</td>\n",
       "      <td>06/12/1995</td>\n",
       "      <td>MANHATTAN</td>\n",
       "      <td>ADMINISTRATIVE ACCOUNTANT</td>\n",
       "      <td>ACTIVE</td>\n",
       "      <td>119959.0</td>\n",
       "      <td>per Annum</td>\n",
       "      <td>1831.00</td>\n",
       "      <td>119042.50</td>\n",
       "      <td>0.00</td>\n",
       "      <td>0.00</td>\n",
       "      <td>0.0</td>\n",
       "    </tr>\n",
       "    <tr>\n",
       "      <td>2</td>\n",
       "      <td>2016</td>\n",
       "      <td>NaN</td>\n",
       "      <td>DISTRICT ATTORNEY-MANHATTAN</td>\n",
       "      <td>ABOUNAOUM</td>\n",
       "      <td>ANDREA</td>\n",
       "      <td>L</td>\n",
       "      <td>10/11/2011</td>\n",
       "      <td>MANHATTAN</td>\n",
       "      <td>COMMUNITY ASSOCIATE</td>\n",
       "      <td>ON LEAVE</td>\n",
       "      <td>39966.0</td>\n",
       "      <td>per Annum</td>\n",
       "      <td>1181.68</td>\n",
       "      <td>27452.62</td>\n",
       "      <td>1.00</td>\n",
       "      <td>21.34</td>\n",
       "      <td>33.0</td>\n",
       "    </tr>\n",
       "    <tr>\n",
       "      <td>3</td>\n",
       "      <td>2016</td>\n",
       "      <td>NaN</td>\n",
       "      <td>DISTRICT ATTORNEY-MANHATTAN</td>\n",
       "      <td>ABRAHAM</td>\n",
       "      <td>JONATHAN</td>\n",
       "      <td>J</td>\n",
       "      <td>12/01/2014</td>\n",
       "      <td>MANHATTAN</td>\n",
       "      <td>COMPUTER SYSTEMS MANAGER</td>\n",
       "      <td>ACTIVE</td>\n",
       "      <td>116000.0</td>\n",
       "      <td>per Annum</td>\n",
       "      <td>1831.00</td>\n",
       "      <td>115104.57</td>\n",
       "      <td>0.00</td>\n",
       "      <td>0.00</td>\n",
       "      <td>0.0</td>\n",
       "    </tr>\n",
       "    <tr>\n",
       "      <td>4</td>\n",
       "      <td>2016</td>\n",
       "      <td>NaN</td>\n",
       "      <td>DISTRICT ATTORNEY-MANHATTAN</td>\n",
       "      <td>ABRAMS</td>\n",
       "      <td>JOSEPH</td>\n",
       "      <td>NaN</td>\n",
       "      <td>05/21/2015</td>\n",
       "      <td>MANHATTAN</td>\n",
       "      <td>COLLEGE AIDE</td>\n",
       "      <td>CEASED</td>\n",
       "      <td>1.0</td>\n",
       "      <td>per Hour</td>\n",
       "      <td>0.00</td>\n",
       "      <td>3500.00</td>\n",
       "      <td>0.00</td>\n",
       "      <td>0.00</td>\n",
       "      <td>0.0</td>\n",
       "    </tr>\n",
       "  </tbody>\n",
       "</table>\n",
       "</div>"
      ],
      "text/plain": [
       "   Fiscal Year  Payroll Number                  Agency Name  Last Name  \\\n",
       "0         2016             NaN  DISTRICT ATTORNEY-MANHATTAN  ABA'AHMID   \n",
       "1         2016             NaN  DISTRICT ATTORNEY-MANHATTAN    ABENSUR   \n",
       "2         2016             NaN  DISTRICT ATTORNEY-MANHATTAN  ABOUNAOUM   \n",
       "3         2016             NaN  DISTRICT ATTORNEY-MANHATTAN    ABRAHAM   \n",
       "4         2016             NaN  DISTRICT ATTORNEY-MANHATTAN     ABRAMS   \n",
       "\n",
       "  First Name Mid Init Agency Start Date Work Location Borough  \\\n",
       "0  RAHASHEEM        E        07/14/2003             MANHATTAN   \n",
       "1   MARGARET      NaN        06/12/1995             MANHATTAN   \n",
       "2     ANDREA        L        10/11/2011             MANHATTAN   \n",
       "3   JONATHAN        J        12/01/2014             MANHATTAN   \n",
       "4     JOSEPH      NaN        05/21/2015             MANHATTAN   \n",
       "\n",
       "           Title Description Leave Status as of June 30  Base Salary  \\\n",
       "0        COMMUNITY ASSOCIATE                     ACTIVE      47678.0   \n",
       "1  ADMINISTRATIVE ACCOUNTANT                     ACTIVE     119959.0   \n",
       "2        COMMUNITY ASSOCIATE                   ON LEAVE      39966.0   \n",
       "3   COMPUTER SYSTEMS MANAGER                     ACTIVE     116000.0   \n",
       "4               COLLEGE AIDE                     CEASED          1.0   \n",
       "\n",
       "   Pay Basis  Regular Hours  Regular Gross Paid  OT Hours  Total OT Paid  \\\n",
       "0  per Annum        1830.00            47166.03      2.25          57.28   \n",
       "1  per Annum        1831.00           119042.50      0.00           0.00   \n",
       "2  per Annum        1181.68            27452.62      1.00          21.34   \n",
       "3  per Annum        1831.00           115104.57      0.00           0.00   \n",
       "4   per Hour           0.00             3500.00      0.00           0.00   \n",
       "\n",
       "   Total Other Pay  \n",
       "0              0.0  \n",
       "1              0.0  \n",
       "2             33.0  \n",
       "3              0.0  \n",
       "4              0.0  "
      ]
     },
     "execution_count": 3,
     "metadata": {},
     "output_type": "execute_result"
    }
   ],
   "source": [
    "payroll.head()"
   ]
  },
  {
   "cell_type": "code",
   "execution_count": 4,
   "metadata": {},
   "outputs": [
    {
     "data": {
      "text/plain": [
       "(3333096, 17)"
      ]
     },
     "execution_count": 4,
     "metadata": {},
     "output_type": "execute_result"
    }
   ],
   "source": [
    "# number of instances in the original dataset which is pretty huge\n",
    "payroll.shape"
   ]
  },
  {
   "cell_type": "code",
   "execution_count": 5,
   "metadata": {},
   "outputs": [],
   "source": [
    "# sample the data to make it more manageable\n",
    "payroll_sample = payroll.sample(int(len(payroll) / 20))"
   ]
  },
  {
   "cell_type": "code",
   "execution_count": 6,
   "metadata": {},
   "outputs": [
    {
     "name": "stdout",
     "output_type": "stream",
     "text": [
      "Original Dataset Observation Count: 3333096\n",
      "Sampled Dataset Observation Count: 166654\n"
     ]
    }
   ],
   "source": [
    "print(\"Original Dataset Observation Count: \" + str(len(payroll)))\n",
    "print(\"Sampled Dataset Observation Count: \" + str(len(payroll_sample)))"
   ]
  },
  {
   "cell_type": "code",
   "execution_count": 7,
   "metadata": {},
   "outputs": [],
   "source": [
    "# save sampled dataset\n",
    "payroll_sample.to_csv(\"city_payroll_sample.csv\")"
   ]
  },
  {
   "cell_type": "code",
   "execution_count": 8,
   "metadata": {},
   "outputs": [
    {
     "data": {
      "text/plain": [
       "17"
      ]
     },
     "execution_count": 8,
     "metadata": {},
     "output_type": "execute_result"
    }
   ],
   "source": [
    "# number of features\n",
    "payroll_sample.shape[1]"
   ]
  },
  {
   "cell_type": "code",
   "execution_count": 9,
   "metadata": {},
   "outputs": [
    {
     "name": "stdout",
     "output_type": "stream",
     "text": [
      "Feature Names: \n",
      "\n",
      "Fiscal Year\n",
      "Payroll Number\n",
      "Agency Name\n",
      "Last Name\n",
      "First Name\n",
      "Mid Init\n",
      "Agency Start Date\n",
      "Work Location Borough\n",
      "Title Description\n",
      "Leave Status as of June 30\n",
      "Base Salary\n",
      "Pay Basis\n",
      "Regular Hours\n",
      "Regular Gross Paid\n",
      "OT Hours\n",
      "Total OT Paid\n",
      "Total Other Pay\n"
     ]
    }
   ],
   "source": [
    "# printing feature names\n",
    "print(\"Feature Names: \\n\\n\" + \"\\n\".join(payroll_sample.columns))"
   ]
  },
  {
   "cell_type": "code",
   "execution_count": 10,
   "metadata": {},
   "outputs": [
    {
     "name": "stdout",
     "output_type": "stream",
     "text": [
      "<class 'pandas.core.frame.DataFrame'>\n",
      "Int64Index: 166654 entries, 1923923 to 3207282\n",
      "Data columns (total 17 columns):\n",
      "Fiscal Year                   166654 non-null int64\n",
      "Payroll Number                79474 non-null float64\n",
      "Agency Name                   166654 non-null object\n",
      "Last Name                     166572 non-null object\n",
      "First Name                    166570 non-null object\n",
      "Mid Init                      98549 non-null object\n",
      "Agency Start Date             166654 non-null object\n",
      "Work Location Borough         141358 non-null object\n",
      "Title Description             166647 non-null object\n",
      "Leave Status as of June 30    166654 non-null object\n",
      "Base Salary                   166654 non-null float64\n",
      "Pay Basis                     166654 non-null object\n",
      "Regular Hours                 166654 non-null float64\n",
      "Regular Gross Paid            166654 non-null float64\n",
      "OT Hours                      166654 non-null float64\n",
      "Total OT Paid                 166654 non-null float64\n",
      "Total Other Pay               166654 non-null float64\n",
      "dtypes: float64(7), int64(1), object(9)\n",
      "memory usage: 22.9+ MB\n",
      "Datatypes: \n",
      "\n",
      " None\n"
     ]
    }
   ],
   "source": [
    "# data types\n",
    "print(\"Datatypes: \\n\\n\", payroll_sample.info())"
   ]
  },
  {
   "cell_type": "code",
   "execution_count": 11,
   "metadata": {},
   "outputs": [
    {
     "name": "stdout",
     "output_type": "stream",
     "text": [
      " Fiscal Year                            int64\n",
      "Payroll Number                       float64\n",
      "Agency Name                           object\n",
      "Last Name                             object\n",
      "First Name                            object\n",
      "Mid Init                              object\n",
      "Agency Start Date             datetime64[ns]\n",
      "Work Location Borough                 object\n",
      "Title Description                     object\n",
      "Leave Status as of June 30            object\n",
      "Base Salary                          float64\n",
      "Pay Basis                             object\n",
      "Regular Hours                        float64\n",
      "Regular Gross Paid                   float64\n",
      "OT Hours                             float64\n",
      "Total OT Paid                        float64\n",
      "Total Other Pay                      float64\n",
      "dtype: object\n"
     ]
    }
   ],
   "source": [
    "# converting Fiscal Year and Agency Start Date to Datetime64\n",
    "payroll_sample[\"Agency Start Date\"] = pd.to_datetime(payroll_sample[\"Agency Start Date\"], errors = \"coerce\")\n",
    "payroll_sample[\"Agency Name\"] = payroll_sample[\"Agency Name\"].astype(str)\n",
    "\n",
    "print(\"\", payroll_sample.dtypes)"
   ]
  },
  {
   "cell_type": "code",
   "execution_count": 12,
   "metadata": {},
   "outputs": [
    {
     "data": {
      "text/plain": [
       "True"
      ]
     },
     "execution_count": 12,
     "metadata": {},
     "output_type": "execute_result"
    }
   ],
   "source": [
    "# any missing values?\n",
    "payroll_sample.isnull().values.any()"
   ]
  },
  {
   "cell_type": "code",
   "execution_count": 13,
   "metadata": {},
   "outputs": [
    {
     "data": {
      "text/plain": [
       "180768"
      ]
     },
     "execution_count": 13,
     "metadata": {},
     "output_type": "execute_result"
    }
   ],
   "source": [
    "# total number of missing values\n",
    "payroll_sample.isnull().sum().sum()"
   ]
  },
  {
   "cell_type": "code",
   "execution_count": 14,
   "metadata": {},
   "outputs": [
    {
     "data": {
      "text/plain": [
       "Fiscal Year                       0\n",
       "Payroll Number                87180\n",
       "Agency Name                       0\n",
       "Last Name                        82\n",
       "First Name                       84\n",
       "Mid Init                      68105\n",
       "Agency Start Date                14\n",
       "Work Location Borough         25296\n",
       "Title Description                 7\n",
       "Leave Status as of June 30        0\n",
       "Base Salary                       0\n",
       "Pay Basis                         0\n",
       "Regular Hours                     0\n",
       "Regular Gross Paid                0\n",
       "OT Hours                          0\n",
       "Total OT Paid                     0\n",
       "Total Other Pay                   0\n",
       "dtype: int64"
      ]
     },
     "execution_count": 14,
     "metadata": {},
     "output_type": "execute_result"
    }
   ],
   "source": [
    "# how many missing values per feature?\n",
    "payroll_sample.isnull().sum()"
   ]
  },
  {
   "cell_type": "code",
   "execution_count": 15,
   "metadata": {},
   "outputs": [
    {
     "data": {
      "text/html": [
       "<div>\n",
       "<style scoped>\n",
       "    .dataframe tbody tr th:only-of-type {\n",
       "        vertical-align: middle;\n",
       "    }\n",
       "\n",
       "    .dataframe tbody tr th {\n",
       "        vertical-align: top;\n",
       "    }\n",
       "\n",
       "    .dataframe thead th {\n",
       "        text-align: right;\n",
       "    }\n",
       "</style>\n",
       "<table border=\"1\" class=\"dataframe\">\n",
       "  <thead>\n",
       "    <tr style=\"text-align: right;\">\n",
       "      <th></th>\n",
       "      <th>Values</th>\n",
       "      <th>Percent</th>\n",
       "    </tr>\n",
       "  </thead>\n",
       "  <tbody>\n",
       "    <tr>\n",
       "      <td>Payroll Number</td>\n",
       "      <td>87180</td>\n",
       "      <td>52.311976</td>\n",
       "    </tr>\n",
       "    <tr>\n",
       "      <td>Mid Init</td>\n",
       "      <td>68105</td>\n",
       "      <td>40.866106</td>\n",
       "    </tr>\n",
       "    <tr>\n",
       "      <td>Work Location Borough</td>\n",
       "      <td>25296</td>\n",
       "      <td>15.178754</td>\n",
       "    </tr>\n",
       "    <tr>\n",
       "      <td>First Name</td>\n",
       "      <td>84</td>\n",
       "      <td>0.050404</td>\n",
       "    </tr>\n",
       "    <tr>\n",
       "      <td>Last Name</td>\n",
       "      <td>82</td>\n",
       "      <td>0.049204</td>\n",
       "    </tr>\n",
       "    <tr>\n",
       "      <td>Agency Start Date</td>\n",
       "      <td>14</td>\n",
       "      <td>0.008401</td>\n",
       "    </tr>\n",
       "    <tr>\n",
       "      <td>Title Description</td>\n",
       "      <td>7</td>\n",
       "      <td>0.004200</td>\n",
       "    </tr>\n",
       "    <tr>\n",
       "      <td>Agency Name</td>\n",
       "      <td>0</td>\n",
       "      <td>0.000000</td>\n",
       "    </tr>\n",
       "    <tr>\n",
       "      <td>Total Other Pay</td>\n",
       "      <td>0</td>\n",
       "      <td>0.000000</td>\n",
       "    </tr>\n",
       "    <tr>\n",
       "      <td>Total OT Paid</td>\n",
       "      <td>0</td>\n",
       "      <td>0.000000</td>\n",
       "    </tr>\n",
       "    <tr>\n",
       "      <td>Leave Status as of June 30</td>\n",
       "      <td>0</td>\n",
       "      <td>0.000000</td>\n",
       "    </tr>\n",
       "    <tr>\n",
       "      <td>Base Salary</td>\n",
       "      <td>0</td>\n",
       "      <td>0.000000</td>\n",
       "    </tr>\n",
       "    <tr>\n",
       "      <td>Pay Basis</td>\n",
       "      <td>0</td>\n",
       "      <td>0.000000</td>\n",
       "    </tr>\n",
       "    <tr>\n",
       "      <td>Regular Hours</td>\n",
       "      <td>0</td>\n",
       "      <td>0.000000</td>\n",
       "    </tr>\n",
       "    <tr>\n",
       "      <td>Regular Gross Paid</td>\n",
       "      <td>0</td>\n",
       "      <td>0.000000</td>\n",
       "    </tr>\n",
       "    <tr>\n",
       "      <td>OT Hours</td>\n",
       "      <td>0</td>\n",
       "      <td>0.000000</td>\n",
       "    </tr>\n",
       "    <tr>\n",
       "      <td>Fiscal Year</td>\n",
       "      <td>0</td>\n",
       "      <td>0.000000</td>\n",
       "    </tr>\n",
       "  </tbody>\n",
       "</table>\n",
       "</div>"
      ],
      "text/plain": [
       "                            Values    Percent\n",
       "Payroll Number               87180  52.311976\n",
       "Mid Init                     68105  40.866106\n",
       "Work Location Borough        25296  15.178754\n",
       "First Name                      84   0.050404\n",
       "Last Name                       82   0.049204\n",
       "Agency Start Date               14   0.008401\n",
       "Title Description                7   0.004200\n",
       "Agency Name                      0   0.000000\n",
       "Total Other Pay                  0   0.000000\n",
       "Total OT Paid                    0   0.000000\n",
       "Leave Status as of June 30       0   0.000000\n",
       "Base Salary                      0   0.000000\n",
       "Pay Basis                        0   0.000000\n",
       "Regular Hours                    0   0.000000\n",
       "Regular Gross Paid               0   0.000000\n",
       "OT Hours                         0   0.000000\n",
       "Fiscal Year                      0   0.000000"
      ]
     },
     "execution_count": 15,
     "metadata": {},
     "output_type": "execute_result"
    }
   ],
   "source": [
    "# percentage of missing values for each feature\n",
    "\n",
    "values = payroll_sample.isnull().sum().sort_values(ascending=False)\n",
    "percent = payroll_sample.isnull().mean().sort_values(ascending=False)\n",
    "percent *= 100\n",
    "missing_data = pd.concat([values, percent], axis=1, keys=['Values', 'Percent'])\n",
    "missing_data.head(20)"
   ]
  },
  {
   "cell_type": "markdown",
   "metadata": {},
   "source": [
    "### Since Work Location Borough is important we'll keep it and take care of 1 observation in title description variable and keep the variable"
   ]
  },
  {
   "cell_type": "code",
   "execution_count": 16,
   "metadata": {},
   "outputs": [
    {
     "data": {
      "text/plain": [
       "25295"
      ]
     },
     "execution_count": 16,
     "metadata": {},
     "output_type": "execute_result"
    }
   ],
   "source": [
    "# dealing or removing missing data with greater than 20 percent data missing\n",
    "payroll_sample = payroll_sample.drop((missing_data[missing_data['Percent'] > 20]).index,1)\n",
    "payroll_sample = payroll_sample.drop(payroll_sample.loc[payroll_sample['Title Description'].isnull()].index)\n",
    "payroll_sample.isnull().sum().max()"
   ]
  },
  {
   "cell_type": "markdown",
   "metadata": {},
   "source": [
    "### Since First and Last names are not as important for our project we'll just drop them"
   ]
  },
  {
   "cell_type": "code",
   "execution_count": 17,
   "metadata": {},
   "outputs": [],
   "source": [
    "payroll_sample = payroll_sample.drop([\"First Name\", \"Last Name\"], axis=1)"
   ]
  },
  {
   "cell_type": "code",
   "execution_count": 18,
   "metadata": {},
   "outputs": [
    {
     "data": {
      "text/html": [
       "<div>\n",
       "<style scoped>\n",
       "    .dataframe tbody tr th:only-of-type {\n",
       "        vertical-align: middle;\n",
       "    }\n",
       "\n",
       "    .dataframe tbody tr th {\n",
       "        vertical-align: top;\n",
       "    }\n",
       "\n",
       "    .dataframe thead th {\n",
       "        text-align: right;\n",
       "    }\n",
       "</style>\n",
       "<table border=\"1\" class=\"dataframe\">\n",
       "  <thead>\n",
       "    <tr style=\"text-align: right;\">\n",
       "      <th></th>\n",
       "      <th>Values</th>\n",
       "      <th>Percent</th>\n",
       "    </tr>\n",
       "  </thead>\n",
       "  <tbody>\n",
       "    <tr>\n",
       "      <td>Work Location Borough</td>\n",
       "      <td>25295</td>\n",
       "      <td>15.178791</td>\n",
       "    </tr>\n",
       "    <tr>\n",
       "      <td>Agency Start Date</td>\n",
       "      <td>14</td>\n",
       "      <td>0.008401</td>\n",
       "    </tr>\n",
       "    <tr>\n",
       "      <td>Total Other Pay</td>\n",
       "      <td>0</td>\n",
       "      <td>0.000000</td>\n",
       "    </tr>\n",
       "    <tr>\n",
       "      <td>Total OT Paid</td>\n",
       "      <td>0</td>\n",
       "      <td>0.000000</td>\n",
       "    </tr>\n",
       "    <tr>\n",
       "      <td>OT Hours</td>\n",
       "      <td>0</td>\n",
       "      <td>0.000000</td>\n",
       "    </tr>\n",
       "  </tbody>\n",
       "</table>\n",
       "</div>"
      ],
      "text/plain": [
       "                       Values    Percent\n",
       "Work Location Borough   25295  15.178791\n",
       "Agency Start Date          14   0.008401\n",
       "Total Other Pay             0   0.000000\n",
       "Total OT Paid               0   0.000000\n",
       "OT Hours                    0   0.000000"
      ]
     },
     "execution_count": 18,
     "metadata": {},
     "output_type": "execute_result"
    }
   ],
   "source": [
    "values = payroll_sample.isnull().sum().sort_values(ascending=False)\n",
    "percent = payroll_sample.isnull().mean().sort_values(ascending=False)\n",
    "percent *= 100\n",
    "missing_data = pd.concat([values, percent], axis=1, keys=['Values', 'Percent'])\n",
    "missing_data.head()"
   ]
  },
  {
   "cell_type": "code",
   "execution_count": 19,
   "metadata": {},
   "outputs": [
    {
     "data": {
      "text/plain": [
       "True"
      ]
     },
     "execution_count": 19,
     "metadata": {},
     "output_type": "execute_result"
    }
   ],
   "source": [
    "# any missing values?\n",
    "payroll_sample.isnull().values.any()"
   ]
  },
  {
   "cell_type": "code",
   "execution_count": 20,
   "metadata": {},
   "outputs": [
    {
     "data": {
      "text/plain": [
       "<matplotlib.axes._subplots.AxesSubplot at 0x26e6a424bc8>"
      ]
     },
     "execution_count": 20,
     "metadata": {},
     "output_type": "execute_result"
    },
    {
     "data": {
      "image/png": "[encoded data removed]",
      "text/plain": [
       "<Figure size 576x432 with 2 Axes>"
      ]
     },
     "metadata": {
      "needs_background": "light"
     },
     "output_type": "display_data"
    }
   ],
   "source": [
    "# correlation\n",
    "\n",
    "corrmap = payroll_sample.corr()\n",
    "f, ax = plt.subplots(figsize=(8, 6))\n",
    "sns.heatmap(corrmap, vmax=1, square=True)"
   ]
  },
  {
   "cell_type": "code",
   "execution_count": 21,
   "metadata": {},
   "outputs": [
    {
     "data": {
      "text/html": [
       "<div>\n",
       "<style scoped>\n",
       "    .dataframe tbody tr th:only-of-type {\n",
       "        vertical-align: middle;\n",
       "    }\n",
       "\n",
       "    .dataframe tbody tr th {\n",
       "        vertical-align: top;\n",
       "    }\n",
       "\n",
       "    .dataframe thead th {\n",
       "        text-align: right;\n",
       "    }\n",
       "</style>\n",
       "<table border=\"1\" class=\"dataframe\">\n",
       "  <thead>\n",
       "    <tr style=\"text-align: right;\">\n",
       "      <th></th>\n",
       "      <th>Fiscal Year</th>\n",
       "      <th>Base Salary</th>\n",
       "      <th>Regular Hours</th>\n",
       "      <th>Regular Gross Paid</th>\n",
       "      <th>OT Hours</th>\n",
       "      <th>Total OT Paid</th>\n",
       "      <th>Total Other Pay</th>\n",
       "    </tr>\n",
       "  </thead>\n",
       "  <tbody>\n",
       "    <tr>\n",
       "      <td>Fiscal Year</td>\n",
       "      <td>1.000000</td>\n",
       "      <td>0.058602</td>\n",
       "      <td>0.004450</td>\n",
       "      <td>0.067705</td>\n",
       "      <td>-0.000078</td>\n",
       "      <td>0.014607</td>\n",
       "      <td>-0.000971</td>\n",
       "    </tr>\n",
       "    <tr>\n",
       "      <td>Base Salary</td>\n",
       "      <td>0.058602</td>\n",
       "      <td>1.000000</td>\n",
       "      <td>0.351093</td>\n",
       "      <td>0.842919</td>\n",
       "      <td>0.197540</td>\n",
       "      <td>0.238005</td>\n",
       "      <td>0.314163</td>\n",
       "    </tr>\n",
       "    <tr>\n",
       "      <td>Regular Hours</td>\n",
       "      <td>0.004450</td>\n",
       "      <td>0.351093</td>\n",
       "      <td>1.000000</td>\n",
       "      <td>0.451520</td>\n",
       "      <td>0.595025</td>\n",
       "      <td>0.546586</td>\n",
       "      <td>0.589804</td>\n",
       "    </tr>\n",
       "    <tr>\n",
       "      <td>Regular Gross Paid</td>\n",
       "      <td>0.067705</td>\n",
       "      <td>0.842919</td>\n",
       "      <td>0.451520</td>\n",
       "      <td>1.000000</td>\n",
       "      <td>0.281684</td>\n",
       "      <td>0.343474</td>\n",
       "      <td>0.387387</td>\n",
       "    </tr>\n",
       "    <tr>\n",
       "      <td>OT Hours</td>\n",
       "      <td>-0.000078</td>\n",
       "      <td>0.197540</td>\n",
       "      <td>0.595025</td>\n",
       "      <td>0.281684</td>\n",
       "      <td>1.000000</td>\n",
       "      <td>0.923240</td>\n",
       "      <td>0.538206</td>\n",
       "    </tr>\n",
       "    <tr>\n",
       "      <td>Total OT Paid</td>\n",
       "      <td>0.014607</td>\n",
       "      <td>0.238005</td>\n",
       "      <td>0.546586</td>\n",
       "      <td>0.343474</td>\n",
       "      <td>0.923240</td>\n",
       "      <td>1.000000</td>\n",
       "      <td>0.617494</td>\n",
       "    </tr>\n",
       "    <tr>\n",
       "      <td>Total Other Pay</td>\n",
       "      <td>-0.000971</td>\n",
       "      <td>0.314163</td>\n",
       "      <td>0.589804</td>\n",
       "      <td>0.387387</td>\n",
       "      <td>0.538206</td>\n",
       "      <td>0.617494</td>\n",
       "      <td>1.000000</td>\n",
       "    </tr>\n",
       "  </tbody>\n",
       "</table>\n",
       "</div>"
      ],
      "text/plain": [
       "                    Fiscal Year  Base Salary  Regular Hours  \\\n",
       "Fiscal Year            1.000000     0.058602       0.004450   \n",
       "Base Salary            0.058602     1.000000       0.351093   \n",
       "Regular Hours          0.004450     0.351093       1.000000   \n",
       "Regular Gross Paid     0.067705     0.842919       0.451520   \n",
       "OT Hours              -0.000078     0.197540       0.595025   \n",
       "Total OT Paid          0.014607     0.238005       0.546586   \n",
       "Total Other Pay       -0.000971     0.314163       0.589804   \n",
       "\n",
       "                    Regular Gross Paid  OT Hours  Total OT Paid  \\\n",
       "Fiscal Year                   0.067705 -0.000078       0.014607   \n",
       "Base Salary                   0.842919  0.197540       0.238005   \n",
       "Regular Hours                 0.451520  0.595025       0.546586   \n",
       "Regular Gross Paid            1.000000  0.281684       0.343474   \n",
       "OT Hours                      0.281684  1.000000       0.923240   \n",
       "Total OT Paid                 0.343474  0.923240       1.000000   \n",
       "Total Other Pay               0.387387  0.538206       0.617494   \n",
       "\n",
       "                    Total Other Pay  \n",
       "Fiscal Year               -0.000971  \n",
       "Base Salary                0.314163  \n",
       "Regular Hours              0.589804  \n",
       "Regular Gross Paid         0.387387  \n",
       "OT Hours                   0.538206  \n",
       "Total OT Paid              0.617494  \n",
       "Total Other Pay            1.000000  "
      ]
     },
     "execution_count": 21,
     "metadata": {},
     "output_type": "execute_result"
    }
   ],
   "source": [
    "pearsoncorr = payroll_sample.corr(method='pearson')\n",
    "pearsoncorr"
   ]
  },
  {
   "cell_type": "code",
   "execution_count": 22,
   "metadata": {},
   "outputs": [
    {
     "data": {
      "text/plain": [
       "<matplotlib.axes._subplots.AxesSubplot at 0x26e14316108>"
      ]
     },
     "execution_count": 22,
     "metadata": {},
     "output_type": "execute_result"
    },
    {
     "data": {
      "image/png": "[encoded data removed]",
      "text/plain": [
       "<Figure size 576x432 with 2 Axes>"
      ]
     },
     "metadata": {
      "needs_background": "light"
     },
     "output_type": "display_data"
    }
   ],
   "source": [
    "f, ax = plt.subplots(figsize=(8, 6))\n",
    "sns.heatmap(pearsoncorr, \n",
    "            xticklabels=pearsoncorr.columns,\n",
    "            yticklabels=pearsoncorr.columns,\n",
    "            cmap='RdBu_r',\n",
    "            annot=True,\n",
    "            linewidth=0.5)"
   ]
  },
  {
   "cell_type": "code",
   "execution_count": 23,
   "metadata": {},
   "outputs": [],
   "source": [
    "# to be continued..."
   ]
  },
  {
   "cell_type": "code",
   "execution_count": 24,
   "metadata": {},
   "outputs": [
    {
     "data": {
      "text/html": [
       "<div>\n",
       "<style scoped>\n",
       "    .dataframe tbody tr th:only-of-type {\n",
       "        vertical-align: middle;\n",
       "    }\n",
       "\n",
       "    .dataframe tbody tr th {\n",
       "        vertical-align: top;\n",
       "    }\n",
       "\n",
       "    .dataframe thead th {\n",
       "        text-align: right;\n",
       "    }\n",
       "</style>\n",
       "<table border=\"1\" class=\"dataframe\">\n",
       "  <thead>\n",
       "    <tr style=\"text-align: right;\">\n",
       "      <th></th>\n",
       "      <th>Fiscal Year</th>\n",
       "      <th>Agency Name</th>\n",
       "      <th>Agency Start Date</th>\n",
       "      <th>Work Location Borough</th>\n",
       "      <th>Title Description</th>\n",
       "      <th>Leave Status as of June 30</th>\n",
       "      <th>Base Salary</th>\n",
       "      <th>Pay Basis</th>\n",
       "      <th>Regular Hours</th>\n",
       "      <th>Regular Gross Paid</th>\n",
       "      <th>OT Hours</th>\n",
       "      <th>Total OT Paid</th>\n",
       "      <th>Total Other Pay</th>\n",
       "      <th>Total Pay</th>\n",
       "    </tr>\n",
       "  </thead>\n",
       "  <tbody>\n",
       "    <tr>\n",
       "      <td>1923923</td>\n",
       "      <td>2017</td>\n",
       "      <td>DEPT OF ED PEDAGOGICAL</td>\n",
       "      <td>1999-09-07</td>\n",
       "      <td>MANHATTAN</td>\n",
       "      <td>TEACHER</td>\n",
       "      <td>ACTIVE</td>\n",
       "      <td>97133.00</td>\n",
       "      <td>per Annum</td>\n",
       "      <td>0.0</td>\n",
       "      <td>90871.71</td>\n",
       "      <td>0.0</td>\n",
       "      <td>0.0</td>\n",
       "      <td>8.08</td>\n",
       "      <td>90871.71</td>\n",
       "    </tr>\n",
       "    <tr>\n",
       "      <td>1923377</td>\n",
       "      <td>2017</td>\n",
       "      <td>DEPT OF ED PEDAGOGICAL</td>\n",
       "      <td>2011-04-27</td>\n",
       "      <td>MANHATTAN</td>\n",
       "      <td>TEACHER</td>\n",
       "      <td>ACTIVE</td>\n",
       "      <td>86185.00</td>\n",
       "      <td>per Annum</td>\n",
       "      <td>0.0</td>\n",
       "      <td>81150.89</td>\n",
       "      <td>0.0</td>\n",
       "      <td>0.0</td>\n",
       "      <td>0.00</td>\n",
       "      <td>81150.89</td>\n",
       "    </tr>\n",
       "    <tr>\n",
       "      <td>2405401</td>\n",
       "      <td>2018</td>\n",
       "      <td>DEPT OF ED PEDAGOGICAL</td>\n",
       "      <td>2012-09-04</td>\n",
       "      <td>MANHATTAN</td>\n",
       "      <td>SCHOOL PSYCHOLGIST</td>\n",
       "      <td>ACTIVE</td>\n",
       "      <td>90113.00</td>\n",
       "      <td>per Annum</td>\n",
       "      <td>0.0</td>\n",
       "      <td>85817.76</td>\n",
       "      <td>0.0</td>\n",
       "      <td>0.0</td>\n",
       "      <td>0.00</td>\n",
       "      <td>85817.76</td>\n",
       "    </tr>\n",
       "    <tr>\n",
       "      <td>2464443</td>\n",
       "      <td>2018</td>\n",
       "      <td>DEPT OF ED PARA PROFESSIONALS</td>\n",
       "      <td>2002-07-16</td>\n",
       "      <td>MANHATTAN</td>\n",
       "      <td>ANNUAL ED PARA</td>\n",
       "      <td>CEASED</td>\n",
       "      <td>39842.00</td>\n",
       "      <td>per Annum</td>\n",
       "      <td>0.0</td>\n",
       "      <td>31361.47</td>\n",
       "      <td>0.0</td>\n",
       "      <td>0.0</td>\n",
       "      <td>0.00</td>\n",
       "      <td>31361.47</td>\n",
       "    </tr>\n",
       "    <tr>\n",
       "      <td>1444611</td>\n",
       "      <td>2014</td>\n",
       "      <td>DEPT OF ED PER SESSION TEACHER</td>\n",
       "      <td>1997-09-02</td>\n",
       "      <td>NaN</td>\n",
       "      <td>TEACHER- PER SESSION</td>\n",
       "      <td>ACTIVE</td>\n",
       "      <td>33.18</td>\n",
       "      <td>per Day</td>\n",
       "      <td>0.0</td>\n",
       "      <td>27.99</td>\n",
       "      <td>0.0</td>\n",
       "      <td>0.0</td>\n",
       "      <td>0.00</td>\n",
       "      <td>27.99</td>\n",
       "    </tr>\n",
       "  </tbody>\n",
       "</table>\n",
       "</div>"
      ],
      "text/plain": [
       "         Fiscal Year                     Agency Name Agency Start Date  \\\n",
       "1923923         2017          DEPT OF ED PEDAGOGICAL        1999-09-07   \n",
       "1923377         2017          DEPT OF ED PEDAGOGICAL        2011-04-27   \n",
       "2405401         2018          DEPT OF ED PEDAGOGICAL        2012-09-04   \n",
       "2464443         2018   DEPT OF ED PARA PROFESSIONALS        2002-07-16   \n",
       "1444611         2014  DEPT OF ED PER SESSION TEACHER        1997-09-02   \n",
       "\n",
       "        Work Location Borough     Title Description  \\\n",
       "1923923             MANHATTAN               TEACHER   \n",
       "1923377             MANHATTAN               TEACHER   \n",
       "2405401             MANHATTAN    SCHOOL PSYCHOLGIST   \n",
       "2464443             MANHATTAN        ANNUAL ED PARA   \n",
       "1444611                   NaN  TEACHER- PER SESSION   \n",
       "\n",
       "        Leave Status as of June 30  Base Salary  Pay Basis  Regular Hours  \\\n",
       "1923923                     ACTIVE     97133.00  per Annum            0.0   \n",
       "1923377                     ACTIVE     86185.00  per Annum            0.0   \n",
       "2405401                     ACTIVE     90113.00  per Annum            0.0   \n",
       "2464443                     CEASED     39842.00  per Annum            0.0   \n",
       "1444611                     ACTIVE        33.18    per Day            0.0   \n",
       "\n",
       "         Regular Gross Paid  OT Hours  Total OT Paid  Total Other Pay  \\\n",
       "1923923            90871.71       0.0            0.0             8.08   \n",
       "1923377            81150.89       0.0            0.0             0.00   \n",
       "2405401            85817.76       0.0            0.0             0.00   \n",
       "2464443            31361.47       0.0            0.0             0.00   \n",
       "1444611               27.99       0.0            0.0             0.00   \n",
       "\n",
       "         Total Pay  \n",
       "1923923   90871.71  \n",
       "1923377   81150.89  \n",
       "2405401   85817.76  \n",
       "2464443   31361.47  \n",
       "1444611      27.99  "
      ]
     },
     "execution_count": 24,
     "metadata": {},
     "output_type": "execute_result"
    }
   ],
   "source": [
    "# total pay of Regular Gross Paid and Total OT Paid (OT = overtime)\n",
    "payroll_sample[\"Total Pay\"] = payroll_sample[\"Regular Gross Paid\"] + payroll_sample[\"Total OT Paid\"]\n",
    "payroll_sample.head()"
   ]
  },
  {
   "cell_type": "code",
   "execution_count": 25,
   "metadata": {},
   "outputs": [],
   "source": [
    "# counts of municipal employees\n",
    "    # year-to-year\n",
    "    # agency-to-agency\n",
    "    # borough-to-borough"
   ]
  },
  {
   "cell_type": "code",
   "execution_count": 26,
   "metadata": {},
   "outputs": [],
   "source": [
    "# distributions of base pay\n",
    "    # whole\n",
    "    # by borough "
   ]
  },
  {
   "cell_type": "code",
   "execution_count": 27,
   "metadata": {},
   "outputs": [],
   "source": [
    "# distributions of actual pay\n",
    "    # whole\n",
    "    # by borough "
   ]
  },
  {
   "cell_type": "code",
   "execution_count": 28,
   "metadata": {},
   "outputs": [],
   "source": [
    "# hypothesis testing for actual pay"
   ]
  },
  {
   "cell_type": "code",
   "execution_count": 29,
   "metadata": {},
   "outputs": [],
   "source": [
    "# distributions of the difference between base pay and actual pay"
   ]
  },
  {
   "cell_type": "code",
   "execution_count": 30,
   "metadata": {},
   "outputs": [],
   "source": [
    "# distributions of overtime"
   ]
  },
  {
   "cell_type": "code",
   "execution_count": 31,
   "metadata": {},
   "outputs": [],
   "source": [
    "# bar graph of the pay of active and ceased employees"
   ]
  },
  {
   "cell_type": "code",
   "execution_count": 32,
   "metadata": {},
   "outputs": [],
   "source": [
    "# bar graph of pay basis"
   ]
  },
  {
   "cell_type": "code",
   "execution_count": 33,
   "metadata": {},
   "outputs": [],
   "source": [
    "# regular hours vs. base salary scatterplot"
   ]
  },
  {
   "cell_type": "code",
   "execution_count": 34,
   "metadata": {},
   "outputs": [],
   "source": [
    "# Pearson's R for regular hours vs base salary"
   ]
  },
  {
   "cell_type": "code",
   "execution_count": 35,
   "metadata": {},
   "outputs": [],
   "source": [
    "# agency start date vs. actual pay"
   ]
  },
  {
   "cell_type": "code",
   "execution_count": 36,
   "metadata": {},
   "outputs": [],
   "source": [
    "# double bar graph of base salary and regular gross paid \n",
    "    # by borough\n",
    "    # by agency "
   ]
  },
  {
   "cell_type": "code",
   "execution_count": 37,
   "metadata": {},
   "outputs": [],
   "source": [
    "# swarm plot of borough vs. regular gross paid "
   ]
  },
  {
   "cell_type": "code",
   "execution_count": 38,
   "metadata": {},
   "outputs": [],
   "source": [
    "# swarm plot of fiscal year vs. regular gross paid"
   ]
  },
  {
   "cell_type": "code",
   "execution_count": 39,
   "metadata": {},
   "outputs": [],
   "source": [
    "# total hours (regular hours + OT Hours) vs regular gross paid"
   ]
  },
  {
   "cell_type": "code",
   "execution_count": 40,
   "metadata": {},
   "outputs": [],
   "source": [
    "# K-Nearest Neighbor Regressor with k = 5 to predict regular gross paid\n",
    "    # manually compute for one random observation\n",
    "    # create a 80/20 train-test split and utilize a k-nearest neighbor algorithm\n",
    "        # compute mse and rmse\n",
    "        # regular gross paid vs residuals "
   ]
  }
 ],
 "metadata": {
  "kernelspec": {
   "display_name": "Python 3",
   "language": "python",
   "name": "python3"
  },
  "language_info": {
   "codemirror_mode": {
    "name": "ipython",
    "version": 3
   },
   "file_extension": ".py",
   "mimetype": "text/x-python",
   "name": "python",
   "nbconvert_exporter": "python",
   "pygments_lexer": "ipython3",
   "version": "3.7.4"
  }
 },
 "nbformat": 4,
 "nbformat_minor": 2
}
