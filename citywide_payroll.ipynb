{
 "cells": [
  {
   "cell_type": "code",
   "execution_count": 1,
   "metadata": {},
   "outputs": [],
   "source": [
    "import numpy as np\n",
    "import pandas as pd\n",
    "import datetime\n",
    "import seaborn as sns\n",
    "import matplotlib.pyplot as plt\n",
    "%matplotlib inline"
   ]
  },
  {
   "cell_type": "code",
   "execution_count": 2,
   "metadata": {
    "scrolled": true
   },
   "outputs": [
    {
     "name": "stderr",
     "output_type": "stream",
     "text": [
      "C:\\Anaconda3\\lib\\site-packages\\IPython\\core\\interactiveshell.py:3057: DtypeWarning: Columns (7) have mixed types. Specify dtype option on import or set low_memory=False.\n",
      "  interactivity=interactivity, compiler=compiler, result=result)\n"
     ]
    }
   ],
   "source": [
    "# load in the data\n",
    "missing_values = [\"n/a\", \"na\", \"--\", \"-\", \"NA\"]\n",
    "payroll = pd.read_csv(\"../nyc_payroll/Input/city_payroll.csv\", na_values = missing_values)"
   ]
  },
  {
   "cell_type": "code",
   "execution_count": 3,
   "metadata": {
    "scrolled": true
   },
   "outputs": [
    {
     "data": {
      "text/html": [
       "<div>\n",
       "<style scoped>\n",
       "    .dataframe tbody tr th:only-of-type {\n",
       "        vertical-align: middle;\n",
       "    }\n",
       "\n",
       "    .dataframe tbody tr th {\n",
       "        vertical-align: top;\n",
       "    }\n",
       "\n",
       "    .dataframe thead th {\n",
       "        text-align: right;\n",
       "    }\n",
       "</style>\n",
       "<table border=\"1\" class=\"dataframe\">\n",
       "  <thead>\n",
       "    <tr style=\"text-align: right;\">\n",
       "      <th></th>\n",
       "      <th>Fiscal Year</th>\n",
       "      <th>Payroll Number</th>\n",
       "      <th>Agency Name</th>\n",
       "      <th>Last Name</th>\n",
       "      <th>First Name</th>\n",
       "      <th>Mid Init</th>\n",
       "      <th>Agency Start Date</th>\n",
       "      <th>Work Location Borough</th>\n",
       "      <th>Title Description</th>\n",
       "      <th>Leave Status as of June 30</th>\n",
       "      <th>Base Salary</th>\n",
       "      <th>Pay Basis</th>\n",
       "      <th>Regular Hours</th>\n",
       "      <th>Regular Gross Paid</th>\n",
       "      <th>OT Hours</th>\n",
       "      <th>Total OT Paid</th>\n",
       "      <th>Total Other Pay</th>\n",
       "    </tr>\n",
       "  </thead>\n",
       "  <tbody>\n",
       "    <tr>\n",
       "      <th>0</th>\n",
       "      <td>2016</td>\n",
       "      <td>NaN</td>\n",
       "      <td>DISTRICT ATTORNEY-MANHATTAN</td>\n",
       "      <td>ABA'AHMID</td>\n",
       "      <td>RAHASHEEM</td>\n",
       "      <td>E</td>\n",
       "      <td>07/14/2003</td>\n",
       "      <td>MANHATTAN</td>\n",
       "      <td>COMMUNITY ASSOCIATE</td>\n",
       "      <td>ACTIVE</td>\n",
       "      <td>47678.0</td>\n",
       "      <td>per Annum</td>\n",
       "      <td>1830.00</td>\n",
       "      <td>47166.03</td>\n",
       "      <td>2.25</td>\n",
       "      <td>57.28</td>\n",
       "      <td>0.0</td>\n",
       "    </tr>\n",
       "    <tr>\n",
       "      <th>1</th>\n",
       "      <td>2016</td>\n",
       "      <td>NaN</td>\n",
       "      <td>DISTRICT ATTORNEY-MANHATTAN</td>\n",
       "      <td>ABENSUR</td>\n",
       "      <td>MARGARET</td>\n",
       "      <td>NaN</td>\n",
       "      <td>06/12/1995</td>\n",
       "      <td>MANHATTAN</td>\n",
       "      <td>ADMINISTRATIVE ACCOUNTANT</td>\n",
       "      <td>ACTIVE</td>\n",
       "      <td>119959.0</td>\n",
       "      <td>per Annum</td>\n",
       "      <td>1831.00</td>\n",
       "      <td>119042.50</td>\n",
       "      <td>0.00</td>\n",
       "      <td>0.00</td>\n",
       "      <td>0.0</td>\n",
       "    </tr>\n",
       "    <tr>\n",
       "      <th>2</th>\n",
       "      <td>2016</td>\n",
       "      <td>NaN</td>\n",
       "      <td>DISTRICT ATTORNEY-MANHATTAN</td>\n",
       "      <td>ABOUNAOUM</td>\n",
       "      <td>ANDREA</td>\n",
       "      <td>L</td>\n",
       "      <td>10/11/2011</td>\n",
       "      <td>MANHATTAN</td>\n",
       "      <td>COMMUNITY ASSOCIATE</td>\n",
       "      <td>ON LEAVE</td>\n",
       "      <td>39966.0</td>\n",
       "      <td>per Annum</td>\n",
       "      <td>1181.68</td>\n",
       "      <td>27452.62</td>\n",
       "      <td>1.00</td>\n",
       "      <td>21.34</td>\n",
       "      <td>33.0</td>\n",
       "    </tr>\n",
       "    <tr>\n",
       "      <th>3</th>\n",
       "      <td>2016</td>\n",
       "      <td>NaN</td>\n",
       "      <td>DISTRICT ATTORNEY-MANHATTAN</td>\n",
       "      <td>ABRAHAM</td>\n",
       "      <td>JONATHAN</td>\n",
       "      <td>J</td>\n",
       "      <td>12/01/2014</td>\n",
       "      <td>MANHATTAN</td>\n",
       "      <td>COMPUTER SYSTEMS MANAGER</td>\n",
       "      <td>ACTIVE</td>\n",
       "      <td>116000.0</td>\n",
       "      <td>per Annum</td>\n",
       "      <td>1831.00</td>\n",
       "      <td>115104.57</td>\n",
       "      <td>0.00</td>\n",
       "      <td>0.00</td>\n",
       "      <td>0.0</td>\n",
       "    </tr>\n",
       "    <tr>\n",
       "      <th>4</th>\n",
       "      <td>2016</td>\n",
       "      <td>NaN</td>\n",
       "      <td>DISTRICT ATTORNEY-MANHATTAN</td>\n",
       "      <td>ABRAMS</td>\n",
       "      <td>JOSEPH</td>\n",
       "      <td>NaN</td>\n",
       "      <td>05/21/2015</td>\n",
       "      <td>MANHATTAN</td>\n",
       "      <td>COLLEGE AIDE</td>\n",
       "      <td>CEASED</td>\n",
       "      <td>1.0</td>\n",
       "      <td>per Hour</td>\n",
       "      <td>0.00</td>\n",
       "      <td>3500.00</td>\n",
       "      <td>0.00</td>\n",
       "      <td>0.00</td>\n",
       "      <td>0.0</td>\n",
       "    </tr>\n",
       "  </tbody>\n",
       "</table>\n",
       "</div>"
      ],
      "text/plain": [
       "   Fiscal Year  Payroll Number                  Agency Name  Last Name  \\\n",
       "0         2016             NaN  DISTRICT ATTORNEY-MANHATTAN  ABA'AHMID   \n",
       "1         2016             NaN  DISTRICT ATTORNEY-MANHATTAN    ABENSUR   \n",
       "2         2016             NaN  DISTRICT ATTORNEY-MANHATTAN  ABOUNAOUM   \n",
       "3         2016             NaN  DISTRICT ATTORNEY-MANHATTAN    ABRAHAM   \n",
       "4         2016             NaN  DISTRICT ATTORNEY-MANHATTAN     ABRAMS   \n",
       "\n",
       "  First Name Mid Init Agency Start Date Work Location Borough  \\\n",
       "0  RAHASHEEM        E        07/14/2003             MANHATTAN   \n",
       "1   MARGARET      NaN        06/12/1995             MANHATTAN   \n",
       "2     ANDREA        L        10/11/2011             MANHATTAN   \n",
       "3   JONATHAN        J        12/01/2014             MANHATTAN   \n",
       "4     JOSEPH      NaN        05/21/2015             MANHATTAN   \n",
       "\n",
       "           Title Description Leave Status as of June 30  Base Salary  \\\n",
       "0        COMMUNITY ASSOCIATE                     ACTIVE      47678.0   \n",
       "1  ADMINISTRATIVE ACCOUNTANT                     ACTIVE     119959.0   \n",
       "2        COMMUNITY ASSOCIATE                   ON LEAVE      39966.0   \n",
       "3   COMPUTER SYSTEMS MANAGER                     ACTIVE     116000.0   \n",
       "4               COLLEGE AIDE                     CEASED          1.0   \n",
       "\n",
       "   Pay Basis  Regular Hours  Regular Gross Paid  OT Hours  Total OT Paid  \\\n",
       "0  per Annum        1830.00            47166.03      2.25          57.28   \n",
       "1  per Annum        1831.00           119042.50      0.00           0.00   \n",
       "2  per Annum        1181.68            27452.62      1.00          21.34   \n",
       "3  per Annum        1831.00           115104.57      0.00           0.00   \n",
       "4   per Hour           0.00             3500.00      0.00           0.00   \n",
       "\n",
       "   Total Other Pay  \n",
       "0              0.0  \n",
       "1              0.0  \n",
       "2             33.0  \n",
       "3              0.0  \n",
       "4              0.0  "
      ]
     },
     "execution_count": 3,
     "metadata": {},
     "output_type": "execute_result"
    }
   ],
   "source": [
    "payroll.head()"
   ]
  },
  {
   "cell_type": "code",
   "execution_count": 4,
   "metadata": {},
   "outputs": [
    {
     "data": {
      "text/plain": [
       "(3333096, 17)"
      ]
     },
     "execution_count": 4,
     "metadata": {},
     "output_type": "execute_result"
    }
   ],
   "source": [
    "# number of instances in the original dataset which is pretty huge\n",
    "payroll.shape"
   ]
  },
  {
   "cell_type": "code",
   "execution_count": 5,
   "metadata": {},
   "outputs": [],
   "source": [
    "# sample the data to make it more manageable\n",
    "payroll_sample = payroll.sample(int(len(payroll) / 20))\n",
    "payroll_sample.reset_index(inplace = True)"
   ]
  },
  {
   "cell_type": "code",
   "execution_count": 6,
   "metadata": {},
   "outputs": [
    {
     "data": {
      "text/html": [
       "<div>\n",
       "<style scoped>\n",
       "    .dataframe tbody tr th:only-of-type {\n",
       "        vertical-align: middle;\n",
       "    }\n",
       "\n",
       "    .dataframe tbody tr th {\n",
       "        vertical-align: top;\n",
       "    }\n",
       "\n",
       "    .dataframe thead th {\n",
       "        text-align: right;\n",
       "    }\n",
       "</style>\n",
       "<table border=\"1\" class=\"dataframe\">\n",
       "  <thead>\n",
       "    <tr style=\"text-align: right;\">\n",
       "      <th></th>\n",
       "      <th>index</th>\n",
       "      <th>Fiscal Year</th>\n",
       "      <th>Payroll Number</th>\n",
       "      <th>Agency Name</th>\n",
       "      <th>Last Name</th>\n",
       "      <th>First Name</th>\n",
       "      <th>Mid Init</th>\n",
       "      <th>Agency Start Date</th>\n",
       "      <th>Work Location Borough</th>\n",
       "      <th>Title Description</th>\n",
       "      <th>Leave Status as of June 30</th>\n",
       "      <th>Base Salary</th>\n",
       "      <th>Pay Basis</th>\n",
       "      <th>Regular Hours</th>\n",
       "      <th>Regular Gross Paid</th>\n",
       "      <th>OT Hours</th>\n",
       "      <th>Total OT Paid</th>\n",
       "      <th>Total Other Pay</th>\n",
       "    </tr>\n",
       "  </thead>\n",
       "  <tbody>\n",
       "    <tr>\n",
       "      <th>0</th>\n",
       "      <td>1006584</td>\n",
       "      <td>2015</td>\n",
       "      <td>NaN</td>\n",
       "      <td>DEPT OF ED PER SESSION TEACHER</td>\n",
       "      <td>TOLEDO AKAY</td>\n",
       "      <td>NARCISA</td>\n",
       "      <td>NaN</td>\n",
       "      <td>05/01/2000</td>\n",
       "      <td>MANHATTAN</td>\n",
       "      <td>TEACHER- PER SESSION</td>\n",
       "      <td>CEASED</td>\n",
       "      <td>33.18</td>\n",
       "      <td>per Day</td>\n",
       "      <td>0.00</td>\n",
       "      <td>14.85</td>\n",
       "      <td>0.00</td>\n",
       "      <td>0.00</td>\n",
       "      <td>0.00</td>\n",
       "    </tr>\n",
       "    <tr>\n",
       "      <th>1</th>\n",
       "      <td>50904</td>\n",
       "      <td>2016</td>\n",
       "      <td>NaN</td>\n",
       "      <td>POLICE DEPARTMENT</td>\n",
       "      <td>PENA</td>\n",
       "      <td>CECILIA</td>\n",
       "      <td>NaN</td>\n",
       "      <td>07/06/2010</td>\n",
       "      <td>BROOKLYN</td>\n",
       "      <td>POLICE OFFICER</td>\n",
       "      <td>ACTIVE</td>\n",
       "      <td>78026.00</td>\n",
       "      <td>per Annum</td>\n",
       "      <td>2091.42</td>\n",
       "      <td>68530.41</td>\n",
       "      <td>208.75</td>\n",
       "      <td>10625.93</td>\n",
       "      <td>7475.94</td>\n",
       "    </tr>\n",
       "    <tr>\n",
       "      <th>2</th>\n",
       "      <td>1624571</td>\n",
       "      <td>2014</td>\n",
       "      <td>NaN</td>\n",
       "      <td>Police Department</td>\n",
       "      <td>WALKER</td>\n",
       "      <td>MATTHEW</td>\n",
       "      <td>G</td>\n",
       "      <td>04/30/1991</td>\n",
       "      <td>NaN</td>\n",
       "      <td>POLICE OFFICER D/A DETECTIVE 2ND GR</td>\n",
       "      <td>ACTIVE</td>\n",
       "      <td>98072.00</td>\n",
       "      <td>per Annum</td>\n",
       "      <td>2085.72</td>\n",
       "      <td>97803.42</td>\n",
       "      <td>450.50</td>\n",
       "      <td>36351.03</td>\n",
       "      <td>17029.82</td>\n",
       "    </tr>\n",
       "    <tr>\n",
       "      <th>3</th>\n",
       "      <td>77655</td>\n",
       "      <td>2016</td>\n",
       "      <td>NaN</td>\n",
       "      <td>ADMIN FOR CHILDREN'S SVCS</td>\n",
       "      <td>WIGGINS</td>\n",
       "      <td>ROSEMARIE</td>\n",
       "      <td>NaN</td>\n",
       "      <td>07/05/2000</td>\n",
       "      <td>MANHATTAN</td>\n",
       "      <td>CHILD PROTECTIVE SPECIALIST</td>\n",
       "      <td>CEASED</td>\n",
       "      <td>53126.00</td>\n",
       "      <td>per Annum</td>\n",
       "      <td>363.00</td>\n",
       "      <td>13265.86</td>\n",
       "      <td>0.00</td>\n",
       "      <td>489.79</td>\n",
       "      <td>885.49</td>\n",
       "    </tr>\n",
       "    <tr>\n",
       "      <th>4</th>\n",
       "      <td>1188769</td>\n",
       "      <td>2014</td>\n",
       "      <td>300.0</td>\n",
       "      <td>BOARD OF ELECTION POLL WORKERS</td>\n",
       "      <td>OSBORNE</td>\n",
       "      <td>CAROL</td>\n",
       "      <td>A</td>\n",
       "      <td>01/01/2010</td>\n",
       "      <td>NaN</td>\n",
       "      <td>ELECTION TRAINER</td>\n",
       "      <td>ACTIVE</td>\n",
       "      <td>1.00</td>\n",
       "      <td>per Hour</td>\n",
       "      <td>0.00</td>\n",
       "      <td>2400.00</td>\n",
       "      <td>0.00</td>\n",
       "      <td>0.00</td>\n",
       "      <td>0.00</td>\n",
       "    </tr>\n",
       "  </tbody>\n",
       "</table>\n",
       "</div>"
      ],
      "text/plain": [
       "     index  Fiscal Year  Payroll Number                     Agency Name  \\\n",
       "0  1006584         2015             NaN  DEPT OF ED PER SESSION TEACHER   \n",
       "1    50904         2016             NaN               POLICE DEPARTMENT   \n",
       "2  1624571         2014             NaN               Police Department   \n",
       "3    77655         2016             NaN       ADMIN FOR CHILDREN'S SVCS   \n",
       "4  1188769         2014           300.0  BOARD OF ELECTION POLL WORKERS   \n",
       "\n",
       "     Last Name First Name Mid Init Agency Start Date Work Location Borough  \\\n",
       "0  TOLEDO AKAY    NARCISA      NaN        05/01/2000             MANHATTAN   \n",
       "1         PENA    CECILIA      NaN        07/06/2010              BROOKLYN   \n",
       "2       WALKER    MATTHEW        G        04/30/1991                   NaN   \n",
       "3      WIGGINS  ROSEMARIE      NaN        07/05/2000             MANHATTAN   \n",
       "4      OSBORNE      CAROL        A        01/01/2010                   NaN   \n",
       "\n",
       "                     Title Description Leave Status as of June 30  \\\n",
       "0                 TEACHER- PER SESSION                     CEASED   \n",
       "1                       POLICE OFFICER                     ACTIVE   \n",
       "2  POLICE OFFICER D/A DETECTIVE 2ND GR                     ACTIVE   \n",
       "3          CHILD PROTECTIVE SPECIALIST                     CEASED   \n",
       "4                     ELECTION TRAINER                     ACTIVE   \n",
       "\n",
       "   Base Salary  Pay Basis  Regular Hours  Regular Gross Paid  OT Hours  \\\n",
       "0        33.18    per Day           0.00               14.85      0.00   \n",
       "1     78026.00  per Annum        2091.42            68530.41    208.75   \n",
       "2     98072.00  per Annum        2085.72            97803.42    450.50   \n",
       "3     53126.00  per Annum         363.00            13265.86      0.00   \n",
       "4         1.00   per Hour           0.00             2400.00      0.00   \n",
       "\n",
       "   Total OT Paid  Total Other Pay  \n",
       "0           0.00             0.00  \n",
       "1       10625.93          7475.94  \n",
       "2       36351.03         17029.82  \n",
       "3         489.79           885.49  \n",
       "4           0.00             0.00  "
      ]
     },
     "execution_count": 6,
     "metadata": {},
     "output_type": "execute_result"
    }
   ],
   "source": [
    "payroll_sample.head()"
   ]
  },
  {
   "cell_type": "code",
   "execution_count": 7,
   "metadata": {},
   "outputs": [
    {
     "name": "stdout",
     "output_type": "stream",
     "text": [
      "Original Dataset Observation Count: 3333096\n",
      "Sampled Dataset Observation Count: 166654\n"
     ]
    }
   ],
   "source": [
    "print(\"Original Dataset Observation Count: \" + str(len(payroll)))\n",
    "print(\"Sampled Dataset Observation Count: \" + str(len(payroll_sample)))"
   ]
  },
  {
   "cell_type": "code",
   "execution_count": 8,
   "metadata": {},
   "outputs": [],
   "source": [
    "# save sampled dataset\n",
    "payroll_sample.to_csv(\"../nyc_payroll/Input/city_payroll_sample.csv\")"
   ]
  },
  {
   "cell_type": "code",
   "execution_count": 9,
   "metadata": {},
   "outputs": [
    {
     "data": {
      "text/plain": [
       "18"
      ]
     },
     "execution_count": 9,
     "metadata": {},
     "output_type": "execute_result"
    }
   ],
   "source": [
    "# number of features\n",
    "payroll_sample.shape[1]"
   ]
  },
  {
   "cell_type": "code",
   "execution_count": 10,
   "metadata": {},
   "outputs": [
    {
     "data": {
      "text/html": [
       "<div>\n",
       "<style scoped>\n",
       "    .dataframe tbody tr th:only-of-type {\n",
       "        vertical-align: middle;\n",
       "    }\n",
       "\n",
       "    .dataframe tbody tr th {\n",
       "        vertical-align: top;\n",
       "    }\n",
       "\n",
       "    .dataframe thead th {\n",
       "        text-align: right;\n",
       "    }\n",
       "</style>\n",
       "<table border=\"1\" class=\"dataframe\">\n",
       "  <thead>\n",
       "    <tr style=\"text-align: right;\">\n",
       "      <th></th>\n",
       "      <th>index</th>\n",
       "      <th>Fiscal Year</th>\n",
       "      <th>Payroll Number</th>\n",
       "      <th>Agency Name</th>\n",
       "      <th>Last Name</th>\n",
       "      <th>First Name</th>\n",
       "      <th>Mid Init</th>\n",
       "      <th>Agency Start Date</th>\n",
       "      <th>Work Location Borough</th>\n",
       "      <th>Title Description</th>\n",
       "      <th>Leave Status as of June 30</th>\n",
       "      <th>Base Salary</th>\n",
       "      <th>Pay Basis</th>\n",
       "      <th>Regular Hours</th>\n",
       "      <th>Regular Gross Paid</th>\n",
       "      <th>OT Hours</th>\n",
       "      <th>Total OT Paid</th>\n",
       "      <th>Total Other Pay</th>\n",
       "    </tr>\n",
       "  </thead>\n",
       "  <tbody>\n",
       "    <tr>\n",
       "      <th>0</th>\n",
       "      <td>1006584</td>\n",
       "      <td>2015</td>\n",
       "      <td>NaN</td>\n",
       "      <td>DEPT OF ED PER SESSION TEACHER</td>\n",
       "      <td>TOLEDO AKAY</td>\n",
       "      <td>NARCISA</td>\n",
       "      <td>NaN</td>\n",
       "      <td>05/01/2000</td>\n",
       "      <td>MANHATTAN</td>\n",
       "      <td>TEACHER- PER SESSION</td>\n",
       "      <td>CEASED</td>\n",
       "      <td>33.18</td>\n",
       "      <td>per Day</td>\n",
       "      <td>0.00</td>\n",
       "      <td>14.85</td>\n",
       "      <td>0.00</td>\n",
       "      <td>0.00</td>\n",
       "      <td>0.00</td>\n",
       "    </tr>\n",
       "    <tr>\n",
       "      <th>1</th>\n",
       "      <td>50904</td>\n",
       "      <td>2016</td>\n",
       "      <td>NaN</td>\n",
       "      <td>POLICE DEPARTMENT</td>\n",
       "      <td>PENA</td>\n",
       "      <td>CECILIA</td>\n",
       "      <td>NaN</td>\n",
       "      <td>07/06/2010</td>\n",
       "      <td>BROOKLYN</td>\n",
       "      <td>POLICE OFFICER</td>\n",
       "      <td>ACTIVE</td>\n",
       "      <td>78026.00</td>\n",
       "      <td>per Annum</td>\n",
       "      <td>2091.42</td>\n",
       "      <td>68530.41</td>\n",
       "      <td>208.75</td>\n",
       "      <td>10625.93</td>\n",
       "      <td>7475.94</td>\n",
       "    </tr>\n",
       "    <tr>\n",
       "      <th>2</th>\n",
       "      <td>1624571</td>\n",
       "      <td>2014</td>\n",
       "      <td>NaN</td>\n",
       "      <td>Police Department</td>\n",
       "      <td>WALKER</td>\n",
       "      <td>MATTHEW</td>\n",
       "      <td>G</td>\n",
       "      <td>04/30/1991</td>\n",
       "      <td>NaN</td>\n",
       "      <td>POLICE OFFICER D/A DETECTIVE 2ND GR</td>\n",
       "      <td>ACTIVE</td>\n",
       "      <td>98072.00</td>\n",
       "      <td>per Annum</td>\n",
       "      <td>2085.72</td>\n",
       "      <td>97803.42</td>\n",
       "      <td>450.50</td>\n",
       "      <td>36351.03</td>\n",
       "      <td>17029.82</td>\n",
       "    </tr>\n",
       "    <tr>\n",
       "      <th>3</th>\n",
       "      <td>77655</td>\n",
       "      <td>2016</td>\n",
       "      <td>NaN</td>\n",
       "      <td>ADMIN FOR CHILDREN'S SVCS</td>\n",
       "      <td>WIGGINS</td>\n",
       "      <td>ROSEMARIE</td>\n",
       "      <td>NaN</td>\n",
       "      <td>07/05/2000</td>\n",
       "      <td>MANHATTAN</td>\n",
       "      <td>CHILD PROTECTIVE SPECIALIST</td>\n",
       "      <td>CEASED</td>\n",
       "      <td>53126.00</td>\n",
       "      <td>per Annum</td>\n",
       "      <td>363.00</td>\n",
       "      <td>13265.86</td>\n",
       "      <td>0.00</td>\n",
       "      <td>489.79</td>\n",
       "      <td>885.49</td>\n",
       "    </tr>\n",
       "    <tr>\n",
       "      <th>4</th>\n",
       "      <td>1188769</td>\n",
       "      <td>2014</td>\n",
       "      <td>300.0</td>\n",
       "      <td>BOARD OF ELECTION POLL WORKERS</td>\n",
       "      <td>OSBORNE</td>\n",
       "      <td>CAROL</td>\n",
       "      <td>A</td>\n",
       "      <td>01/01/2010</td>\n",
       "      <td>NaN</td>\n",
       "      <td>ELECTION TRAINER</td>\n",
       "      <td>ACTIVE</td>\n",
       "      <td>1.00</td>\n",
       "      <td>per Hour</td>\n",
       "      <td>0.00</td>\n",
       "      <td>2400.00</td>\n",
       "      <td>0.00</td>\n",
       "      <td>0.00</td>\n",
       "      <td>0.00</td>\n",
       "    </tr>\n",
       "  </tbody>\n",
       "</table>\n",
       "</div>"
      ],
      "text/plain": [
       "     index  Fiscal Year  Payroll Number                     Agency Name  \\\n",
       "0  1006584         2015             NaN  DEPT OF ED PER SESSION TEACHER   \n",
       "1    50904         2016             NaN               POLICE DEPARTMENT   \n",
       "2  1624571         2014             NaN               Police Department   \n",
       "3    77655         2016             NaN       ADMIN FOR CHILDREN'S SVCS   \n",
       "4  1188769         2014           300.0  BOARD OF ELECTION POLL WORKERS   \n",
       "\n",
       "     Last Name First Name Mid Init Agency Start Date Work Location Borough  \\\n",
       "0  TOLEDO AKAY    NARCISA      NaN        05/01/2000             MANHATTAN   \n",
       "1         PENA    CECILIA      NaN        07/06/2010              BROOKLYN   \n",
       "2       WALKER    MATTHEW        G        04/30/1991                   NaN   \n",
       "3      WIGGINS  ROSEMARIE      NaN        07/05/2000             MANHATTAN   \n",
       "4      OSBORNE      CAROL        A        01/01/2010                   NaN   \n",
       "\n",
       "                     Title Description Leave Status as of June 30  \\\n",
       "0                 TEACHER- PER SESSION                     CEASED   \n",
       "1                       POLICE OFFICER                     ACTIVE   \n",
       "2  POLICE OFFICER D/A DETECTIVE 2ND GR                     ACTIVE   \n",
       "3          CHILD PROTECTIVE SPECIALIST                     CEASED   \n",
       "4                     ELECTION TRAINER                     ACTIVE   \n",
       "\n",
       "   Base Salary  Pay Basis  Regular Hours  Regular Gross Paid  OT Hours  \\\n",
       "0        33.18    per Day           0.00               14.85      0.00   \n",
       "1     78026.00  per Annum        2091.42            68530.41    208.75   \n",
       "2     98072.00  per Annum        2085.72            97803.42    450.50   \n",
       "3     53126.00  per Annum         363.00            13265.86      0.00   \n",
       "4         1.00   per Hour           0.00             2400.00      0.00   \n",
       "\n",
       "   Total OT Paid  Total Other Pay  \n",
       "0           0.00             0.00  \n",
       "1       10625.93          7475.94  \n",
       "2       36351.03         17029.82  \n",
       "3         489.79           885.49  \n",
       "4           0.00             0.00  "
      ]
     },
     "execution_count": 10,
     "metadata": {},
     "output_type": "execute_result"
    }
   ],
   "source": [
    "payroll_sample.head()"
   ]
  },
  {
   "cell_type": "code",
   "execution_count": 11,
   "metadata": {},
   "outputs": [
    {
     "name": "stdout",
     "output_type": "stream",
     "text": [
      "Feature Names: \n",
      "\n",
      "index\n",
      "Fiscal Year\n",
      "Payroll Number\n",
      "Agency Name\n",
      "Last Name\n",
      "First Name\n",
      "Mid Init\n",
      "Agency Start Date\n",
      "Work Location Borough\n",
      "Title Description\n",
      "Leave Status as of June 30\n",
      "Base Salary\n",
      "Pay Basis\n",
      "Regular Hours\n",
      "Regular Gross Paid\n",
      "OT Hours\n",
      "Total OT Paid\n",
      "Total Other Pay\n"
     ]
    }
   ],
   "source": [
    "# printing feature names\n",
    "print(\"Feature Names: \\n\\n\" + \"\\n\".join(payroll_sample.columns))"
   ]
  },
  {
   "cell_type": "code",
   "execution_count": 12,
   "metadata": {},
   "outputs": [
    {
     "name": "stdout",
     "output_type": "stream",
     "text": [
      "<class 'pandas.core.frame.DataFrame'>\n",
      "RangeIndex: 166654 entries, 0 to 166653\n",
      "Data columns (total 18 columns):\n",
      "index                         166654 non-null int64\n",
      "Fiscal Year                   166654 non-null int64\n",
      "Payroll Number                79452 non-null float64\n",
      "Agency Name                   166654 non-null object\n",
      "Last Name                     166585 non-null object\n",
      "First Name                    166584 non-null object\n",
      "Mid Init                      99142 non-null object\n",
      "Agency Start Date             166654 non-null object\n",
      "Work Location Borough         141208 non-null object\n",
      "Title Description             166653 non-null object\n",
      "Leave Status as of June 30    166654 non-null object\n",
      "Base Salary                   166654 non-null float64\n",
      "Pay Basis                     166654 non-null object\n",
      "Regular Hours                 166654 non-null float64\n",
      "Regular Gross Paid            166654 non-null float64\n",
      "OT Hours                      166654 non-null float64\n",
      "Total OT Paid                 166654 non-null float64\n",
      "Total Other Pay               166654 non-null float64\n",
      "dtypes: float64(7), int64(2), object(9)\n",
      "memory usage: 22.9+ MB\n",
      "Datatypes: \n",
      "\n",
      " None\n"
     ]
    }
   ],
   "source": [
    "# data types\n",
    "print(\"Datatypes: \\n\\n\", payroll_sample.info())"
   ]
  },
  {
   "cell_type": "code",
   "execution_count": 13,
   "metadata": {},
   "outputs": [
    {
     "name": "stdout",
     "output_type": "stream",
     "text": [
      " index                                  int64\n",
      "Fiscal Year                            int64\n",
      "Payroll Number                       float64\n",
      "Agency Name                           object\n",
      "Last Name                             object\n",
      "First Name                            object\n",
      "Mid Init                              object\n",
      "Agency Start Date             datetime64[ns]\n",
      "Work Location Borough                 object\n",
      "Title Description                     object\n",
      "Leave Status as of June 30            object\n",
      "Base Salary                          float64\n",
      "Pay Basis                             object\n",
      "Regular Hours                        float64\n",
      "Regular Gross Paid                   float64\n",
      "OT Hours                             float64\n",
      "Total OT Paid                        float64\n",
      "Total Other Pay                      float64\n",
      "dtype: object\n"
     ]
    }
   ],
   "source": [
    "# converting Fiscal Year and Agency Start Date to Datetime64\n",
    "payroll_sample[\"Agency Start Date\"] = pd.to_datetime(payroll_sample[\"Agency Start Date\"], errors = \"coerce\")\n",
    "payroll_sample[\"Agency Name\"] = payroll_sample[\"Agency Name\"].astype(str)\n",
    "\n",
    "print(\"\", payroll_sample.dtypes)"
   ]
  },
  {
   "cell_type": "code",
   "execution_count": 14,
   "metadata": {},
   "outputs": [
    {
     "data": {
      "text/plain": [
       "True"
      ]
     },
     "execution_count": 14,
     "metadata": {},
     "output_type": "execute_result"
    }
   ],
   "source": [
    "# any missing values?\n",
    "payroll_sample.isnull().values.any()"
   ]
  },
  {
   "cell_type": "code",
   "execution_count": 15,
   "metadata": {},
   "outputs": [
    {
     "data": {
      "text/plain": [
       "180316"
      ]
     },
     "execution_count": 15,
     "metadata": {},
     "output_type": "execute_result"
    }
   ],
   "source": [
    "# total number of missing values\n",
    "payroll_sample.isnull().sum().sum()"
   ]
  },
  {
   "cell_type": "code",
   "execution_count": 16,
   "metadata": {},
   "outputs": [
    {
     "data": {
      "text/plain": [
       "index                             0\n",
       "Fiscal Year                       0\n",
       "Payroll Number                87202\n",
       "Agency Name                       0\n",
       "Last Name                        69\n",
       "First Name                       70\n",
       "Mid Init                      67512\n",
       "Agency Start Date                16\n",
       "Work Location Borough         25446\n",
       "Title Description                 1\n",
       "Leave Status as of June 30        0\n",
       "Base Salary                       0\n",
       "Pay Basis                         0\n",
       "Regular Hours                     0\n",
       "Regular Gross Paid                0\n",
       "OT Hours                          0\n",
       "Total OT Paid                     0\n",
       "Total Other Pay                   0\n",
       "dtype: int64"
      ]
     },
     "execution_count": 16,
     "metadata": {},
     "output_type": "execute_result"
    }
   ],
   "source": [
    "# how many missing values per feature?\n",
    "payroll_sample.isnull().sum()"
   ]
  },
  {
   "cell_type": "code",
   "execution_count": 17,
   "metadata": {},
   "outputs": [
    {
     "data": {
      "text/html": [
       "<div>\n",
       "<style scoped>\n",
       "    .dataframe tbody tr th:only-of-type {\n",
       "        vertical-align: middle;\n",
       "    }\n",
       "\n",
       "    .dataframe tbody tr th {\n",
       "        vertical-align: top;\n",
       "    }\n",
       "\n",
       "    .dataframe thead th {\n",
       "        text-align: right;\n",
       "    }\n",
       "</style>\n",
       "<table border=\"1\" class=\"dataframe\">\n",
       "  <thead>\n",
       "    <tr style=\"text-align: right;\">\n",
       "      <th></th>\n",
       "      <th>Values</th>\n",
       "      <th>Percent</th>\n",
       "    </tr>\n",
       "  </thead>\n",
       "  <tbody>\n",
       "    <tr>\n",
       "      <th>Payroll Number</th>\n",
       "      <td>87202</td>\n",
       "      <td>52.325177</td>\n",
       "    </tr>\n",
       "    <tr>\n",
       "      <th>Mid Init</th>\n",
       "      <td>67512</td>\n",
       "      <td>40.510279</td>\n",
       "    </tr>\n",
       "    <tr>\n",
       "      <th>Work Location Borough</th>\n",
       "      <td>25446</td>\n",
       "      <td>15.268760</td>\n",
       "    </tr>\n",
       "    <tr>\n",
       "      <th>First Name</th>\n",
       "      <td>70</td>\n",
       "      <td>0.042003</td>\n",
       "    </tr>\n",
       "    <tr>\n",
       "      <th>Last Name</th>\n",
       "      <td>69</td>\n",
       "      <td>0.041403</td>\n",
       "    </tr>\n",
       "    <tr>\n",
       "      <th>Agency Start Date</th>\n",
       "      <td>16</td>\n",
       "      <td>0.009601</td>\n",
       "    </tr>\n",
       "    <tr>\n",
       "      <th>Title Description</th>\n",
       "      <td>1</td>\n",
       "      <td>0.000600</td>\n",
       "    </tr>\n",
       "    <tr>\n",
       "      <th>Fiscal Year</th>\n",
       "      <td>0</td>\n",
       "      <td>0.000000</td>\n",
       "    </tr>\n",
       "    <tr>\n",
       "      <th>Agency Name</th>\n",
       "      <td>0</td>\n",
       "      <td>0.000000</td>\n",
       "    </tr>\n",
       "    <tr>\n",
       "      <th>Total Other Pay</th>\n",
       "      <td>0</td>\n",
       "      <td>0.000000</td>\n",
       "    </tr>\n",
       "    <tr>\n",
       "      <th>Total OT Paid</th>\n",
       "      <td>0</td>\n",
       "      <td>0.000000</td>\n",
       "    </tr>\n",
       "    <tr>\n",
       "      <th>Leave Status as of June 30</th>\n",
       "      <td>0</td>\n",
       "      <td>0.000000</td>\n",
       "    </tr>\n",
       "    <tr>\n",
       "      <th>Base Salary</th>\n",
       "      <td>0</td>\n",
       "      <td>0.000000</td>\n",
       "    </tr>\n",
       "    <tr>\n",
       "      <th>Pay Basis</th>\n",
       "      <td>0</td>\n",
       "      <td>0.000000</td>\n",
       "    </tr>\n",
       "    <tr>\n",
       "      <th>Regular Hours</th>\n",
       "      <td>0</td>\n",
       "      <td>0.000000</td>\n",
       "    </tr>\n",
       "    <tr>\n",
       "      <th>Regular Gross Paid</th>\n",
       "      <td>0</td>\n",
       "      <td>0.000000</td>\n",
       "    </tr>\n",
       "    <tr>\n",
       "      <th>OT Hours</th>\n",
       "      <td>0</td>\n",
       "      <td>0.000000</td>\n",
       "    </tr>\n",
       "    <tr>\n",
       "      <th>index</th>\n",
       "      <td>0</td>\n",
       "      <td>0.000000</td>\n",
       "    </tr>\n",
       "  </tbody>\n",
       "</table>\n",
       "</div>"
      ],
      "text/plain": [
       "                            Values    Percent\n",
       "Payroll Number               87202  52.325177\n",
       "Mid Init                     67512  40.510279\n",
       "Work Location Borough        25446  15.268760\n",
       "First Name                      70   0.042003\n",
       "Last Name                       69   0.041403\n",
       "Agency Start Date               16   0.009601\n",
       "Title Description                1   0.000600\n",
       "Fiscal Year                      0   0.000000\n",
       "Agency Name                      0   0.000000\n",
       "Total Other Pay                  0   0.000000\n",
       "Total OT Paid                    0   0.000000\n",
       "Leave Status as of June 30       0   0.000000\n",
       "Base Salary                      0   0.000000\n",
       "Pay Basis                        0   0.000000\n",
       "Regular Hours                    0   0.000000\n",
       "Regular Gross Paid               0   0.000000\n",
       "OT Hours                         0   0.000000\n",
       "index                            0   0.000000"
      ]
     },
     "execution_count": 17,
     "metadata": {},
     "output_type": "execute_result"
    }
   ],
   "source": [
    "# percentage of missing values for each feature\n",
    "\n",
    "values = payroll_sample.isnull().sum().sort_values(ascending=False)\n",
    "percent = payroll_sample.isnull().mean().sort_values(ascending=False)\n",
    "percent *= 100\n",
    "missing_data = pd.concat([values, percent], axis=1, keys=['Values', 'Percent'])\n",
    "missing_data.head(20)"
   ]
  },
  {
   "cell_type": "markdown",
   "metadata": {},
   "source": [
    "### Since Work Location Borough is important we'll keep it and take care of 1 observation in title description variable and keep the variable"
   ]
  },
  {
   "cell_type": "code",
   "execution_count": 18,
   "metadata": {},
   "outputs": [
    {
     "data": {
      "text/plain": [
       "25446"
      ]
     },
     "execution_count": 18,
     "metadata": {},
     "output_type": "execute_result"
    }
   ],
   "source": [
    "# dealing or removing missing data with greater than 20 percent data missing\n",
    "payroll_sample = payroll_sample.drop((missing_data[missing_data['Percent'] > 20]).index,1)\n",
    "payroll_sample = payroll_sample.drop(payroll_sample.loc[payroll_sample['Title Description'].isnull()].index)\n",
    "payroll_sample.isnull().sum().max()"
   ]
  },
  {
   "cell_type": "markdown",
   "metadata": {},
   "source": [
    "### Since First and Last names are not as important for our project we'll just drop them"
   ]
  },
  {
   "cell_type": "code",
   "execution_count": 19,
   "metadata": {},
   "outputs": [],
   "source": [
    "payroll_sample = payroll_sample.drop([\"First Name\", \"Last Name\"], axis=1)"
   ]
  },
  {
   "cell_type": "code",
   "execution_count": 20,
   "metadata": {},
   "outputs": [
    {
     "data": {
      "text/html": [
       "<div>\n",
       "<style scoped>\n",
       "    .dataframe tbody tr th:only-of-type {\n",
       "        vertical-align: middle;\n",
       "    }\n",
       "\n",
       "    .dataframe tbody tr th {\n",
       "        vertical-align: top;\n",
       "    }\n",
       "\n",
       "    .dataframe thead th {\n",
       "        text-align: right;\n",
       "    }\n",
       "</style>\n",
       "<table border=\"1\" class=\"dataframe\">\n",
       "  <thead>\n",
       "    <tr style=\"text-align: right;\">\n",
       "      <th></th>\n",
       "      <th>Values</th>\n",
       "      <th>Percent</th>\n",
       "    </tr>\n",
       "  </thead>\n",
       "  <tbody>\n",
       "    <tr>\n",
       "      <th>Work Location Borough</th>\n",
       "      <td>25446</td>\n",
       "      <td>15.268852</td>\n",
       "    </tr>\n",
       "    <tr>\n",
       "      <th>Agency Start Date</th>\n",
       "      <td>16</td>\n",
       "      <td>0.009601</td>\n",
       "    </tr>\n",
       "    <tr>\n",
       "      <th>Total Other Pay</th>\n",
       "      <td>0</td>\n",
       "      <td>0.000000</td>\n",
       "    </tr>\n",
       "    <tr>\n",
       "      <th>Total OT Paid</th>\n",
       "      <td>0</td>\n",
       "      <td>0.000000</td>\n",
       "    </tr>\n",
       "    <tr>\n",
       "      <th>OT Hours</th>\n",
       "      <td>0</td>\n",
       "      <td>0.000000</td>\n",
       "    </tr>\n",
       "  </tbody>\n",
       "</table>\n",
       "</div>"
      ],
      "text/plain": [
       "                       Values    Percent\n",
       "Work Location Borough   25446  15.268852\n",
       "Agency Start Date          16   0.009601\n",
       "Total Other Pay             0   0.000000\n",
       "Total OT Paid               0   0.000000\n",
       "OT Hours                    0   0.000000"
      ]
     },
     "execution_count": 20,
     "metadata": {},
     "output_type": "execute_result"
    }
   ],
   "source": [
    "values = payroll_sample.isnull().sum().sort_values(ascending=False)\n",
    "percent = payroll_sample.isnull().mean().sort_values(ascending=False)\n",
    "percent *= 100\n",
    "missing_data = pd.concat([values, percent], axis=1, keys=['Values', 'Percent'])\n",
    "missing_data.head()"
   ]
  },
  {
   "cell_type": "code",
   "execution_count": 21,
   "metadata": {},
   "outputs": [
    {
     "data": {
      "text/plain": [
       "True"
      ]
     },
     "execution_count": 21,
     "metadata": {},
     "output_type": "execute_result"
    }
   ],
   "source": [
    "# any missing values?\n",
    "payroll_sample.isnull().values.any()"
   ]
  },
  {
   "cell_type": "code",
   "execution_count": 22,
   "metadata": {},
   "outputs": [
    {
     "data": {
      "text/plain": [
       "<matplotlib.axes._subplots.AxesSubplot at 0x26580000400>"
      ]
     },
     "execution_count": 22,
     "metadata": {},
     "output_type": "execute_result"
    },
    {
     "data": {
      "image/png": "[encoded data removed]",
      "text/plain": [
       "<Figure size 576x432 with 2 Axes>"
      ]
     },
     "metadata": {
      "needs_background": "light"
     },
     "output_type": "display_data"
    }
   ],
   "source": [
    "# correlation\n",
    "\n",
    "corrmap = payroll_sample.corr()\n",
    "f, ax = plt.subplots(figsize=(8, 6))\n",
    "sns.heatmap(corrmap, vmax=1, square=True)"
   ]
  },
  {
   "cell_type": "code",
   "execution_count": 23,
   "metadata": {},
   "outputs": [
    {
     "data": {
      "text/html": [
       "<div>\n",
       "<style scoped>\n",
       "    .dataframe tbody tr th:only-of-type {\n",
       "        vertical-align: middle;\n",
       "    }\n",
       "\n",
       "    .dataframe tbody tr th {\n",
       "        vertical-align: top;\n",
       "    }\n",
       "\n",
       "    .dataframe thead th {\n",
       "        text-align: right;\n",
       "    }\n",
       "</style>\n",
       "<table border=\"1\" class=\"dataframe\">\n",
       "  <thead>\n",
       "    <tr style=\"text-align: right;\">\n",
       "      <th></th>\n",
       "      <th>index</th>\n",
       "      <th>Fiscal Year</th>\n",
       "      <th>Base Salary</th>\n",
       "      <th>Regular Hours</th>\n",
       "      <th>Regular Gross Paid</th>\n",
       "      <th>OT Hours</th>\n",
       "      <th>Total OT Paid</th>\n",
       "      <th>Total Other Pay</th>\n",
       "    </tr>\n",
       "  </thead>\n",
       "  <tbody>\n",
       "    <tr>\n",
       "      <th>index</th>\n",
       "      <td>1.000000</td>\n",
       "      <td>0.771453</td>\n",
       "      <td>0.024348</td>\n",
       "      <td>0.018873</td>\n",
       "      <td>0.047387</td>\n",
       "      <td>-0.003659</td>\n",
       "      <td>0.005918</td>\n",
       "      <td>0.016552</td>\n",
       "    </tr>\n",
       "    <tr>\n",
       "      <th>Fiscal Year</th>\n",
       "      <td>0.771453</td>\n",
       "      <td>1.000000</td>\n",
       "      <td>0.055031</td>\n",
       "      <td>-0.003156</td>\n",
       "      <td>0.062321</td>\n",
       "      <td>-0.005545</td>\n",
       "      <td>0.008619</td>\n",
       "      <td>-0.005174</td>\n",
       "    </tr>\n",
       "    <tr>\n",
       "      <th>Base Salary</th>\n",
       "      <td>0.024348</td>\n",
       "      <td>0.055031</td>\n",
       "      <td>1.000000</td>\n",
       "      <td>0.347637</td>\n",
       "      <td>0.843969</td>\n",
       "      <td>0.194278</td>\n",
       "      <td>0.234960</td>\n",
       "      <td>0.310514</td>\n",
       "    </tr>\n",
       "    <tr>\n",
       "      <th>Regular Hours</th>\n",
       "      <td>0.018873</td>\n",
       "      <td>-0.003156</td>\n",
       "      <td>0.347637</td>\n",
       "      <td>1.000000</td>\n",
       "      <td>0.448227</td>\n",
       "      <td>0.596406</td>\n",
       "      <td>0.547197</td>\n",
       "      <td>0.585260</td>\n",
       "    </tr>\n",
       "    <tr>\n",
       "      <th>Regular Gross Paid</th>\n",
       "      <td>0.047387</td>\n",
       "      <td>0.062321</td>\n",
       "      <td>0.843969</td>\n",
       "      <td>0.448227</td>\n",
       "      <td>1.000000</td>\n",
       "      <td>0.279351</td>\n",
       "      <td>0.342294</td>\n",
       "      <td>0.383805</td>\n",
       "    </tr>\n",
       "    <tr>\n",
       "      <th>OT Hours</th>\n",
       "      <td>-0.003659</td>\n",
       "      <td>-0.005545</td>\n",
       "      <td>0.194278</td>\n",
       "      <td>0.596406</td>\n",
       "      <td>0.279351</td>\n",
       "      <td>1.000000</td>\n",
       "      <td>0.921084</td>\n",
       "      <td>0.534391</td>\n",
       "    </tr>\n",
       "    <tr>\n",
       "      <th>Total OT Paid</th>\n",
       "      <td>0.005918</td>\n",
       "      <td>0.008619</td>\n",
       "      <td>0.234960</td>\n",
       "      <td>0.547197</td>\n",
       "      <td>0.342294</td>\n",
       "      <td>0.921084</td>\n",
       "      <td>1.000000</td>\n",
       "      <td>0.615271</td>\n",
       "    </tr>\n",
       "    <tr>\n",
       "      <th>Total Other Pay</th>\n",
       "      <td>0.016552</td>\n",
       "      <td>-0.005174</td>\n",
       "      <td>0.310514</td>\n",
       "      <td>0.585260</td>\n",
       "      <td>0.383805</td>\n",
       "      <td>0.534391</td>\n",
       "      <td>0.615271</td>\n",
       "      <td>1.000000</td>\n",
       "    </tr>\n",
       "  </tbody>\n",
       "</table>\n",
       "</div>"
      ],
      "text/plain": [
       "                       index  Fiscal Year  Base Salary  Regular Hours  \\\n",
       "index               1.000000     0.771453     0.024348       0.018873   \n",
       "Fiscal Year         0.771453     1.000000     0.055031      -0.003156   \n",
       "Base Salary         0.024348     0.055031     1.000000       0.347637   \n",
       "Regular Hours       0.018873    -0.003156     0.347637       1.000000   \n",
       "Regular Gross Paid  0.047387     0.062321     0.843969       0.448227   \n",
       "OT Hours           -0.003659    -0.005545     0.194278       0.596406   \n",
       "Total OT Paid       0.005918     0.008619     0.234960       0.547197   \n",
       "Total Other Pay     0.016552    -0.005174     0.310514       0.585260   \n",
       "\n",
       "                    Regular Gross Paid  OT Hours  Total OT Paid  \\\n",
       "index                         0.047387 -0.003659       0.005918   \n",
       "Fiscal Year                   0.062321 -0.005545       0.008619   \n",
       "Base Salary                   0.843969  0.194278       0.234960   \n",
       "Regular Hours                 0.448227  0.596406       0.547197   \n",
       "Regular Gross Paid            1.000000  0.279351       0.342294   \n",
       "OT Hours                      0.279351  1.000000       0.921084   \n",
       "Total OT Paid                 0.342294  0.921084       1.000000   \n",
       "Total Other Pay               0.383805  0.534391       0.615271   \n",
       "\n",
       "                    Total Other Pay  \n",
       "index                      0.016552  \n",
       "Fiscal Year               -0.005174  \n",
       "Base Salary                0.310514  \n",
       "Regular Hours              0.585260  \n",
       "Regular Gross Paid         0.383805  \n",
       "OT Hours                   0.534391  \n",
       "Total OT Paid              0.615271  \n",
       "Total Other Pay            1.000000  "
      ]
     },
     "execution_count": 23,
     "metadata": {},
     "output_type": "execute_result"
    }
   ],
   "source": [
    "pearsoncorr = payroll_sample.corr(method='pearson')\n",
    "pearsoncorr"
   ]
  },
  {
   "cell_type": "code",
   "execution_count": 24,
   "metadata": {},
   "outputs": [
    {
     "data": {
      "text/plain": [
       "<matplotlib.axes._subplots.AxesSubplot at 0x265800a7780>"
      ]
     },
     "execution_count": 24,
     "metadata": {},
     "output_type": "execute_result"
    },
    {
     "data": {
      "image/png": "[encoded data removed]",
      "text/plain": [
       "<Figure size 576x432 with 2 Axes>"
      ]
     },
     "metadata": {
      "needs_background": "light"
     },
     "output_type": "display_data"
    }
   ],
   "source": [
    "f, ax = plt.subplots(figsize=(8, 6))\n",
    "sns.heatmap(pearsoncorr, \n",
    "            xticklabels=pearsoncorr.columns,\n",
    "            yticklabels=pearsoncorr.columns,\n",
    "            cmap='RdBu_r',\n",
    "            annot=True,\n",
    "            linewidth=0.5)"
   ]
  },
  {
   "cell_type": "code",
   "execution_count": 25,
   "metadata": {},
   "outputs": [],
   "source": [
    "# to be continued..."
   ]
  },
  {
   "cell_type": "code",
   "execution_count": 26,
   "metadata": {},
   "outputs": [
    {
     "data": {
      "text/html": [
       "<div>\n",
       "<style scoped>\n",
       "    .dataframe tbody tr th:only-of-type {\n",
       "        vertical-align: middle;\n",
       "    }\n",
       "\n",
       "    .dataframe tbody tr th {\n",
       "        vertical-align: top;\n",
       "    }\n",
       "\n",
       "    .dataframe thead th {\n",
       "        text-align: right;\n",
       "    }\n",
       "</style>\n",
       "<table border=\"1\" class=\"dataframe\">\n",
       "  <thead>\n",
       "    <tr style=\"text-align: right;\">\n",
       "      <th></th>\n",
       "      <th>index</th>\n",
       "      <th>Fiscal Year</th>\n",
       "      <th>Agency Name</th>\n",
       "      <th>Agency Start Date</th>\n",
       "      <th>Work Location Borough</th>\n",
       "      <th>Title Description</th>\n",
       "      <th>Leave Status as of June 30</th>\n",
       "      <th>Base Salary</th>\n",
       "      <th>Pay Basis</th>\n",
       "      <th>Regular Hours</th>\n",
       "      <th>Regular Gross Paid</th>\n",
       "      <th>OT Hours</th>\n",
       "      <th>Total OT Paid</th>\n",
       "      <th>Total Other Pay</th>\n",
       "      <th>Total Pay</th>\n",
       "    </tr>\n",
       "  </thead>\n",
       "  <tbody>\n",
       "    <tr>\n",
       "      <th>0</th>\n",
       "      <td>1006584</td>\n",
       "      <td>2015</td>\n",
       "      <td>DEPT OF ED PER SESSION TEACHER</td>\n",
       "      <td>2000-05-01</td>\n",
       "      <td>MANHATTAN</td>\n",
       "      <td>TEACHER- PER SESSION</td>\n",
       "      <td>CEASED</td>\n",
       "      <td>33.18</td>\n",
       "      <td>per Day</td>\n",
       "      <td>0.00</td>\n",
       "      <td>14.85</td>\n",
       "      <td>0.00</td>\n",
       "      <td>0.00</td>\n",
       "      <td>0.00</td>\n",
       "      <td>14.85</td>\n",
       "    </tr>\n",
       "    <tr>\n",
       "      <th>1</th>\n",
       "      <td>50904</td>\n",
       "      <td>2016</td>\n",
       "      <td>POLICE DEPARTMENT</td>\n",
       "      <td>2010-07-06</td>\n",
       "      <td>BROOKLYN</td>\n",
       "      <td>POLICE OFFICER</td>\n",
       "      <td>ACTIVE</td>\n",
       "      <td>78026.00</td>\n",
       "      <td>per Annum</td>\n",
       "      <td>2091.42</td>\n",
       "      <td>68530.41</td>\n",
       "      <td>208.75</td>\n",
       "      <td>10625.93</td>\n",
       "      <td>7475.94</td>\n",
       "      <td>79156.34</td>\n",
       "    </tr>\n",
       "    <tr>\n",
       "      <th>2</th>\n",
       "      <td>1624571</td>\n",
       "      <td>2014</td>\n",
       "      <td>Police Department</td>\n",
       "      <td>1991-04-30</td>\n",
       "      <td>NaN</td>\n",
       "      <td>POLICE OFFICER D/A DETECTIVE 2ND GR</td>\n",
       "      <td>ACTIVE</td>\n",
       "      <td>98072.00</td>\n",
       "      <td>per Annum</td>\n",
       "      <td>2085.72</td>\n",
       "      <td>97803.42</td>\n",
       "      <td>450.50</td>\n",
       "      <td>36351.03</td>\n",
       "      <td>17029.82</td>\n",
       "      <td>134154.45</td>\n",
       "    </tr>\n",
       "    <tr>\n",
       "      <th>3</th>\n",
       "      <td>77655</td>\n",
       "      <td>2016</td>\n",
       "      <td>ADMIN FOR CHILDREN'S SVCS</td>\n",
       "      <td>2000-07-05</td>\n",
       "      <td>MANHATTAN</td>\n",
       "      <td>CHILD PROTECTIVE SPECIALIST</td>\n",
       "      <td>CEASED</td>\n",
       "      <td>53126.00</td>\n",
       "      <td>per Annum</td>\n",
       "      <td>363.00</td>\n",
       "      <td>13265.86</td>\n",
       "      <td>0.00</td>\n",
       "      <td>489.79</td>\n",
       "      <td>885.49</td>\n",
       "      <td>13755.65</td>\n",
       "    </tr>\n",
       "    <tr>\n",
       "      <th>4</th>\n",
       "      <td>1188769</td>\n",
       "      <td>2014</td>\n",
       "      <td>BOARD OF ELECTION POLL WORKERS</td>\n",
       "      <td>2010-01-01</td>\n",
       "      <td>NaN</td>\n",
       "      <td>ELECTION TRAINER</td>\n",
       "      <td>ACTIVE</td>\n",
       "      <td>1.00</td>\n",
       "      <td>per Hour</td>\n",
       "      <td>0.00</td>\n",
       "      <td>2400.00</td>\n",
       "      <td>0.00</td>\n",
       "      <td>0.00</td>\n",
       "      <td>0.00</td>\n",
       "      <td>2400.00</td>\n",
       "    </tr>\n",
       "  </tbody>\n",
       "</table>\n",
       "</div>"
      ],
      "text/plain": [
       "     index  Fiscal Year                     Agency Name Agency Start Date  \\\n",
       "0  1006584         2015  DEPT OF ED PER SESSION TEACHER        2000-05-01   \n",
       "1    50904         2016               POLICE DEPARTMENT        2010-07-06   \n",
       "2  1624571         2014               Police Department        1991-04-30   \n",
       "3    77655         2016       ADMIN FOR CHILDREN'S SVCS        2000-07-05   \n",
       "4  1188769         2014  BOARD OF ELECTION POLL WORKERS        2010-01-01   \n",
       "\n",
       "  Work Location Borough                    Title Description  \\\n",
       "0             MANHATTAN                 TEACHER- PER SESSION   \n",
       "1              BROOKLYN                       POLICE OFFICER   \n",
       "2                   NaN  POLICE OFFICER D/A DETECTIVE 2ND GR   \n",
       "3             MANHATTAN          CHILD PROTECTIVE SPECIALIST   \n",
       "4                   NaN                     ELECTION TRAINER   \n",
       "\n",
       "  Leave Status as of June 30  Base Salary  Pay Basis  Regular Hours  \\\n",
       "0                     CEASED        33.18    per Day           0.00   \n",
       "1                     ACTIVE     78026.00  per Annum        2091.42   \n",
       "2                     ACTIVE     98072.00  per Annum        2085.72   \n",
       "3                     CEASED     53126.00  per Annum         363.00   \n",
       "4                     ACTIVE         1.00   per Hour           0.00   \n",
       "\n",
       "   Regular Gross Paid  OT Hours  Total OT Paid  Total Other Pay  Total Pay  \n",
       "0               14.85      0.00           0.00             0.00      14.85  \n",
       "1            68530.41    208.75       10625.93          7475.94   79156.34  \n",
       "2            97803.42    450.50       36351.03         17029.82  134154.45  \n",
       "3            13265.86      0.00         489.79           885.49   13755.65  \n",
       "4             2400.00      0.00           0.00             0.00    2400.00  "
      ]
     },
     "execution_count": 26,
     "metadata": {},
     "output_type": "execute_result"
    }
   ],
   "source": [
    "# total pay of Regular Gross Paid and Total OT Paid (OT = overtime)\n",
    "payroll_sample[\"Total Pay\"] = payroll_sample[\"Regular Gross Paid\"] + payroll_sample[\"Total OT Paid\"]\n",
    "payroll_sample.head()"
   ]
  },
  {
   "cell_type": "code",
   "execution_count": null,
   "metadata": {},
   "outputs": [],
   "source": []
  },
  {
   "cell_type": "code",
   "execution_count": 27,
   "metadata": {},
   "outputs": [
    {
     "data": {
      "text/plain": [
       "(500000, 600000)"
      ]
     },
     "execution_count": 27,
     "metadata": {},
     "output_type": "execute_result"
    },
    {
     "data": {
      "image/png": "[encoded data removed]",
      "text/plain": [
       "<Figure size 432x288 with 1 Axes>"
      ]
     },
     "metadata": {
      "needs_background": "light"
     },
     "output_type": "display_data"
    }
   ],
   "source": [
    "# counts of municipal employees (use full dataset since you're interested in purely counts)\n",
    "    ## year-to-year\n",
    "payroll_year_counts = payroll[\"Fiscal Year\"].value_counts()\n",
    "#plt.bar(payroll_year_counts.index, payroll_year_counts.values, color = \"r\")\n",
    "#plt.ylim(500000, 600000) # to make the differences between each year stand out more...\n",
    "#plt.title(\"Number of NYC Municipal Employees by Year\")\n",
    "#plt.xlabel(\"Fiscal Year\")\n",
    "#plt.ylabel(\"Count\")\n",
    "\n",
    "import matplotlib.ticker as tkr\n",
    "\n",
    "def func(x, pos):  # formatter function takes tick label and tick position\n",
    "    s = '%d' % x\n",
    "    groups = []\n",
    "    while s and s[-1].isdigit():\n",
    "        groups.append(s[-3:])\n",
    "        s = s[:-3]\n",
    "    return s + ','.join(reversed(groups))\n",
    "\n",
    "y_format = tkr.FuncFormatter(func) \n",
    "\n",
    "ax = plt.subplot(111)\n",
    "ax.bar(payroll_year_counts.index, payroll_year_counts.values, color = \"r\")\n",
    "ax.yaxis.set_major_formatter(y_format)\n",
    "ax.set_title(\"Number of NYC Municipal Employees by Year\")\n",
    "ax.set_xlabel(\"Fiscal Year\")\n",
    "ax.set_ylabel(\"Count\")\n",
    "ax.set_ylim(500000, 600000)"
   ]
  },
  {
   "cell_type": "code",
   "execution_count": 28,
   "metadata": {},
   "outputs": [
    {
     "data": {
      "text/plain": [
       "Text(0, 0.5, 'Count')"
      ]
     },
     "execution_count": 28,
     "metadata": {},
     "output_type": "execute_result"
    },
    {
     "data": {
      "image/png": "[encoded data removed]",
      "text/plain": [
       "<Figure size 432x288 with 1 Axes>"
      ]
     },
     "metadata": {
      "needs_background": "light"
     },
     "output_type": "display_data"
    }
   ],
   "source": [
    "## agency-to-agency\n",
    "    \n",
    "payroll_agency_counts = payroll[\"Agency Name\"].value_counts()\n",
    "ax = plt.subplot(111)\n",
    "ax.bar(payroll_agency_counts.index, payroll_agency_counts.values, color = \"b\")\n",
    "ax.yaxis.set_major_formatter(y_format)\n",
    "ax.set_title(\"Number of NYC Municipal Employees by Agency\")\n",
    "ax.set_xlabel(\"Agency Name\")\n",
    "ax.set_ylabel(\"Count\")\n",
    "#ax.set_ylim(500000, 600000)"
   ]
  },
  {
   "cell_type": "code",
   "execution_count": 29,
   "metadata": {},
   "outputs": [
    {
     "data": {
      "text/plain": [
       "DEPT OF ED PEDAGOGICAL            643361\n",
       "DEPT OF ED PER SESSION TEACHER    502848\n",
       "POLICE DEPARTMENT                 307445\n",
       "BOARD OF ELECTION POLL WORKERS    204209\n",
       "DEPT OF ED PARA PROFESSIONALS     203906\n",
       "DEPT OF ED HRLY SUPPORT STAFF     142792\n",
       "FIRE DEPARTMENT                   109626\n",
       "DEPT OF PARKS & RECREATION        103204\n",
       "DEPARTMENT OF EDUCATION ADMIN      93067\n",
       "HRA/DEPT OF SOCIAL SERVICES        89784\n",
       "Name: Agency Name, dtype: int64"
      ]
     },
     "execution_count": 29,
     "metadata": {},
     "output_type": "execute_result"
    }
   ],
   "source": [
    "payroll_agency_counts.head(10) #85,000 is a good cutoff"
   ]
  },
  {
   "cell_type": "code",
   "execution_count": 30,
   "metadata": {},
   "outputs": [
    {
     "data": {
      "text/plain": [
       "DEPT OF ED PEDAGOGICAL            643361\n",
       "DEPT OF ED PER SESSION TEACHER    502848\n",
       "POLICE DEPARTMENT                 307445\n",
       "BOARD OF ELECTION POLL WORKERS    204209\n",
       "DEPT OF ED PARA PROFESSIONALS     203906\n",
       "DEPT OF ED HRLY SUPPORT STAFF     142792\n",
       "FIRE DEPARTMENT                   109626\n",
       "DEPT OF PARKS & RECREATION        103204\n",
       "DEPARTMENT OF EDUCATION ADMIN      93067\n",
       "HRA/DEPT OF SOCIAL SERVICES        89784\n",
       "Name: Agency Name, dtype: int64"
      ]
     },
     "execution_count": 30,
     "metadata": {},
     "output_type": "execute_result"
    }
   ],
   "source": [
    "payroll_agency_counts_filter = payroll_agency_counts >= 85000\n",
    "payroll_agency_counts_top = payroll_agency_counts[payroll_agency_counts_filter]\n",
    "payroll_agency_counts_top"
   ]
  },
  {
   "cell_type": "code",
   "execution_count": 31,
   "metadata": {},
   "outputs": [
    {
     "data": {
      "text/plain": [
       "[Text(0, 0, 'DEPT OF ED PEDAGOGICAL'),\n",
       " Text(1, 0, 'DEPT OF ED PER SESSION TEACHER'),\n",
       " Text(2, 0, 'POLICE DEPARTMENT'),\n",
       " Text(3, 0, 'BOARD OF ELECTION POLL WORKERS'),\n",
       " Text(4, 0, 'DEPT OF ED PARA PROFESSIONALS'),\n",
       " Text(5, 0, 'DEPT OF ED HRLY SUPPORT STAFF'),\n",
       " Text(6, 0, 'FIRE DEPARTMENT'),\n",
       " Text(7, 0, 'DEPT OF PARKS & RECREATION'),\n",
       " Text(8, 0, 'DEPARTMENT OF EDUCATION ADMIN'),\n",
       " Text(9, 0, 'HRA/DEPT OF SOCIAL SERVICES')]"
      ]
     },
     "execution_count": 31,
     "metadata": {},
     "output_type": "execute_result"
    },
    {
     "data": {
      "image/png": "[encoded data removed]",
      "text/plain": [
       "<Figure size 432x288 with 1 Axes>"
      ]
     },
     "metadata": {
      "needs_background": "light"
     },
     "output_type": "display_data"
    }
   ],
   "source": [
    "ax = plt.subplot(111)\n",
    "ax.bar(payroll_agency_counts_top.index, payroll_agency_counts_top.values, color = \"b\")\n",
    "ax.yaxis.set_major_formatter(y_format)\n",
    "ax.set_title(\"Number of NYC Municipal Employees by Agency\")\n",
    "ax.set_xlabel(\"Agency Name\")\n",
    "ax.set_ylabel(\"Count\")\n",
    "plt.draw()\n",
    "ax.set_xticklabels(ax.get_xticklabels(), rotation=90)\n",
    "#ax.set_ylim(500000, 600000)"
   ]
  },
  {
   "cell_type": "code",
   "execution_count": 32,
   "metadata": {},
   "outputs": [
    {
     "data": {
      "text/plain": [
       "[Text(0, 0, 'MANHATTAN'),\n",
       " Text(1, 0, 'QUEENS'),\n",
       " Text(2, 0, 'BROOKLYN'),\n",
       " Text(3, 0, 'BRONX'),\n",
       " Text(4, 0, 'OTHER'),\n",
       " Text(5, 0, 'RICHMOND'),\n",
       " Text(6, 0, 'WESTCHESTER'),\n",
       " Text(7, 0, 'Manhattan'),\n",
       " Text(8, 0, 'ULSTER'),\n",
       " Text(9, 0, 'Bronx'),\n",
       " Text(10, 0, 'SULLIVAN'),\n",
       " Text(11, 0, 'Queens'),\n",
       " Text(12, 0, 'DELAWARE'),\n",
       " Text(13, 0, 'PUTNAM'),\n",
       " Text(14, 0, 'NASSAU'),\n",
       " Text(15, 0, 'SCHOHARIE'),\n",
       " Text(16, 0, 'Richmond'),\n",
       " Text(17, 0, 'DUTCHESS'),\n",
       " Text(18, 0, 'ALBANY'),\n",
       " Text(19, 0, 'GREENE'),\n",
       " Text(20, 0, 'WASHINGTON DC'),\n",
       " Text(21, 0, 'ORANGE')]"
      ]
     },
     "execution_count": 32,
     "metadata": {},
     "output_type": "execute_result"
    },
    {
     "data": {
      "image/png": "[encoded data removed]",
      "text/plain": [
       "<Figure size 432x288 with 1 Axes>"
      ]
     },
     "metadata": {
      "needs_background": "light"
     },
     "output_type": "display_data"
    }
   ],
   "source": [
    "    ## borough-to-borough\n",
    "payroll_borough_counts = payroll[\"Work Location Borough\"].value_counts()\n",
    "ax = plt.subplot(111)\n",
    "ax.bar(payroll_borough_counts.index, payroll_borough_counts.values, color = \"r\")\n",
    "ax.yaxis.set_major_formatter(y_format)\n",
    "ax.set_title(\"Number of NYC Municipal Employees by Borough\")\n",
    "ax.set_xlabel(\"Borough\")\n",
    "ax.set_ylabel(\"Count\")\n",
    "plt.draw()\n",
    "ax.set_xticklabels(ax.get_xticklabels(), rotation=90)\n",
    "# way more than five boroughs are listed here, many of them aren't even in the city "
   ]
  },
  {
   "cell_type": "code",
   "execution_count": 33,
   "metadata": {},
   "outputs": [],
   "source": [
    "payroll2 = payroll.copy()"
   ]
  },
  {
   "cell_type": "code",
   "execution_count": 34,
   "metadata": {},
   "outputs": [
    {
     "data": {
      "text/plain": [
       "['ALBANY',\n",
       " 'DELAWARE',\n",
       " 'NASSAU',\n",
       " 'SULLIVAN',\n",
       " 'ORANGE',\n",
       " 'WESTCHESTER',\n",
       " nan,\n",
       " 'ULSTER',\n",
       " 'PUTNAM',\n",
       " 'DUTCHESS',\n",
       " 'SCHOHARIE',\n",
       " 'GREENE',\n",
       " 'WASHINGTON DC']"
      ]
     },
     "execution_count": 34,
     "metadata": {},
     "output_type": "execute_result"
    }
   ],
   "source": [
    "# values to convert to \"Other\"\n",
    "values = payroll2[\"Work Location Borough\"].unique()\n",
    "values = values[6:]\n",
    "values = values.tolist()\n",
    "values.remove(\"Bronx\")\n",
    "values.remove(\"Queens\")\n",
    "values.remove(\"Richmond\")\n",
    "values.remove(\"Manhattan\")\n",
    "values"
   ]
  },
  {
   "cell_type": "code",
   "execution_count": 35,
   "metadata": {},
   "outputs": [],
   "source": [
    "payroll2 = payroll2.replace(\"MANHATTAN\", \"Manhattan\")\n",
    "payroll2 = payroll2.replace(\"QUEENS\", \"Queens\")\n",
    "payroll2 = payroll2.replace(\"BROOKLYN\", \"Brooklyn\")\n",
    "payroll2 = payroll2.replace(\"BRONX\", \"Bronx\")\n",
    "payroll2 = payroll2.replace(\"RICHMOND\", \"Staten Island\")\n",
    "payroll2 = payroll2.replace(\"Richmond\", \"Staten Island\")\n",
    "payroll2 = payroll2.replace(values, \"Other\")\n",
    "payroll2 = payroll2.replace(\"OTHER\", \"Other\")"
   ]
  },
  {
   "cell_type": "code",
   "execution_count": 36,
   "metadata": {},
   "outputs": [
    {
     "data": {
      "text/plain": [
       "Manhattan        1975275\n",
       "Other             584295\n",
       "Queens            314935\n",
       "Brooklyn          270118\n",
       "Bronx             150130\n",
       "Staten Island      38343\n",
       "Name: Work Location Borough, dtype: int64"
      ]
     },
     "execution_count": 36,
     "metadata": {},
     "output_type": "execute_result"
    }
   ],
   "source": [
    "payroll2[\"Work Location Borough\"].value_counts() # despite not looking like much at a first glance, the amount of\n",
    "                                                 # NYC municipal employees that work outside the city is extremely\n",
    "                                                 # significant"
   ]
  },
  {
   "cell_type": "code",
   "execution_count": 37,
   "metadata": {},
   "outputs": [
    {
     "data": {
      "text/plain": [
       "[Text(0, 0, 'Manhattan'),\n",
       " Text(1, 0, 'Other'),\n",
       " Text(2, 0, 'Queens'),\n",
       " Text(3, 0, 'Brooklyn'),\n",
       " Text(4, 0, 'Bronx'),\n",
       " Text(5, 0, 'Staten Island')]"
      ]
     },
     "execution_count": 37,
     "metadata": {},
     "output_type": "execute_result"
    },
    {
     "data": {
      "image/png": "[encoded data removed]",
      "text/plain": [
       "<Figure size 432x288 with 1 Axes>"
      ]
     },
     "metadata": {
      "needs_background": "light"
     },
     "output_type": "display_data"
    }
   ],
   "source": [
    "    ## revised borough-to-borough\n",
    "payroll_borough_counts = payroll2[\"Work Location Borough\"].value_counts()\n",
    "ax = plt.subplot(111)\n",
    "ax.bar(payroll_borough_counts.index, payroll_borough_counts.values, color = \"pink\")\n",
    "ax.yaxis.set_major_formatter(y_format)\n",
    "ax.set_title(\"Number of NYC Municipal Employees by Borough\")\n",
    "ax.set_xlabel(\"Borough\")\n",
    "ax.set_ylabel(\"Count\")\n",
    "plt.draw()\n",
    "ax.set_xticklabels(ax.get_xticklabels(), rotation=90)"
   ]
  },
  {
   "cell_type": "code",
   "execution_count": 38,
   "metadata": {},
   "outputs": [],
   "source": [
    "payroll[\"Borough\"] = payroll2[\"Work Location Borough\"] # add the altered boroughs to the original dataset"
   ]
  },
  {
   "cell_type": "code",
   "execution_count": 39,
   "metadata": {},
   "outputs": [
    {
     "data": {
      "text/plain": [
       "Text(0, 0.5, 'Frequency')"
      ]
     },
     "execution_count": 39,
     "metadata": {},
     "output_type": "execute_result"
    },
    {
     "data": {
      "image/png": "[encoded data removed]",
      "text/plain": [
       "<Figure size 432x288 with 1 Axes>"
      ]
     },
     "metadata": {
      "needs_background": "light"
     },
     "output_type": "display_data"
    }
   ],
   "source": [
    "# distributions of base pay\n",
    "payroll_sample[\"Base Salary\"].hist(grid = False, edgecolor = \"white\", bins = 20)\n",
    "plt.title(\"Distribution of Base Salary\")\n",
    "plt.xlabel(\"Base Salary\")\n",
    "plt.ylabel(\"Frequency\")"
   ]
  },
  {
   "cell_type": "code",
   "execution_count": 40,
   "metadata": {},
   "outputs": [
    {
     "data": {
      "text/plain": [
       "[<matplotlib.lines.Line2D at 0x26592d74d30>]"
      ]
     },
     "execution_count": 40,
     "metadata": {},
     "output_type": "execute_result"
    },
    {
     "data": {
      "image/png": "[encoded data removed]",
      "text/plain": [
       "<Figure size 432x288 with 1 Axes>"
      ]
     },
     "metadata": {
      "needs_background": "light"
     },
     "output_type": "display_data"
    }
   ],
   "source": [
    "\n",
    "paid_filter = payroll_sample[\"Base Salary\"] > 18000\n",
    "paid_payroll_sample = payroll_sample[paid_filter]\n",
    "\n",
    "paid_payroll_sample[\"Base Salary\"].hist(grid = False, edgecolor = \"white\", bins = 15, density = True, color = \"blue\")\n",
    "plt.title(\"Distribution of Base Salary\")\n",
    "plt.xlabel(\"Base Salary\")\n",
    "plt.ylabel(\"Density\")\n",
    "\n",
    "import numpy as np\n",
    "import scipy.stats as stats\n",
    "x = np.arange(paid_payroll_sample[\"Base Salary\"].min(), paid_payroll_sample[\"Base Salary\"].max(), 1000)\n",
    "y = stats.norm.pdf(x, loc = paid_payroll_sample[\"Base Salary\"].mean(), scale = paid_payroll_sample[\"Base Salary\"].std())\n",
    "plt.plot(x,y, color = \"red\", linewidth = 3)"
   ]
  },
  {
   "cell_type": "code",
   "execution_count": 41,
   "metadata": {},
   "outputs": [
    {
     "name": "stdout",
     "output_type": "stream",
     "text": [
      "After you filter out the employees with lower salaries, the distribution of base salary roughly resembles\n",
      "N(70636.02, 28406.76).\n"
     ]
    }
   ],
   "source": [
    "print(\"After you filter out the employees with lower salaries, the distribution of base salary roughly resembles\")\n",
    "print(\"N(\" + str(round(paid_payroll_sample[\"Base Salary\"].mean(), 2)) + \", \" + str(round(paid_payroll_sample[\"Base Salary\"].std(), 2)) + \").\")"
   ]
  },
  {
   "cell_type": "code",
   "execution_count": 88,
   "metadata": {},
   "outputs": [],
   "source": [
    "base_salary_means = []\n",
    "for i in range(10000): \n",
    "    sample = payroll_sample[\"Base Salary\"].sample(len(payroll_sample[\"Base Salary\"]), replace = True) \n",
    "    sample_mean = sample.mean()\n",
    "    base_salary_means.append(sample_mean)"
   ]
  },
  {
   "cell_type": "code",
   "execution_count": 89,
   "metadata": {},
   "outputs": [
    {
     "data": {
      "text/plain": [
       "Text(0, 0.5, 'Frequency')"
      ]
     },
     "execution_count": 89,
     "metadata": {},
     "output_type": "execute_result"
    },
    {
     "data": {
      "image/png": "[encoded data removed]",
      "text/plain": [
       "<Figure size 432x288 with 1 Axes>"
      ]
     },
     "metadata": {
      "needs_background": "light"
     },
     "output_type": "display_data"
    }
   ],
   "source": [
    "base_salary_means = pd.Series(base_salary_means)\n",
    "base_salary_means.hist(bins = 30, edgecolor = \"white\", grid = False, color = \"g\", )\n",
    "plt.title(\"Distribution of Bootstrapped Sample Means of Base Salary\")\n",
    "plt.xlabel(\"Sample Mean\")\n",
    "plt.ylabel(\"Frequency\")"
   ]
  },
  {
   "cell_type": "code",
   "execution_count": 92,
   "metadata": {},
   "outputs": [
    {
     "name": "stdout",
     "output_type": "stream",
     "text": [
      "The 95% Confidence Interval of Base Salary is $42211.0 - $42602.44\n",
      "With such a small confidence interval, one can conclude that the average NYC municipal employee has a base salary of ~$42,000.\n"
     ]
    }
   ],
   "source": [
    "low = base_salary_means.quantile(0.025)\n",
    "high = base_salary_means.quantile(0.975)\n",
    "print(\"The 95% Confidence Interval of Base Salary is $\" + str(round(low, 2)) + \" - $\" + str(round(high, 2)))\n",
    "print(\"With such a small confidence interval, one can conclude that the average NYC municipal employee has a base salary of ~$42,000.\")"
   ]
  },
  {
   "cell_type": "code",
   "execution_count": 102,
   "metadata": {},
   "outputs": [
    {
     "name": "stdout",
     "output_type": "stream",
     "text": [
      "Median Base Salary: $41069.0\n"
     ]
    }
   ],
   "source": [
    "print(\"Median Base Salary: $\" + str(payroll_sample[\"Base Salary\"].median()))"
   ]
  },
  {
   "cell_type": "code",
   "execution_count": 191,
   "metadata": {},
   "outputs": [
    {
     "data": {
      "text/plain": [
       "[<matplotlib.lines.Line2D at 0x2658fb38668>]"
      ]
     },
     "execution_count": 191,
     "metadata": {},
     "output_type": "execute_result"
    },
    {
     "data": {
      "image/png": "[encoded data removed]",
      "text/plain": [
       "<Figure size 432x288 with 1 Axes>"
      ]
     },
     "metadata": {
      "needs_background": "light"
     },
     "output_type": "display_data"
    }
   ],
   "source": [
    "# distributions of total pay\n",
    "payroll_sample[\"Total Pay\"].hist(grid = False, edgecolor = \"white\", bins = 20, density = True, color = \"b\")\n",
    "plt.title(\"Distribution of Total Pay\")\n",
    "plt.xlabel(\"Total Pay\")\n",
    "plt.ylabel(\"Density\")\n",
    "\n",
    "x = np.arange(payroll_sample[\"Total Pay\"].min(), payroll_sample[\"Total Pay\"].max(), 1000)\n",
    "y = stats.expon.pdf(x, scale = payroll_sample[\"Total Pay\"].mean())\n",
    "plt.plot(x,y, color = \"red\", linewidth = 3)"
   ]
  },
  {
   "cell_type": "code",
   "execution_count": 77,
   "metadata": {},
   "outputs": [
    {
     "data": {
      "text/plain": [
       "2.2224433177292497e-05"
      ]
     },
     "execution_count": 77,
     "metadata": {},
     "output_type": "execute_result"
    }
   ],
   "source": [
    "1 / payroll_sample[\"Total Pay\"].mean()"
   ]
  },
  {
   "cell_type": "code",
   "execution_count": 81,
   "metadata": {},
   "outputs": [
    {
     "name": "stdout",
     "output_type": "stream",
     "text": [
      "The distribution of total pay roughly resembles E(2.222e-05)\n"
     ]
    }
   ],
   "source": [
    "print(\"The distribution of total pay roughly resembles\" + \" E(\" + str(round((1 / payroll_sample[\"Total Pay\"].mean()), 8)) + \")\")"
   ]
  },
  {
   "cell_type": "code",
   "execution_count": 84,
   "metadata": {},
   "outputs": [],
   "source": [
    "total_pay_means = []\n",
    "for i in range(10000): \n",
    "    sample = payroll_sample[\"Total Pay\"].sample(len(payroll_sample[\"Total Pay\"]), replace = True) \n",
    "    sample_mean = sample.mean()\n",
    "    total_pay_means.append(sample_mean)"
   ]
  },
  {
   "cell_type": "code",
   "execution_count": 85,
   "metadata": {},
   "outputs": [
    {
     "data": {
      "text/plain": [
       "Text(0, 0.5, 'Frequency')"
      ]
     },
     "execution_count": 85,
     "metadata": {},
     "output_type": "execute_result"
    },
    {
     "data": {
      "image/png": "[encoded data removed]",
      "text/plain": [
       "<Figure size 432x288 with 1 Axes>"
      ]
     },
     "metadata": {
      "needs_background": "light"
     },
     "output_type": "display_data"
    }
   ],
   "source": [
    "total_pay_means = pd.Series(total_pay_means)\n",
    "total_pay_means.hist(bins = 30, edgecolor = \"white\", grid = False, color = \"g\", )\n",
    "plt.title(\"Distribution of Bootstrapped Sample Means of Total Pay\")\n",
    "plt.xlabel(\"Sample Mean\")\n",
    "plt.ylabel(\"Frequency\")"
   ]
  },
  {
   "cell_type": "code",
   "execution_count": 96,
   "metadata": {},
   "outputs": [
    {
     "name": "stdout",
     "output_type": "stream",
     "text": [
      "The 95% Confidence Interval of Total Pay is $44789.61 - $45198.51\n",
      "With such a small confidence interval, one can conclude that the average NYC municipal employee has\n",
      "a total pay of ~$45000.\n"
     ]
    }
   ],
   "source": [
    "low = total_pay_means.quantile(0.025)\n",
    "high = total_pay_means.quantile(0.975)\n",
    "print(\"The 95% Confidence Interval of Total Pay is $\" + str(round(low, 2)) + \" - $\" + str(round(high, 2)))\n",
    "print(\"With such a small confidence interval, one can conclude that the average NYC municipal employee has\\na total pay of ~$45000.\")"
   ]
  },
  {
   "cell_type": "code",
   "execution_count": 101,
   "metadata": {},
   "outputs": [
    {
     "name": "stdout",
     "output_type": "stream",
     "text": [
      "Median Total Pay: $37171.02\n"
     ]
    }
   ],
   "source": [
    "print(\"Median Total Pay: $\" + str(payroll_sample[\"Total Pay\"].median()))"
   ]
  },
  {
   "cell_type": "code",
   "execution_count": 93,
   "metadata": {},
   "outputs": [
    {
     "name": "stdout",
     "output_type": "stream",
     "text": [
      "It's important to note that there is no overlap between the base salary 95% confidence interval and the\n",
      "total pay 95% confidence interval\n"
     ]
    }
   ],
   "source": [
    "print(\"It's important to note that there is no overlap between the base salary 95% confidence interval and the\")\n",
    "print(\"total pay 95% confidence interval\")."
   ]
  },
  {
   "cell_type": "code",
   "execution_count": 103,
   "metadata": {},
   "outputs": [
    {
     "name": "stdout",
     "output_type": "stream",
     "text": [
      "It's also important to note that despite the mean total pay being expectedly higher than the mean base salary pay,\n",
      "the median total pay is unexpectedly lower than the median base salary...\n"
     ]
    }
   ],
   "source": [
    "print(\"It's also important to note that despite the mean total pay being expectedly higher than the mean base salary pay,\")\n",
    "print(\"the median total pay is unexpectedly lower than the median base salary...\")"
   ]
  },
  {
   "cell_type": "code",
   "execution_count": 111,
   "metadata": {},
   "outputs": [],
   "source": [
    "# one-way ANOVA on base pay by borough \n",
    "    ## Statistical Test: One-Way ANOVA\n",
    "    ## NULL HYPOTHESIS: The base pay means are equal across boroughs.\n",
    "    ## ALTERNATE HYPTHESIS: The base pay means differ across boroughs.\n",
    "\n",
    "import statsmodels.api as sm\n",
    "from statsmodels.formula.api import ols"
   ]
  },
  {
   "cell_type": "code",
   "execution_count": 169,
   "metadata": {},
   "outputs": [],
   "source": [
    "payroll[\"Total Pay\"] = payroll[\"Regular Gross Paid\"] + payroll[\"Total OT Paid\"]"
   ]
  },
  {
   "cell_type": "code",
   "execution_count": 170,
   "metadata": {},
   "outputs": [],
   "source": [
    "manhattan_filter = payroll[\"Borough\"] == \"Manhattan\"\n",
    "manhattan_payroll = payroll[manhattan_filter]\n",
    "manhattan_base_pay = manhattan_payroll[\"Base Salary\"]"
   ]
  },
  {
   "cell_type": "code",
   "execution_count": 171,
   "metadata": {},
   "outputs": [],
   "source": [
    "other_filter = payroll[\"Borough\"] == \"Other\"\n",
    "other_payroll = payroll[other_filter]\n",
    "other_base_pay = other_payroll[\"Base Salary\"]"
   ]
  },
  {
   "cell_type": "code",
   "execution_count": 172,
   "metadata": {},
   "outputs": [],
   "source": [
    "queens_filter = payroll[\"Borough\"] == \"Queens\"\n",
    "queens_payroll = payroll[queens_filter]\n",
    "queens_base_pay = queens_payroll[\"Base Salary\"]"
   ]
  },
  {
   "cell_type": "code",
   "execution_count": 173,
   "metadata": {},
   "outputs": [],
   "source": [
    "brooklyn_filter = payroll[\"Borough\"] == \"Brooklyn\"\n",
    "brooklyn_payroll = payroll[brooklyn_filter]\n",
    "brooklyn_base_pay = brooklyn_payroll[\"Base Salary\"]"
   ]
  },
  {
   "cell_type": "code",
   "execution_count": 174,
   "metadata": {},
   "outputs": [],
   "source": [
    "bronx_filter = payroll[\"Borough\"] == \"Bronx\"\n",
    "bronx_payroll = payroll[bronx_filter]\n",
    "bronx_base_pay = bronx_payroll[\"Base Salary\"]"
   ]
  },
  {
   "cell_type": "code",
   "execution_count": 175,
   "metadata": {},
   "outputs": [],
   "source": [
    "staten_island_filter = payroll[\"Borough\"] == \"Staten Island\"\n",
    "staten_island_payroll = payroll[staten_island_filter]\n",
    "staten_island_base_pay = staten_island_payroll[\"Base Salary\"]"
   ]
  },
  {
   "cell_type": "code",
   "execution_count": 130,
   "metadata": {},
   "outputs": [],
   "source": [
    "manhattan_base_pay = manhattan_base_pay.reset_index()[\"Base Salary\"]\n",
    "other_base_pay = other_base_pay.reset_index()[\"Base Salary\"]\n",
    "queens_base_pay = queens_base_pay.reset_index()[\"Base Salary\"]\n",
    "brooklyn_base_pay = brooklyn_base_pay.reset_index()[\"Base Salary\"]\n",
    "bronx_base_pay = bronx_base_pay.reset_index()[\"Base Salary\"]\n",
    "staten_island_base_pay = staten_island_base_pay.reset_index()[\"Base Salary\"]"
   ]
  },
  {
   "cell_type": "code",
   "execution_count": 131,
   "metadata": {},
   "outputs": [],
   "source": [
    "frame = {\"Manhattan\": manhattan_base_pay, \"Other\": other_base_pay, \"Queens\": queens_base_pay, \"Brooklyn\": brooklyn_base_pay, \"Bronx\": bronx_base_pay, \"Staten Island\": staten_island_base_pay}"
   ]
  },
  {
   "cell_type": "code",
   "execution_count": 132,
   "metadata": {},
   "outputs": [
    {
     "data": {
      "text/html": [
       "<div>\n",
       "<style scoped>\n",
       "    .dataframe tbody tr th:only-of-type {\n",
       "        vertical-align: middle;\n",
       "    }\n",
       "\n",
       "    .dataframe tbody tr th {\n",
       "        vertical-align: top;\n",
       "    }\n",
       "\n",
       "    .dataframe thead th {\n",
       "        text-align: right;\n",
       "    }\n",
       "</style>\n",
       "<table border=\"1\" class=\"dataframe\">\n",
       "  <thead>\n",
       "    <tr style=\"text-align: right;\">\n",
       "      <th></th>\n",
       "      <th>Manhattan</th>\n",
       "      <th>Other</th>\n",
       "      <th>Queens</th>\n",
       "      <th>Brooklyn</th>\n",
       "      <th>Bronx</th>\n",
       "      <th>Staten Island</th>\n",
       "    </tr>\n",
       "  </thead>\n",
       "  <tbody>\n",
       "    <tr>\n",
       "      <th>0</th>\n",
       "      <td>47678.0</td>\n",
       "      <td>126199.0</td>\n",
       "      <td>90822.00</td>\n",
       "      <td>48566.0</td>\n",
       "      <td>78026.0</td>\n",
       "      <td>13.83</td>\n",
       "    </tr>\n",
       "    <tr>\n",
       "      <th>1</th>\n",
       "      <td>119959.0</td>\n",
       "      <td>166460.0</td>\n",
       "      <td>78026.00</td>\n",
       "      <td>103585.0</td>\n",
       "      <td>118902.0</td>\n",
       "      <td>54490.00</td>\n",
       "    </tr>\n",
       "    <tr>\n",
       "      <th>2</th>\n",
       "      <td>39966.0</td>\n",
       "      <td>39841.0</td>\n",
       "      <td>11.79</td>\n",
       "      <td>42819.0</td>\n",
       "      <td>26536.0</td>\n",
       "      <td>73343.00</td>\n",
       "    </tr>\n",
       "    <tr>\n",
       "      <th>3</th>\n",
       "      <td>116000.0</td>\n",
       "      <td>101764.0</td>\n",
       "      <td>111292.00</td>\n",
       "      <td>39882.0</td>\n",
       "      <td>56395.0</td>\n",
       "      <td>88968.00</td>\n",
       "    </tr>\n",
       "    <tr>\n",
       "      <th>4</th>\n",
       "      <td>1.0</td>\n",
       "      <td>170000.0</td>\n",
       "      <td>57920.00</td>\n",
       "      <td>118902.0</td>\n",
       "      <td>64900.0</td>\n",
       "      <td>71843.00</td>\n",
       "    </tr>\n",
       "  </tbody>\n",
       "</table>\n",
       "</div>"
      ],
      "text/plain": [
       "   Manhattan     Other     Queens  Brooklyn     Bronx  Staten Island\n",
       "0    47678.0  126199.0   90822.00   48566.0   78026.0          13.83\n",
       "1   119959.0  166460.0   78026.00  103585.0  118902.0       54490.00\n",
       "2    39966.0   39841.0      11.79   42819.0   26536.0       73343.00\n",
       "3   116000.0  101764.0  111292.00   39882.0   56395.0       88968.00\n",
       "4        1.0  170000.0   57920.00  118902.0   64900.0       71843.00"
      ]
     },
     "execution_count": 132,
     "metadata": {},
     "output_type": "execute_result"
    }
   ],
   "source": [
    "base_pay = pd.DataFrame(frame)\n",
    "base_pay.head()"
   ]
  },
  {
   "cell_type": "code",
   "execution_count": 134,
   "metadata": {},
   "outputs": [
    {
     "data": {
      "text/html": [
       "<div>\n",
       "<style scoped>\n",
       "    .dataframe tbody tr th:only-of-type {\n",
       "        vertical-align: middle;\n",
       "    }\n",
       "\n",
       "    .dataframe tbody tr th {\n",
       "        vertical-align: top;\n",
       "    }\n",
       "\n",
       "    .dataframe thead th {\n",
       "        text-align: right;\n",
       "    }\n",
       "</style>\n",
       "<table border=\"1\" class=\"dataframe\">\n",
       "  <thead>\n",
       "    <tr style=\"text-align: right;\">\n",
       "      <th></th>\n",
       "      <th>sum_sq</th>\n",
       "      <th>df</th>\n",
       "      <th>F</th>\n",
       "      <th>PR(&gt;F)</th>\n",
       "    </tr>\n",
       "  </thead>\n",
       "  <tbody>\n",
       "    <tr>\n",
       "      <th>C(treatments)</th>\n",
       "      <td>1.043020e+14</td>\n",
       "      <td>5.0</td>\n",
       "      <td>12713.042734</td>\n",
       "      <td>0.0</td>\n",
       "    </tr>\n",
       "    <tr>\n",
       "      <th>Residual</th>\n",
       "      <td>5.469156e+15</td>\n",
       "      <td>3333090.0</td>\n",
       "      <td>NaN</td>\n",
       "      <td>NaN</td>\n",
       "    </tr>\n",
       "  </tbody>\n",
       "</table>\n",
       "</div>"
      ],
      "text/plain": [
       "                     sum_sq         df             F  PR(>F)\n",
       "C(treatments)  1.043020e+14        5.0  12713.042734     0.0\n",
       "Residual       5.469156e+15  3333090.0           NaN     NaN"
      ]
     },
     "execution_count": 134,
     "metadata": {},
     "output_type": "execute_result"
    }
   ],
   "source": [
    "base_pay_melt = pd.melt(base_pay.reset_index(), id_vars=['index'], value_vars=[\"Manhattan\", \"Other\", \"Queens\", \"Brooklyn\", \"Bronx\", \"Staten Island\"])\n",
    "base_pay_melt.columns = ['index', 'treatments', 'value']\n",
    "model = ols('value ~ C(treatments)', data=base_pay_melt).fit()\n",
    "anova_table = sm.stats.anova_lm(model, typ=2)\n",
    "anova_table"
   ]
  },
  {
   "cell_type": "code",
   "execution_count": 156,
   "metadata": {},
   "outputs": [],
   "source": [
    "r_squared = 100 * 1.043020e+14 / (1.043020e+14 + 5.469156e+15)"
   ]
  },
  {
   "cell_type": "code",
   "execution_count": 143,
   "metadata": {},
   "outputs": [],
   "source": [
    "df1 = 6 - 1\n",
    "df_total = len(manhattan_base_pay) + len(other_base_pay) + len(queens_base_pay) + len(brooklyn_base_pay)+ len(bronx_base_pay) + len(staten_island_base_pay)\n",
    "df_total = df_total - 1 \n",
    "df2 = df_total - df1"
   ]
  },
  {
   "cell_type": "code",
   "execution_count": 162,
   "metadata": {},
   "outputs": [
    {
     "name": "stdout",
     "output_type": "stream",
     "text": [
      "Due to the large population size, it's not necessary to check the one-way ANOVA assumptions of normality and equal variation\n",
      "Strong evidence of heterogeneity in base salary was present among the boroughs (F(5, 3333090), p < 0.01, ANOVA)\n",
      "However, it's important to note the low R-Squared = 1.87%\n",
      "The one-way ANOVA model only explains 1.87% of the variation in base pay\n"
     ]
    }
   ],
   "source": [
    "print(\"Due to the large population size, it's not necessary to check the one-way ANOVA assumptions of normality and equal variation\")\n",
    "print(\"Strong evidence of heterogeneity in base salary was present among the boroughs (F(\" + str(df1) + \", \" + str(df2) +\"), p < 0.01, ANOVA)\")\n",
    "print(\"However, it's important to note the low R-Squared = \" + str(round(r_squared, 2)) + \"%\")\n",
    "print(\"The one-way ANOVA model only explains \" + str(round(r_squared, 2)) + \"% of the variation in base pay\")"
   ]
  },
  {
   "cell_type": "code",
   "execution_count": 47,
   "metadata": {},
   "outputs": [],
   "source": [
    "# one-way ANOVA on actual pay by borough \n",
    "    ## Statistical Test: One-Way ANOVA\n",
    "    ## NULL HYPOTHESIS: The actual pay means are equal across boroughs.\n",
    "    ## ALTERNATE HYPTHESIS: The actual pay means differ across boroughs."
   ]
  },
  {
   "cell_type": "code",
   "execution_count": 164,
   "metadata": {},
   "outputs": [
    {
     "data": {
      "text/html": [
       "<div>\n",
       "<style scoped>\n",
       "    .dataframe tbody tr th:only-of-type {\n",
       "        vertical-align: middle;\n",
       "    }\n",
       "\n",
       "    .dataframe tbody tr th {\n",
       "        vertical-align: top;\n",
       "    }\n",
       "\n",
       "    .dataframe thead th {\n",
       "        text-align: right;\n",
       "    }\n",
       "</style>\n",
       "<table border=\"1\" class=\"dataframe\">\n",
       "  <thead>\n",
       "    <tr style=\"text-align: right;\">\n",
       "      <th></th>\n",
       "      <th>Fiscal Year</th>\n",
       "      <th>Payroll Number</th>\n",
       "      <th>Agency Name</th>\n",
       "      <th>Last Name</th>\n",
       "      <th>First Name</th>\n",
       "      <th>Mid Init</th>\n",
       "      <th>Agency Start Date</th>\n",
       "      <th>Work Location Borough</th>\n",
       "      <th>Title Description</th>\n",
       "      <th>Leave Status as of June 30</th>\n",
       "      <th>Base Salary</th>\n",
       "      <th>Pay Basis</th>\n",
       "      <th>Regular Hours</th>\n",
       "      <th>Regular Gross Paid</th>\n",
       "      <th>OT Hours</th>\n",
       "      <th>Total OT Paid</th>\n",
       "      <th>Total Other Pay</th>\n",
       "      <th>Borough</th>\n",
       "    </tr>\n",
       "  </thead>\n",
       "  <tbody>\n",
       "    <tr>\n",
       "      <th>0</th>\n",
       "      <td>2016</td>\n",
       "      <td>NaN</td>\n",
       "      <td>DISTRICT ATTORNEY-MANHATTAN</td>\n",
       "      <td>ABA'AHMID</td>\n",
       "      <td>RAHASHEEM</td>\n",
       "      <td>E</td>\n",
       "      <td>07/14/2003</td>\n",
       "      <td>MANHATTAN</td>\n",
       "      <td>COMMUNITY ASSOCIATE</td>\n",
       "      <td>ACTIVE</td>\n",
       "      <td>47678.0</td>\n",
       "      <td>per Annum</td>\n",
       "      <td>1830.00</td>\n",
       "      <td>47166.03</td>\n",
       "      <td>2.25</td>\n",
       "      <td>57.28</td>\n",
       "      <td>0.0</td>\n",
       "      <td>Manhattan</td>\n",
       "    </tr>\n",
       "    <tr>\n",
       "      <th>1</th>\n",
       "      <td>2016</td>\n",
       "      <td>NaN</td>\n",
       "      <td>DISTRICT ATTORNEY-MANHATTAN</td>\n",
       "      <td>ABENSUR</td>\n",
       "      <td>MARGARET</td>\n",
       "      <td>NaN</td>\n",
       "      <td>06/12/1995</td>\n",
       "      <td>MANHATTAN</td>\n",
       "      <td>ADMINISTRATIVE ACCOUNTANT</td>\n",
       "      <td>ACTIVE</td>\n",
       "      <td>119959.0</td>\n",
       "      <td>per Annum</td>\n",
       "      <td>1831.00</td>\n",
       "      <td>119042.50</td>\n",
       "      <td>0.00</td>\n",
       "      <td>0.00</td>\n",
       "      <td>0.0</td>\n",
       "      <td>Manhattan</td>\n",
       "    </tr>\n",
       "    <tr>\n",
       "      <th>2</th>\n",
       "      <td>2016</td>\n",
       "      <td>NaN</td>\n",
       "      <td>DISTRICT ATTORNEY-MANHATTAN</td>\n",
       "      <td>ABOUNAOUM</td>\n",
       "      <td>ANDREA</td>\n",
       "      <td>L</td>\n",
       "      <td>10/11/2011</td>\n",
       "      <td>MANHATTAN</td>\n",
       "      <td>COMMUNITY ASSOCIATE</td>\n",
       "      <td>ON LEAVE</td>\n",
       "      <td>39966.0</td>\n",
       "      <td>per Annum</td>\n",
       "      <td>1181.68</td>\n",
       "      <td>27452.62</td>\n",
       "      <td>1.00</td>\n",
       "      <td>21.34</td>\n",
       "      <td>33.0</td>\n",
       "      <td>Manhattan</td>\n",
       "    </tr>\n",
       "    <tr>\n",
       "      <th>3</th>\n",
       "      <td>2016</td>\n",
       "      <td>NaN</td>\n",
       "      <td>DISTRICT ATTORNEY-MANHATTAN</td>\n",
       "      <td>ABRAHAM</td>\n",
       "      <td>JONATHAN</td>\n",
       "      <td>J</td>\n",
       "      <td>12/01/2014</td>\n",
       "      <td>MANHATTAN</td>\n",
       "      <td>COMPUTER SYSTEMS MANAGER</td>\n",
       "      <td>ACTIVE</td>\n",
       "      <td>116000.0</td>\n",
       "      <td>per Annum</td>\n",
       "      <td>1831.00</td>\n",
       "      <td>115104.57</td>\n",
       "      <td>0.00</td>\n",
       "      <td>0.00</td>\n",
       "      <td>0.0</td>\n",
       "      <td>Manhattan</td>\n",
       "    </tr>\n",
       "    <tr>\n",
       "      <th>4</th>\n",
       "      <td>2016</td>\n",
       "      <td>NaN</td>\n",
       "      <td>DISTRICT ATTORNEY-MANHATTAN</td>\n",
       "      <td>ABRAMS</td>\n",
       "      <td>JOSEPH</td>\n",
       "      <td>NaN</td>\n",
       "      <td>05/21/2015</td>\n",
       "      <td>MANHATTAN</td>\n",
       "      <td>COLLEGE AIDE</td>\n",
       "      <td>CEASED</td>\n",
       "      <td>1.0</td>\n",
       "      <td>per Hour</td>\n",
       "      <td>0.00</td>\n",
       "      <td>3500.00</td>\n",
       "      <td>0.00</td>\n",
       "      <td>0.00</td>\n",
       "      <td>0.0</td>\n",
       "      <td>Manhattan</td>\n",
       "    </tr>\n",
       "  </tbody>\n",
       "</table>\n",
       "</div>"
      ],
      "text/plain": [
       "   Fiscal Year  Payroll Number                  Agency Name  Last Name  \\\n",
       "0         2016             NaN  DISTRICT ATTORNEY-MANHATTAN  ABA'AHMID   \n",
       "1         2016             NaN  DISTRICT ATTORNEY-MANHATTAN    ABENSUR   \n",
       "2         2016             NaN  DISTRICT ATTORNEY-MANHATTAN  ABOUNAOUM   \n",
       "3         2016             NaN  DISTRICT ATTORNEY-MANHATTAN    ABRAHAM   \n",
       "4         2016             NaN  DISTRICT ATTORNEY-MANHATTAN     ABRAMS   \n",
       "\n",
       "  First Name Mid Init Agency Start Date Work Location Borough  \\\n",
       "0  RAHASHEEM        E        07/14/2003             MANHATTAN   \n",
       "1   MARGARET      NaN        06/12/1995             MANHATTAN   \n",
       "2     ANDREA        L        10/11/2011             MANHATTAN   \n",
       "3   JONATHAN        J        12/01/2014             MANHATTAN   \n",
       "4     JOSEPH      NaN        05/21/2015             MANHATTAN   \n",
       "\n",
       "           Title Description Leave Status as of June 30  Base Salary  \\\n",
       "0        COMMUNITY ASSOCIATE                     ACTIVE      47678.0   \n",
       "1  ADMINISTRATIVE ACCOUNTANT                     ACTIVE     119959.0   \n",
       "2        COMMUNITY ASSOCIATE                   ON LEAVE      39966.0   \n",
       "3   COMPUTER SYSTEMS MANAGER                     ACTIVE     116000.0   \n",
       "4               COLLEGE AIDE                     CEASED          1.0   \n",
       "\n",
       "   Pay Basis  Regular Hours  Regular Gross Paid  OT Hours  Total OT Paid  \\\n",
       "0  per Annum        1830.00            47166.03      2.25          57.28   \n",
       "1  per Annum        1831.00           119042.50      0.00           0.00   \n",
       "2  per Annum        1181.68            27452.62      1.00          21.34   \n",
       "3  per Annum        1831.00           115104.57      0.00           0.00   \n",
       "4   per Hour           0.00             3500.00      0.00           0.00   \n",
       "\n",
       "   Total Other Pay    Borough  \n",
       "0              0.0  Manhattan  \n",
       "1              0.0  Manhattan  \n",
       "2             33.0  Manhattan  \n",
       "3              0.0  Manhattan  \n",
       "4              0.0  Manhattan  "
      ]
     },
     "execution_count": 164,
     "metadata": {},
     "output_type": "execute_result"
    }
   ],
   "source": [
    "manhattan_payroll.head()"
   ]
  },
  {
   "cell_type": "code",
   "execution_count": 168,
   "metadata": {},
   "outputs": [],
   "source": []
  },
  {
   "cell_type": "code",
   "execution_count": 176,
   "metadata": {},
   "outputs": [],
   "source": [
    "manhattan_total_pay = manhattan_payroll[\"Total Pay\"]\n",
    "other_total_pay = other_payroll[\"Total Pay\"]\n",
    "queens_total_pay = queens_payroll[\"Total Pay\"]\n",
    "brooklyn_total_pay = brooklyn_payroll[\"Total Pay\"]\n",
    "bronx_total_pay = bronx_payroll[\"Total Pay\"]\n",
    "staten_island_total_pay = staten_island_payroll[\"Total Pay\"]"
   ]
  },
  {
   "cell_type": "code",
   "execution_count": 178,
   "metadata": {},
   "outputs": [],
   "source": [
    "manhattan_total_pay = manhattan_total_pay.reset_index()[\"Total Pay\"]\n",
    "other_total_pay = other_total_pay.reset_index()[\"Total Pay\"]\n",
    "queens_total_pay = queens_total_pay.reset_index()[\"Total Pay\"]\n",
    "brooklyn_total_pay = brooklyn_total_pay.reset_index()[\"Total Pay\"]\n",
    "bronx_total_pay = bronx_total_pay.reset_index()[\"Total Pay\"]\n",
    "staten_island_total_pay = staten_island_total_pay.reset_index()[\"Total Pay\"]"
   ]
  },
  {
   "cell_type": "code",
   "execution_count": 180,
   "metadata": {},
   "outputs": [],
   "source": [
    "frame = {\"Manhattan\": manhattan_total_pay, \"Other\": other_total_pay, \"Queens\": queens_total_pay, \"Brooklyn\": brooklyn_total_pay, \"Bronx\": bronx_total_pay, \"Staten Island\": staten_island_total_pay}"
   ]
  },
  {
   "cell_type": "code",
   "execution_count": 181,
   "metadata": {},
   "outputs": [
    {
     "data": {
      "text/html": [
       "<div>\n",
       "<style scoped>\n",
       "    .dataframe tbody tr th:only-of-type {\n",
       "        vertical-align: middle;\n",
       "    }\n",
       "\n",
       "    .dataframe tbody tr th {\n",
       "        vertical-align: top;\n",
       "    }\n",
       "\n",
       "    .dataframe thead th {\n",
       "        text-align: right;\n",
       "    }\n",
       "</style>\n",
       "<table border=\"1\" class=\"dataframe\">\n",
       "  <thead>\n",
       "    <tr style=\"text-align: right;\">\n",
       "      <th></th>\n",
       "      <th>Manhattan</th>\n",
       "      <th>Other</th>\n",
       "      <th>Queens</th>\n",
       "      <th>Brooklyn</th>\n",
       "      <th>Bronx</th>\n",
       "      <th>Staten Island</th>\n",
       "    </tr>\n",
       "  </thead>\n",
       "  <tbody>\n",
       "    <tr>\n",
       "      <th>0</th>\n",
       "      <td>47223.31</td>\n",
       "      <td>124410.82</td>\n",
       "      <td>123430.57</td>\n",
       "      <td>48042.47</td>\n",
       "      <td>104755.26</td>\n",
       "      <td>16495.53</td>\n",
       "    </tr>\n",
       "    <tr>\n",
       "      <th>1</th>\n",
       "      <td>119042.50</td>\n",
       "      <td>128540.70</td>\n",
       "      <td>97265.84</td>\n",
       "      <td>118646.85</td>\n",
       "      <td>178850.00</td>\n",
       "      <td>49073.70</td>\n",
       "    </tr>\n",
       "    <tr>\n",
       "      <th>2</th>\n",
       "      <td>27473.96</td>\n",
       "      <td>40413.06</td>\n",
       "      <td>1880.51</td>\n",
       "      <td>41152.48</td>\n",
       "      <td>27557.90</td>\n",
       "      <td>75913.97</td>\n",
       "    </tr>\n",
       "    <tr>\n",
       "      <th>3</th>\n",
       "      <td>115104.57</td>\n",
       "      <td>88936.68</td>\n",
       "      <td>19647.83</td>\n",
       "      <td>47678.30</td>\n",
       "      <td>57685.20</td>\n",
       "      <td>76112.89</td>\n",
       "    </tr>\n",
       "    <tr>\n",
       "      <th>4</th>\n",
       "      <td>3500.00</td>\n",
       "      <td>23409.61</td>\n",
       "      <td>76360.89</td>\n",
       "      <td>140233.72</td>\n",
       "      <td>66857.98</td>\n",
       "      <td>77942.30</td>\n",
       "    </tr>\n",
       "  </tbody>\n",
       "</table>\n",
       "</div>"
      ],
      "text/plain": [
       "   Manhattan      Other     Queens   Brooklyn      Bronx  Staten Island\n",
       "0   47223.31  124410.82  123430.57   48042.47  104755.26       16495.53\n",
       "1  119042.50  128540.70   97265.84  118646.85  178850.00       49073.70\n",
       "2   27473.96   40413.06    1880.51   41152.48   27557.90       75913.97\n",
       "3  115104.57   88936.68   19647.83   47678.30   57685.20       76112.89\n",
       "4    3500.00   23409.61   76360.89  140233.72   66857.98       77942.30"
      ]
     },
     "execution_count": 181,
     "metadata": {},
     "output_type": "execute_result"
    }
   ],
   "source": [
    "total_pay = pd.DataFrame(frame)\n",
    "total_pay.head()"
   ]
  },
  {
   "cell_type": "code",
   "execution_count": 182,
   "metadata": {},
   "outputs": [
    {
     "data": {
      "text/html": [
       "<div>\n",
       "<style scoped>\n",
       "    .dataframe tbody tr th:only-of-type {\n",
       "        vertical-align: middle;\n",
       "    }\n",
       "\n",
       "    .dataframe tbody tr th {\n",
       "        vertical-align: top;\n",
       "    }\n",
       "\n",
       "    .dataframe thead th {\n",
       "        text-align: right;\n",
       "    }\n",
       "</style>\n",
       "<table border=\"1\" class=\"dataframe\">\n",
       "  <thead>\n",
       "    <tr style=\"text-align: right;\">\n",
       "      <th></th>\n",
       "      <th>sum_sq</th>\n",
       "      <th>df</th>\n",
       "      <th>F</th>\n",
       "      <th>PR(&gt;F)</th>\n",
       "    </tr>\n",
       "  </thead>\n",
       "  <tbody>\n",
       "    <tr>\n",
       "      <th>C(treatments)</th>\n",
       "      <td>2.543818e+14</td>\n",
       "      <td>5.0</td>\n",
       "      <td>29310.282928</td>\n",
       "      <td>0.0</td>\n",
       "    </tr>\n",
       "    <tr>\n",
       "      <th>Residual</th>\n",
       "      <td>5.785528e+15</td>\n",
       "      <td>3333090.0</td>\n",
       "      <td>NaN</td>\n",
       "      <td>NaN</td>\n",
       "    </tr>\n",
       "  </tbody>\n",
       "</table>\n",
       "</div>"
      ],
      "text/plain": [
       "                     sum_sq         df             F  PR(>F)\n",
       "C(treatments)  2.543818e+14        5.0  29310.282928     0.0\n",
       "Residual       5.785528e+15  3333090.0           NaN     NaN"
      ]
     },
     "execution_count": 182,
     "metadata": {},
     "output_type": "execute_result"
    }
   ],
   "source": [
    "total_pay_melt = pd.melt(total_pay.reset_index(), id_vars=['index'], value_vars=[\"Manhattan\", \"Other\", \"Queens\", \"Brooklyn\", \"Bronx\", \"Staten Island\"])\n",
    "total_pay_melt.columns = ['index', 'treatments', 'value']\n",
    "model = ols('value ~ C(treatments)', data=total_pay_melt).fit()\n",
    "anova_table = sm.stats.anova_lm(model, typ=2)\n",
    "anova_table"
   ]
  },
  {
   "cell_type": "code",
   "execution_count": 183,
   "metadata": {},
   "outputs": [],
   "source": [
    "r_squared = 100 * 2.543818e+14 / (2.543818e+14 + 5.785528e+15)"
   ]
  },
  {
   "cell_type": "code",
   "execution_count": 184,
   "metadata": {},
   "outputs": [],
   "source": [
    "df1 = 6 - 1\n",
    "df_total = len(manhattan_total_pay) + len(other_total_pay) + len(queens_total_pay) + len(brooklyn_total_pay)+ len(bronx_total_pay) + len(staten_island_total_pay)\n",
    "df_total = df_total - 1 \n",
    "df2 = df_total - df1"
   ]
  },
  {
   "cell_type": "code",
   "execution_count": 187,
   "metadata": {},
   "outputs": [
    {
     "name": "stdout",
     "output_type": "stream",
     "text": [
      "Due to the large population size, it's not necessary to check the one-way ANOVA assumptions of normality and equal variation\n",
      "Strong evidence of heterogeneity in total pay was present among the boroughs (F(5, 3333090), p < 0.01, ANOVA)\n",
      "However, it's important to note the low R-Squared = 4.21%\n",
      "The one-way ANOVA model only explains 4.21% of the variation in total pay\n"
     ]
    }
   ],
   "source": [
    "print(\"Due to the large population size, it's not necessary to check the one-way ANOVA assumptions of normality and equal variation\")\n",
    "print(\"Strong evidence of heterogeneity in total pay was present among the boroughs (F(\" + str(df1) + \", \" + str(df2) +\"), p < 0.01, ANOVA)\")\n",
    "print(\"However, it's important to note the low R-Squared = \" + str(round(r_squared, 2)) + \"%\")\n",
    "print(\"The one-way ANOVA model only explains \" + str(round(r_squared, 2)) + \"% of the variation in total pay\")"
   ]
  },
  {
   "cell_type": "code",
   "execution_count": 188,
   "metadata": {},
   "outputs": [
    {
     "data": {
      "text/html": [
       "<div>\n",
       "<style scoped>\n",
       "    .dataframe tbody tr th:only-of-type {\n",
       "        vertical-align: middle;\n",
       "    }\n",
       "\n",
       "    .dataframe tbody tr th {\n",
       "        vertical-align: top;\n",
       "    }\n",
       "\n",
       "    .dataframe thead th {\n",
       "        text-align: right;\n",
       "    }\n",
       "</style>\n",
       "<table border=\"1\" class=\"dataframe\">\n",
       "  <thead>\n",
       "    <tr style=\"text-align: right;\">\n",
       "      <th></th>\n",
       "      <th>index</th>\n",
       "      <th>Fiscal Year</th>\n",
       "      <th>Agency Name</th>\n",
       "      <th>Agency Start Date</th>\n",
       "      <th>Work Location Borough</th>\n",
       "      <th>Title Description</th>\n",
       "      <th>Leave Status as of June 30</th>\n",
       "      <th>Base Salary</th>\n",
       "      <th>Pay Basis</th>\n",
       "      <th>Regular Hours</th>\n",
       "      <th>Regular Gross Paid</th>\n",
       "      <th>OT Hours</th>\n",
       "      <th>Total OT Paid</th>\n",
       "      <th>Total Other Pay</th>\n",
       "      <th>Total Pay</th>\n",
       "    </tr>\n",
       "  </thead>\n",
       "  <tbody>\n",
       "    <tr>\n",
       "      <th>0</th>\n",
       "      <td>1006584</td>\n",
       "      <td>2015</td>\n",
       "      <td>DEPT OF ED PER SESSION TEACHER</td>\n",
       "      <td>2000-05-01</td>\n",
       "      <td>MANHATTAN</td>\n",
       "      <td>TEACHER- PER SESSION</td>\n",
       "      <td>CEASED</td>\n",
       "      <td>33.18</td>\n",
       "      <td>per Day</td>\n",
       "      <td>0.00</td>\n",
       "      <td>14.85</td>\n",
       "      <td>0.00</td>\n",
       "      <td>0.00</td>\n",
       "      <td>0.00</td>\n",
       "      <td>14.85</td>\n",
       "    </tr>\n",
       "    <tr>\n",
       "      <th>1</th>\n",
       "      <td>50904</td>\n",
       "      <td>2016</td>\n",
       "      <td>POLICE DEPARTMENT</td>\n",
       "      <td>2010-07-06</td>\n",
       "      <td>BROOKLYN</td>\n",
       "      <td>POLICE OFFICER</td>\n",
       "      <td>ACTIVE</td>\n",
       "      <td>78026.00</td>\n",
       "      <td>per Annum</td>\n",
       "      <td>2091.42</td>\n",
       "      <td>68530.41</td>\n",
       "      <td>208.75</td>\n",
       "      <td>10625.93</td>\n",
       "      <td>7475.94</td>\n",
       "      <td>79156.34</td>\n",
       "    </tr>\n",
       "    <tr>\n",
       "      <th>2</th>\n",
       "      <td>1624571</td>\n",
       "      <td>2014</td>\n",
       "      <td>Police Department</td>\n",
       "      <td>1991-04-30</td>\n",
       "      <td>NaN</td>\n",
       "      <td>POLICE OFFICER D/A DETECTIVE 2ND GR</td>\n",
       "      <td>ACTIVE</td>\n",
       "      <td>98072.00</td>\n",
       "      <td>per Annum</td>\n",
       "      <td>2085.72</td>\n",
       "      <td>97803.42</td>\n",
       "      <td>450.50</td>\n",
       "      <td>36351.03</td>\n",
       "      <td>17029.82</td>\n",
       "      <td>134154.45</td>\n",
       "    </tr>\n",
       "    <tr>\n",
       "      <th>3</th>\n",
       "      <td>77655</td>\n",
       "      <td>2016</td>\n",
       "      <td>ADMIN FOR CHILDREN'S SVCS</td>\n",
       "      <td>2000-07-05</td>\n",
       "      <td>MANHATTAN</td>\n",
       "      <td>CHILD PROTECTIVE SPECIALIST</td>\n",
       "      <td>CEASED</td>\n",
       "      <td>53126.00</td>\n",
       "      <td>per Annum</td>\n",
       "      <td>363.00</td>\n",
       "      <td>13265.86</td>\n",
       "      <td>0.00</td>\n",
       "      <td>489.79</td>\n",
       "      <td>885.49</td>\n",
       "      <td>13755.65</td>\n",
       "    </tr>\n",
       "    <tr>\n",
       "      <th>4</th>\n",
       "      <td>1188769</td>\n",
       "      <td>2014</td>\n",
       "      <td>BOARD OF ELECTION POLL WORKERS</td>\n",
       "      <td>2010-01-01</td>\n",
       "      <td>NaN</td>\n",
       "      <td>ELECTION TRAINER</td>\n",
       "      <td>ACTIVE</td>\n",
       "      <td>1.00</td>\n",
       "      <td>per Hour</td>\n",
       "      <td>0.00</td>\n",
       "      <td>2400.00</td>\n",
       "      <td>0.00</td>\n",
       "      <td>0.00</td>\n",
       "      <td>0.00</td>\n",
       "      <td>2400.00</td>\n",
       "    </tr>\n",
       "  </tbody>\n",
       "</table>\n",
       "</div>"
      ],
      "text/plain": [
       "     index  Fiscal Year                     Agency Name Agency Start Date  \\\n",
       "0  1006584         2015  DEPT OF ED PER SESSION TEACHER        2000-05-01   \n",
       "1    50904         2016               POLICE DEPARTMENT        2010-07-06   \n",
       "2  1624571         2014               Police Department        1991-04-30   \n",
       "3    77655         2016       ADMIN FOR CHILDREN'S SVCS        2000-07-05   \n",
       "4  1188769         2014  BOARD OF ELECTION POLL WORKERS        2010-01-01   \n",
       "\n",
       "  Work Location Borough                    Title Description  \\\n",
       "0             MANHATTAN                 TEACHER- PER SESSION   \n",
       "1              BROOKLYN                       POLICE OFFICER   \n",
       "2                   NaN  POLICE OFFICER D/A DETECTIVE 2ND GR   \n",
       "3             MANHATTAN          CHILD PROTECTIVE SPECIALIST   \n",
       "4                   NaN                     ELECTION TRAINER   \n",
       "\n",
       "  Leave Status as of June 30  Base Salary  Pay Basis  Regular Hours  \\\n",
       "0                     CEASED        33.18    per Day           0.00   \n",
       "1                     ACTIVE     78026.00  per Annum        2091.42   \n",
       "2                     ACTIVE     98072.00  per Annum        2085.72   \n",
       "3                     CEASED     53126.00  per Annum         363.00   \n",
       "4                     ACTIVE         1.00   per Hour           0.00   \n",
       "\n",
       "   Regular Gross Paid  OT Hours  Total OT Paid  Total Other Pay  Total Pay  \n",
       "0               14.85      0.00           0.00             0.00      14.85  \n",
       "1            68530.41    208.75       10625.93          7475.94   79156.34  \n",
       "2            97803.42    450.50       36351.03         17029.82  134154.45  \n",
       "3            13265.86      0.00         489.79           885.49   13755.65  \n",
       "4             2400.00      0.00           0.00             0.00    2400.00  "
      ]
     },
     "execution_count": 188,
     "metadata": {},
     "output_type": "execute_result"
    }
   ],
   "source": [
    "payroll_sample.head()"
   ]
  },
  {
   "cell_type": "code",
   "execution_count": 195,
   "metadata": {},
   "outputs": [
    {
     "data": {
      "text/plain": [
       "Text(0, 0.5, 'Density')"
      ]
     },
     "execution_count": 195,
     "metadata": {},
     "output_type": "execute_result"
    },
    {
     "data": {
      "image/png": "[encoded data removed]",
      "text/plain": [
       "<Figure size 432x288 with 1 Axes>"
      ]
     },
     "metadata": {
      "needs_background": "light"
     },
     "output_type": "display_data"
    }
   ],
   "source": [
    "# distributions of overtime\n",
    "payroll_sample[\"Total OT Paid\"].hist(grid = False, edgecolor = \"white\", bins = 30, density = True, color = \"b\")\n",
    "plt.title(\"Distribution of Total Overtime Paid\")\n",
    "plt.xlabel(\"Total Overtime Paid\")\n",
    "plt.ylabel(\"Density\")"
   ]
  },
  {
   "cell_type": "code",
   "execution_count": 196,
   "metadata": {},
   "outputs": [
    {
     "data": {
      "text/plain": [
       "[<matplotlib.lines.Line2D at 0x265914d5f60>]"
      ]
     },
     "execution_count": 196,
     "metadata": {},
     "output_type": "execute_result"
    },
    {
     "data": {
      "image/png": "[encoded data removed]",
      "text/plain": [
       "<Figure size 432x288 with 1 Axes>"
      ]
     },
     "metadata": {
      "needs_background": "light"
     },
     "output_type": "display_data"
    }
   ],
   "source": [
    "ot_paid_filter = payroll_sample[\"Total OT Paid\"] > 0\n",
    "ot_paid_payroll_sample = payroll_sample[ot_paid_filter]\n",
    "ot_paid_payroll_sample[\"Total OT Paid\"].hist(grid = False, edgecolor = \"white\", bins = 30, density = True, color = \"b\")\n",
    "plt.title(\"Distribution of Total Overtime Paid\")\n",
    "plt.xlabel(\"Total Overtime Paid\")\n",
    "plt.ylabel(\"Density\")\n",
    "\n",
    "x = np.arange(ot_paid_payroll_sample[\"Total OT Paid\"].min(), ot_paid_payroll_sample[\"Total OT Paid\"].max(), 1000)\n",
    "y = stats.expon.pdf(x, scale = ot_paid_payroll_sample[\"Total OT Paid\"].mean())\n",
    "plt.plot(x,y, color = \"red\", linewidth = 3)"
   ]
  },
  {
   "cell_type": "code",
   "execution_count": 201,
   "metadata": {},
   "outputs": [
    {
     "name": "stdout",
     "output_type": "stream",
     "text": [
      "There are many employees with no to little overtime pay but there are quite a few outliers that make upwards to $200,000 in overtime pay\n",
      "The distribition of total overtime paid to employees that have worked overtime closely resemble E(8.889e-05)\n"
     ]
    }
   ],
   "source": [
    "print(\"There are many employees with no to little overtime pay but there are quite a few outliers that make upwards to $200,000 in overtime pay\")\n",
    "print(\"The distribition of total overtime paid to employees that have worked overtime closely resemble E(\" + str(round(1 / ot_paid_payroll_sample[\"Total OT Paid\"].mean(), 8)) + \")\")"
   ]
  },
  {
   "cell_type": "code",
   "execution_count": 208,
   "metadata": {},
   "outputs": [
    {
     "data": {
      "text/plain": [
       "Text(0, 0.5, 'Total Pay')"
      ]
     },
     "execution_count": 208,
     "metadata": {},
     "output_type": "execute_result"
    },
    {
     "data": {
      "image/png": "[encoded data removed]",
      "text/plain": [
       "<Figure size 432x288 with 1 Axes>"
      ]
     },
     "metadata": {
      "needs_background": "light"
     },
     "output_type": "display_data"
    }
   ],
   "source": [
    "# bar graph of the pay of active,ceased, on-leave, on-seperation leave, seasonal employees\n",
    "payroll_sample.groupby(\"Leave Status as of June 30\").mean()[\"Total Pay\"].plot.bar(color = \"g\")\n",
    "plt.title(\"Mean Total Pay by Leave Status\")\n",
    "plt.xlabel(\"Leave Status as of June 30th\")\n",
    "plt.ylabel(\"Total Pay\")"
   ]
  },
  {
   "cell_type": "code",
   "execution_count": 210,
   "metadata": {},
   "outputs": [
    {
     "data": {
      "text/plain": [
       "Text(0, 0.5, 'Total Pay')"
      ]
     },
     "execution_count": 210,
     "metadata": {},
     "output_type": "execute_result"
    },
    {
     "data": {
      "image/png": "[encoded data removed]",
      "text/plain": [
       "<Figure size 432x288 with 1 Axes>"
      ]
     },
     "metadata": {
      "needs_background": "light"
     },
     "output_type": "display_data"
    }
   ],
   "source": [
    "# bar graph of the pay of by pay basis\n",
    "payroll_sample.groupby(\"Pay Basis\").mean()[\"Total Pay\"].plot.bar(color = \"orange\")\n",
    "plt.title(\"Mean Total Pay by Pay Basis\")\n",
    "plt.xlabel(\"Pay Basis\")\n",
    "plt.ylabel(\"Total Pay\")"
   ]
  },
  {
   "cell_type": "code",
   "execution_count": 214,
   "metadata": {},
   "outputs": [
    {
     "data": {
      "text/plain": [
       "<seaborn.axisgrid.FacetGrid at 0x2660891f518>"
      ]
     },
     "execution_count": 214,
     "metadata": {},
     "output_type": "execute_result"
    },
    {
     "data": {
      "image/png": "[encoded data removed]",
      "text/plain": [
       "<Figure size 360x360 with 1 Axes>"
      ]
     },
     "metadata": {
      "needs_background": "light"
     },
     "output_type": "display_data"
    }
   ],
   "source": [
    "# regular hours vs. base salary scatterplot\n",
    "# payroll_sample2 = payroll.sample(200)\n",
    "sns.relplot(x = \"Regular Hours\", y = \"Base Salary\", data = payroll_sample, alpha = 0.01)"
   ]
  },
  {
   "cell_type": "code",
   "execution_count": 215,
   "metadata": {},
   "outputs": [
    {
     "name": "stdout",
     "output_type": "stream",
     "text": [
      "There appears to be little to no correlation between regular hours and base salary...\n"
     ]
    }
   ],
   "source": []
  },
  {
   "cell_type": "code",
   "execution_count": 217,
   "metadata": {},
   "outputs": [
    {
     "data": {
      "text/plain": [
       "(0.3476372446090982, 0.0)"
      ]
     },
     "execution_count": 217,
     "metadata": {},
     "output_type": "execute_result"
    }
   ],
   "source": [
    "# Pearson's R for regular hours vs base salary\n",
    "import scipy\n",
    "scipy.stats.pearsonr(payroll_sample[\"Regular Hours\"], payroll_sample[\"Base Salary\"])"
   ]
  },
  {
   "cell_type": "code",
   "execution_count": 218,
   "metadata": {},
   "outputs": [
    {
     "name": "stdout",
     "output_type": "stream",
     "text": [
      "There appears to be little to no correlation between regular hours and base salary.\n"
     ]
    }
   ],
   "source": [
    "print(\"There appears to be little to no correlation between regular hours and base salary.\")"
   ]
  },
  {
   "cell_type": "code",
   "execution_count": 54,
   "metadata": {},
   "outputs": [],
   "source": [
    "# agency start date vs. actual pay scatterplot"
   ]
  },
  {
   "cell_type": "code",
   "execution_count": 55,
   "metadata": {},
   "outputs": [],
   "source": [
    "# double bar graph of base salary and regular gross paid \n",
    "    # by borough\n",
    "    # by agency "
   ]
  },
  {
   "cell_type": "code",
   "execution_count": 56,
   "metadata": {},
   "outputs": [],
   "source": [
    "# swarm plot of borough vs. regular gross paid "
   ]
  },
  {
   "cell_type": "code",
   "execution_count": 57,
   "metadata": {},
   "outputs": [],
   "source": [
    "# swarm plot of fiscal year vs. regular gross paid"
   ]
  },
  {
   "cell_type": "code",
   "execution_count": 58,
   "metadata": {},
   "outputs": [],
   "source": [
    "# total hours (regular hours + OT Hours) vs regular gross paid"
   ]
  },
  {
   "cell_type": "code",
   "execution_count": 59,
   "metadata": {},
   "outputs": [],
   "source": [
    "# K-Nearest Neighbor Regressor with k = 5 to predict regular gross paid\n",
    "    # manually compute for one random observation\n",
    "    # create a 80/20 train-test split and utilize a k-nearest neighbor algorithm\n",
    "        # compute mse and rmse\n",
    "        # regular gross paid vs residuals "
   ]
  }
 ],
 "metadata": {
  "kernelspec": {
   "display_name": "Python 3",
   "language": "python",
   "name": "python3"
  },
  "language_info": {
   "codemirror_mode": {
    "name": "ipython",
    "version": 3
   },
   "file_extension": ".py",
   "mimetype": "text/x-python",
   "name": "python",
   "nbconvert_exporter": "python",
   "pygments_lexer": "ipython3",
   "version": "3.7.3"
  }
 },
 "nbformat": 4,
 "nbformat_minor": 2
}
