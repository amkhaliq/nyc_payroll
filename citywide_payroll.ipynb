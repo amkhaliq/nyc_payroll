{
 "cells": [
  {
   "cell_type": "code",
   "execution_count": 1,
   "metadata": {},
   "outputs": [],
   "source": [
    "import numpy as np\n",
    "import pandas as pd\n",
    "import datetime\n",
    "import seaborn as sns\n",
    "import matplotlib.pyplot as plt\n",
    "%matplotlib inline"
   ]
  },
  {
   "cell_type": "code",
   "execution_count": 2,
   "metadata": {
    "scrolled": true
   },
   "outputs": [
    {
     "name": "stderr",
     "output_type": "stream",
     "text": [
      "C:\\Anaconda3\\lib\\site-packages\\IPython\\core\\interactiveshell.py:3057: DtypeWarning: Columns (7) have mixed types. Specify dtype option on import or set low_memory=False.\n",
      "  interactivity=interactivity, compiler=compiler, result=result)\n"
     ]
    }
   ],
   "source": [
    "# load in the data\n",
    "missing_values = [\"n/a\", \"na\", \"--\", \"-\", \"NA\"]\n",
    "payroll = pd.read_csv(\"city_payroll.csv\", na_values = missing_values)"
   ]
  },
  {
   "cell_type": "code",
   "execution_count": 3,
   "metadata": {},
   "outputs": [
    {
     "data": {
      "text/html": [
       "<div>\n",
       "<style scoped>\n",
       "    .dataframe tbody tr th:only-of-type {\n",
       "        vertical-align: middle;\n",
       "    }\n",
       "\n",
       "    .dataframe tbody tr th {\n",
       "        vertical-align: top;\n",
       "    }\n",
       "\n",
       "    .dataframe thead th {\n",
       "        text-align: right;\n",
       "    }\n",
       "</style>\n",
       "<table border=\"1\" class=\"dataframe\">\n",
       "  <thead>\n",
       "    <tr style=\"text-align: right;\">\n",
       "      <th></th>\n",
       "      <th>Fiscal Year</th>\n",
       "      <th>Payroll Number</th>\n",
       "      <th>Agency Name</th>\n",
       "      <th>Last Name</th>\n",
       "      <th>First Name</th>\n",
       "      <th>Mid Init</th>\n",
       "      <th>Agency Start Date</th>\n",
       "      <th>Work Location Borough</th>\n",
       "      <th>Title Description</th>\n",
       "      <th>Leave Status as of June 30</th>\n",
       "      <th>Base Salary</th>\n",
       "      <th>Pay Basis</th>\n",
       "      <th>Regular Hours</th>\n",
       "      <th>Regular Gross Paid</th>\n",
       "      <th>OT Hours</th>\n",
       "      <th>Total OT Paid</th>\n",
       "      <th>Total Other Pay</th>\n",
       "    </tr>\n",
       "  </thead>\n",
       "  <tbody>\n",
       "    <tr>\n",
       "      <th>0</th>\n",
       "      <td>2016</td>\n",
       "      <td>NaN</td>\n",
       "      <td>DISTRICT ATTORNEY-MANHATTAN</td>\n",
       "      <td>ABA'AHMID</td>\n",
       "      <td>RAHASHEEM</td>\n",
       "      <td>E</td>\n",
       "      <td>07/14/2003</td>\n",
       "      <td>MANHATTAN</td>\n",
       "      <td>COMMUNITY ASSOCIATE</td>\n",
       "      <td>ACTIVE</td>\n",
       "      <td>47678.0</td>\n",
       "      <td>per Annum</td>\n",
       "      <td>1830.00</td>\n",
       "      <td>47166.03</td>\n",
       "      <td>2.25</td>\n",
       "      <td>57.28</td>\n",
       "      <td>0.0</td>\n",
       "    </tr>\n",
       "    <tr>\n",
       "      <th>1</th>\n",
       "      <td>2016</td>\n",
       "      <td>NaN</td>\n",
       "      <td>DISTRICT ATTORNEY-MANHATTAN</td>\n",
       "      <td>ABENSUR</td>\n",
       "      <td>MARGARET</td>\n",
       "      <td>NaN</td>\n",
       "      <td>06/12/1995</td>\n",
       "      <td>MANHATTAN</td>\n",
       "      <td>ADMINISTRATIVE ACCOUNTANT</td>\n",
       "      <td>ACTIVE</td>\n",
       "      <td>119959.0</td>\n",
       "      <td>per Annum</td>\n",
       "      <td>1831.00</td>\n",
       "      <td>119042.50</td>\n",
       "      <td>0.00</td>\n",
       "      <td>0.00</td>\n",
       "      <td>0.0</td>\n",
       "    </tr>\n",
       "    <tr>\n",
       "      <th>2</th>\n",
       "      <td>2016</td>\n",
       "      <td>NaN</td>\n",
       "      <td>DISTRICT ATTORNEY-MANHATTAN</td>\n",
       "      <td>ABOUNAOUM</td>\n",
       "      <td>ANDREA</td>\n",
       "      <td>L</td>\n",
       "      <td>10/11/2011</td>\n",
       "      <td>MANHATTAN</td>\n",
       "      <td>COMMUNITY ASSOCIATE</td>\n",
       "      <td>ON LEAVE</td>\n",
       "      <td>39966.0</td>\n",
       "      <td>per Annum</td>\n",
       "      <td>1181.68</td>\n",
       "      <td>27452.62</td>\n",
       "      <td>1.00</td>\n",
       "      <td>21.34</td>\n",
       "      <td>33.0</td>\n",
       "    </tr>\n",
       "    <tr>\n",
       "      <th>3</th>\n",
       "      <td>2016</td>\n",
       "      <td>NaN</td>\n",
       "      <td>DISTRICT ATTORNEY-MANHATTAN</td>\n",
       "      <td>ABRAHAM</td>\n",
       "      <td>JONATHAN</td>\n",
       "      <td>J</td>\n",
       "      <td>12/01/2014</td>\n",
       "      <td>MANHATTAN</td>\n",
       "      <td>COMPUTER SYSTEMS MANAGER</td>\n",
       "      <td>ACTIVE</td>\n",
       "      <td>116000.0</td>\n",
       "      <td>per Annum</td>\n",
       "      <td>1831.00</td>\n",
       "      <td>115104.57</td>\n",
       "      <td>0.00</td>\n",
       "      <td>0.00</td>\n",
       "      <td>0.0</td>\n",
       "    </tr>\n",
       "    <tr>\n",
       "      <th>4</th>\n",
       "      <td>2016</td>\n",
       "      <td>NaN</td>\n",
       "      <td>DISTRICT ATTORNEY-MANHATTAN</td>\n",
       "      <td>ABRAMS</td>\n",
       "      <td>JOSEPH</td>\n",
       "      <td>NaN</td>\n",
       "      <td>05/21/2015</td>\n",
       "      <td>MANHATTAN</td>\n",
       "      <td>COLLEGE AIDE</td>\n",
       "      <td>CEASED</td>\n",
       "      <td>1.0</td>\n",
       "      <td>per Hour</td>\n",
       "      <td>0.00</td>\n",
       "      <td>3500.00</td>\n",
       "      <td>0.00</td>\n",
       "      <td>0.00</td>\n",
       "      <td>0.0</td>\n",
       "    </tr>\n",
       "  </tbody>\n",
       "</table>\n",
       "</div>"
      ],
      "text/plain": [
       "   Fiscal Year  Payroll Number                  Agency Name  Last Name  \\\n",
       "0         2016             NaN  DISTRICT ATTORNEY-MANHATTAN  ABA'AHMID   \n",
       "1         2016             NaN  DISTRICT ATTORNEY-MANHATTAN    ABENSUR   \n",
       "2         2016             NaN  DISTRICT ATTORNEY-MANHATTAN  ABOUNAOUM   \n",
       "3         2016             NaN  DISTRICT ATTORNEY-MANHATTAN    ABRAHAM   \n",
       "4         2016             NaN  DISTRICT ATTORNEY-MANHATTAN     ABRAMS   \n",
       "\n",
       "  First Name Mid Init Agency Start Date Work Location Borough  \\\n",
       "0  RAHASHEEM        E        07/14/2003             MANHATTAN   \n",
       "1   MARGARET      NaN        06/12/1995             MANHATTAN   \n",
       "2     ANDREA        L        10/11/2011             MANHATTAN   \n",
       "3   JONATHAN        J        12/01/2014             MANHATTAN   \n",
       "4     JOSEPH      NaN        05/21/2015             MANHATTAN   \n",
       "\n",
       "           Title Description Leave Status as of June 30  Base Salary  \\\n",
       "0        COMMUNITY ASSOCIATE                     ACTIVE      47678.0   \n",
       "1  ADMINISTRATIVE ACCOUNTANT                     ACTIVE     119959.0   \n",
       "2        COMMUNITY ASSOCIATE                   ON LEAVE      39966.0   \n",
       "3   COMPUTER SYSTEMS MANAGER                     ACTIVE     116000.0   \n",
       "4               COLLEGE AIDE                     CEASED          1.0   \n",
       "\n",
       "   Pay Basis  Regular Hours  Regular Gross Paid  OT Hours  Total OT Paid  \\\n",
       "0  per Annum        1830.00            47166.03      2.25          57.28   \n",
       "1  per Annum        1831.00           119042.50      0.00           0.00   \n",
       "2  per Annum        1181.68            27452.62      1.00          21.34   \n",
       "3  per Annum        1831.00           115104.57      0.00           0.00   \n",
       "4   per Hour           0.00             3500.00      0.00           0.00   \n",
       "\n",
       "   Total Other Pay  \n",
       "0              0.0  \n",
       "1              0.0  \n",
       "2             33.0  \n",
       "3              0.0  \n",
       "4              0.0  "
      ]
     },
     "execution_count": 3,
     "metadata": {},
     "output_type": "execute_result"
    }
   ],
   "source": [
    "payroll.head()"
   ]
  },
  {
   "cell_type": "code",
   "execution_count": 4,
   "metadata": {},
   "outputs": [
    {
     "data": {
      "text/plain": [
       "(3333096, 17)"
      ]
     },
     "execution_count": 4,
     "metadata": {},
     "output_type": "execute_result"
    }
   ],
   "source": [
    "# number of instances in the original dataset which is pretty huge\n",
    "payroll.shape"
   ]
  },
  {
   "cell_type": "code",
   "execution_count": 5,
   "metadata": {},
   "outputs": [],
   "source": [
    "# sample the data to make it more manageable\n",
    "payroll_sample = payroll.sample(int(len(payroll) / 20))"
   ]
  },
  {
   "cell_type": "code",
   "execution_count": 6,
   "metadata": {},
   "outputs": [
    {
     "name": "stdout",
     "output_type": "stream",
     "text": [
      "Original Dataset Observation Count: 3333096\n",
      "Sampled Dataset Observation Count: 166654\n"
     ]
    }
   ],
   "source": [
    "print(\"Original Dataset Observation Count: \" + str(len(payroll)))\n",
    "print(\"Sampled Dataset Observation Count: \" + str(len(payroll_sample)))"
   ]
  },
  {
   "cell_type": "code",
   "execution_count": 7,
   "metadata": {},
   "outputs": [],
   "source": [
    "# save sampled dataset\n",
    "payroll_sample.to_csv(\"../nyc_payroll/Input/city_payroll_sample.csv\")"
   ]
  },
  {
   "cell_type": "code",
   "execution_count": 8,
   "metadata": {},
   "outputs": [
    {
     "data": {
      "text/plain": [
       "17"
      ]
     },
     "execution_count": 8,
     "metadata": {},
     "output_type": "execute_result"
    }
   ],
   "source": [
    "# number of features\n",
    "payroll_sample.shape[1]"
   ]
  },
  {
   "cell_type": "code",
   "execution_count": 9,
   "metadata": {},
   "outputs": [
    {
     "data": {
      "text/html": [
       "<div>\n",
       "<style scoped>\n",
       "    .dataframe tbody tr th:only-of-type {\n",
       "        vertical-align: middle;\n",
       "    }\n",
       "\n",
       "    .dataframe tbody tr th {\n",
       "        vertical-align: top;\n",
       "    }\n",
       "\n",
       "    .dataframe thead th {\n",
       "        text-align: right;\n",
       "    }\n",
       "</style>\n",
       "<table border=\"1\" class=\"dataframe\">\n",
       "  <thead>\n",
       "    <tr style=\"text-align: right;\">\n",
       "      <th></th>\n",
       "      <th>Fiscal Year</th>\n",
       "      <th>Payroll Number</th>\n",
       "      <th>Agency Name</th>\n",
       "      <th>Last Name</th>\n",
       "      <th>First Name</th>\n",
       "      <th>Mid Init</th>\n",
       "      <th>Agency Start Date</th>\n",
       "      <th>Work Location Borough</th>\n",
       "      <th>Title Description</th>\n",
       "      <th>Leave Status as of June 30</th>\n",
       "      <th>Base Salary</th>\n",
       "      <th>Pay Basis</th>\n",
       "      <th>Regular Hours</th>\n",
       "      <th>Regular Gross Paid</th>\n",
       "      <th>OT Hours</th>\n",
       "      <th>Total OT Paid</th>\n",
       "      <th>Total Other Pay</th>\n",
       "    </tr>\n",
       "  </thead>\n",
       "  <tbody>\n",
       "    <tr>\n",
       "      <th>613118</th>\n",
       "      <td>2015</td>\n",
       "      <td>NaN</td>\n",
       "      <td>ADMIN FOR CHILDREN'S SVCS</td>\n",
       "      <td>JAMES</td>\n",
       "      <td>BEVERLY</td>\n",
       "      <td>NaN</td>\n",
       "      <td>06/23/1996</td>\n",
       "      <td>MANHATTAN</td>\n",
       "      <td>ADMINISTRATIVE DIRECTOR OF SOCIAL SERVICES</td>\n",
       "      <td>ACTIVE</td>\n",
       "      <td>131011.00</td>\n",
       "      <td>per Annum</td>\n",
       "      <td>1825.0</td>\n",
       "      <td>137013.81</td>\n",
       "      <td>0.0</td>\n",
       "      <td>0.00</td>\n",
       "      <td>1000.00</td>\n",
       "    </tr>\n",
       "    <tr>\n",
       "      <th>895571</th>\n",
       "      <td>2015</td>\n",
       "      <td>NaN</td>\n",
       "      <td>DEPT OF ED PEDAGOGICAL</td>\n",
       "      <td>TURAY</td>\n",
       "      <td>ANDREW</td>\n",
       "      <td>M</td>\n",
       "      <td>10/30/1984</td>\n",
       "      <td>OTHER</td>\n",
       "      <td>PRINCIPAL</td>\n",
       "      <td>CEASED</td>\n",
       "      <td>154295.00</td>\n",
       "      <td>per Annum</td>\n",
       "      <td>0.0</td>\n",
       "      <td>171933.70</td>\n",
       "      <td>0.0</td>\n",
       "      <td>0.00</td>\n",
       "      <td>1002.04</td>\n",
       "    </tr>\n",
       "    <tr>\n",
       "      <th>1033517</th>\n",
       "      <td>2015</td>\n",
       "      <td>NaN</td>\n",
       "      <td>DEPT OF PARKS &amp; RECREATION</td>\n",
       "      <td>BROWN</td>\n",
       "      <td>ZACHARY</td>\n",
       "      <td>B</td>\n",
       "      <td>09/27/2012</td>\n",
       "      <td>QUEENS</td>\n",
       "      <td>JOB TRAINING PARTICIPANT</td>\n",
       "      <td>CEASED</td>\n",
       "      <td>9.39</td>\n",
       "      <td>per Hour</td>\n",
       "      <td>0.0</td>\n",
       "      <td>173.98</td>\n",
       "      <td>0.0</td>\n",
       "      <td>0.27</td>\n",
       "      <td>0.00</td>\n",
       "    </tr>\n",
       "    <tr>\n",
       "      <th>1869047</th>\n",
       "      <td>2017</td>\n",
       "      <td>NaN</td>\n",
       "      <td>DEPT OF ED PEDAGOGICAL</td>\n",
       "      <td>GARBER</td>\n",
       "      <td>RACHEL</td>\n",
       "      <td>A</td>\n",
       "      <td>09/02/2003</td>\n",
       "      <td>MANHATTAN</td>\n",
       "      <td>TEACHER</td>\n",
       "      <td>ACTIVE</td>\n",
       "      <td>92087.00</td>\n",
       "      <td>per Annum</td>\n",
       "      <td>0.0</td>\n",
       "      <td>88366.68</td>\n",
       "      <td>0.0</td>\n",
       "      <td>0.00</td>\n",
       "      <td>0.00</td>\n",
       "    </tr>\n",
       "    <tr>\n",
       "      <th>2261309</th>\n",
       "      <td>2018</td>\n",
       "      <td>102.0</td>\n",
       "      <td>CITY COUNCIL</td>\n",
       "      <td>PEREZ</td>\n",
       "      <td>ROSY</td>\n",
       "      <td>NaN</td>\n",
       "      <td>05/18/2015</td>\n",
       "      <td>MANHATTAN</td>\n",
       "      <td>LEGISLATIVE ADMINISTRATIVE ASSISTANT</td>\n",
       "      <td>ACTIVE</td>\n",
       "      <td>42230.00</td>\n",
       "      <td>per Annum</td>\n",
       "      <td>1790.0</td>\n",
       "      <td>42114.28</td>\n",
       "      <td>0.0</td>\n",
       "      <td>0.00</td>\n",
       "      <td>0.00</td>\n",
       "    </tr>\n",
       "  </tbody>\n",
       "</table>\n",
       "</div>"
      ],
      "text/plain": [
       "         Fiscal Year  Payroll Number                 Agency Name Last Name  \\\n",
       "613118          2015             NaN   ADMIN FOR CHILDREN'S SVCS     JAMES   \n",
       "895571          2015             NaN      DEPT OF ED PEDAGOGICAL     TURAY   \n",
       "1033517         2015             NaN  DEPT OF PARKS & RECREATION     BROWN   \n",
       "1869047         2017             NaN      DEPT OF ED PEDAGOGICAL    GARBER   \n",
       "2261309         2018           102.0                CITY COUNCIL     PEREZ   \n",
       "\n",
       "        First Name Mid Init Agency Start Date Work Location Borough  \\\n",
       "613118     BEVERLY      NaN        06/23/1996             MANHATTAN   \n",
       "895571      ANDREW        M        10/30/1984                 OTHER   \n",
       "1033517    ZACHARY        B        09/27/2012                QUEENS   \n",
       "1869047     RACHEL        A        09/02/2003             MANHATTAN   \n",
       "2261309       ROSY      NaN        05/18/2015             MANHATTAN   \n",
       "\n",
       "                                  Title Description  \\\n",
       "613118   ADMINISTRATIVE DIRECTOR OF SOCIAL SERVICES   \n",
       "895571                                    PRINCIPAL   \n",
       "1033517                    JOB TRAINING PARTICIPANT   \n",
       "1869047                                     TEACHER   \n",
       "2261309        LEGISLATIVE ADMINISTRATIVE ASSISTANT   \n",
       "\n",
       "        Leave Status as of June 30  Base Salary  Pay Basis  Regular Hours  \\\n",
       "613118                      ACTIVE    131011.00  per Annum         1825.0   \n",
       "895571                      CEASED    154295.00  per Annum            0.0   \n",
       "1033517                     CEASED         9.39   per Hour            0.0   \n",
       "1869047                     ACTIVE     92087.00  per Annum            0.0   \n",
       "2261309                     ACTIVE     42230.00  per Annum         1790.0   \n",
       "\n",
       "         Regular Gross Paid  OT Hours  Total OT Paid  Total Other Pay  \n",
       "613118            137013.81       0.0           0.00          1000.00  \n",
       "895571            171933.70       0.0           0.00          1002.04  \n",
       "1033517              173.98       0.0           0.27             0.00  \n",
       "1869047            88366.68       0.0           0.00             0.00  \n",
       "2261309            42114.28       0.0           0.00             0.00  "
      ]
     },
     "execution_count": 9,
     "metadata": {},
     "output_type": "execute_result"
    }
   ],
   "source": [
    "payroll_sample.head()"
   ]
  },
  {
   "cell_type": "code",
   "execution_count": 10,
   "metadata": {},
   "outputs": [
    {
     "name": "stdout",
     "output_type": "stream",
     "text": [
      "Feature Names: \n",
      "\n",
      "Fiscal Year\n",
      "Payroll Number\n",
      "Agency Name\n",
      "Last Name\n",
      "First Name\n",
      "Mid Init\n",
      "Agency Start Date\n",
      "Work Location Borough\n",
      "Title Description\n",
      "Leave Status as of June 30\n",
      "Base Salary\n",
      "Pay Basis\n",
      "Regular Hours\n",
      "Regular Gross Paid\n",
      "OT Hours\n",
      "Total OT Paid\n",
      "Total Other Pay\n"
     ]
    }
   ],
   "source": [
    "# printing feature names\n",
    "print(\"Feature Names: \\n\\n\" + \"\\n\".join(payroll_sample.columns))"
   ]
  },
  {
   "cell_type": "code",
   "execution_count": 11,
   "metadata": {},
   "outputs": [
    {
     "name": "stdout",
     "output_type": "stream",
     "text": [
      "<class 'pandas.core.frame.DataFrame'>\n",
      "Int64Index: 166654 entries, 613118 to 1223617\n",
      "Data columns (total 17 columns):\n",
      "Fiscal Year                   166654 non-null int64\n",
      "Payroll Number                79223 non-null float64\n",
      "Agency Name                   166654 non-null object\n",
      "Last Name                     166576 non-null object\n",
      "First Name                    166574 non-null object\n",
      "Mid Init                      98772 non-null object\n",
      "Agency Start Date             166654 non-null object\n",
      "Work Location Borough         141493 non-null object\n",
      "Title Description             166651 non-null object\n",
      "Leave Status as of June 30    166654 non-null object\n",
      "Base Salary                   166654 non-null float64\n",
      "Pay Basis                     166654 non-null object\n",
      "Regular Hours                 166654 non-null float64\n",
      "Regular Gross Paid            166654 non-null float64\n",
      "OT Hours                      166654 non-null float64\n",
      "Total OT Paid                 166654 non-null float64\n",
      "Total Other Pay               166654 non-null float64\n",
      "dtypes: float64(7), int64(1), object(9)\n",
      "memory usage: 22.9+ MB\n",
      "Datatypes: \n",
      "\n",
      " None\n"
     ]
    }
   ],
   "source": [
    "# data types\n",
    "print(\"Datatypes: \\n\\n\", payroll_sample.info())"
   ]
  },
  {
   "cell_type": "code",
   "execution_count": 12,
   "metadata": {},
   "outputs": [
    {
     "name": "stdout",
     "output_type": "stream",
     "text": [
      " Fiscal Year                            int64\n",
      "Payroll Number                       float64\n",
      "Agency Name                           object\n",
      "Last Name                             object\n",
      "First Name                            object\n",
      "Mid Init                              object\n",
      "Agency Start Date             datetime64[ns]\n",
      "Work Location Borough                 object\n",
      "Title Description                     object\n",
      "Leave Status as of June 30            object\n",
      "Base Salary                          float64\n",
      "Pay Basis                             object\n",
      "Regular Hours                        float64\n",
      "Regular Gross Paid                   float64\n",
      "OT Hours                             float64\n",
      "Total OT Paid                        float64\n",
      "Total Other Pay                      float64\n",
      "dtype: object\n"
     ]
    }
   ],
   "source": [
    "# converting Fiscal Year and Agency Start Date to Datetime64\n",
    "payroll_sample[\"Agency Start Date\"] = pd.to_datetime(payroll_sample[\"Agency Start Date\"], errors = \"coerce\")\n",
    "payroll_sample[\"Agency Name\"] = payroll_sample[\"Agency Name\"].astype(str)\n",
    "\n",
    "print(\"\", payroll_sample.dtypes)"
   ]
  },
  {
   "cell_type": "code",
   "execution_count": 13,
   "metadata": {},
   "outputs": [
    {
     "data": {
      "text/plain": [
       "True"
      ]
     },
     "execution_count": 13,
     "metadata": {},
     "output_type": "execute_result"
    }
   ],
   "source": [
    "# any missing values?\n",
    "payroll_sample.isnull().values.any()"
   ]
  },
  {
   "cell_type": "code",
   "execution_count": 14,
   "metadata": {},
   "outputs": [
    {
     "data": {
      "text/plain": [
       "180653"
      ]
     },
     "execution_count": 14,
     "metadata": {},
     "output_type": "execute_result"
    }
   ],
   "source": [
    "# total number of missing values\n",
    "payroll_sample.isnull().sum().sum()"
   ]
  },
  {
   "cell_type": "code",
   "execution_count": 15,
   "metadata": {},
   "outputs": [
    {
     "data": {
      "text/plain": [
       "Fiscal Year                       0\n",
       "Payroll Number                87431\n",
       "Agency Name                       0\n",
       "Last Name                        78\n",
       "First Name                       80\n",
       "Mid Init                      67882\n",
       "Agency Start Date                18\n",
       "Work Location Borough         25161\n",
       "Title Description                 3\n",
       "Leave Status as of June 30        0\n",
       "Base Salary                       0\n",
       "Pay Basis                         0\n",
       "Regular Hours                     0\n",
       "Regular Gross Paid                0\n",
       "OT Hours                          0\n",
       "Total OT Paid                     0\n",
       "Total Other Pay                   0\n",
       "dtype: int64"
      ]
     },
     "execution_count": 15,
     "metadata": {},
     "output_type": "execute_result"
    }
   ],
   "source": [
    "# how many missing values per feature?\n",
    "payroll_sample.isnull().sum()"
   ]
  },
  {
   "cell_type": "code",
   "execution_count": 16,
   "metadata": {},
   "outputs": [
    {
     "data": {
      "text/html": [
       "<div>\n",
       "<style scoped>\n",
       "    .dataframe tbody tr th:only-of-type {\n",
       "        vertical-align: middle;\n",
       "    }\n",
       "\n",
       "    .dataframe tbody tr th {\n",
       "        vertical-align: top;\n",
       "    }\n",
       "\n",
       "    .dataframe thead th {\n",
       "        text-align: right;\n",
       "    }\n",
       "</style>\n",
       "<table border=\"1\" class=\"dataframe\">\n",
       "  <thead>\n",
       "    <tr style=\"text-align: right;\">\n",
       "      <th></th>\n",
       "      <th>Values</th>\n",
       "      <th>Percent</th>\n",
       "    </tr>\n",
       "  </thead>\n",
       "  <tbody>\n",
       "    <tr>\n",
       "      <th>Payroll Number</th>\n",
       "      <td>87431</td>\n",
       "      <td>52.462587</td>\n",
       "    </tr>\n",
       "    <tr>\n",
       "      <th>Mid Init</th>\n",
       "      <td>67882</td>\n",
       "      <td>40.732296</td>\n",
       "    </tr>\n",
       "    <tr>\n",
       "      <th>Work Location Borough</th>\n",
       "      <td>25161</td>\n",
       "      <td>15.097747</td>\n",
       "    </tr>\n",
       "    <tr>\n",
       "      <th>First Name</th>\n",
       "      <td>80</td>\n",
       "      <td>0.048004</td>\n",
       "    </tr>\n",
       "    <tr>\n",
       "      <th>Last Name</th>\n",
       "      <td>78</td>\n",
       "      <td>0.046804</td>\n",
       "    </tr>\n",
       "    <tr>\n",
       "      <th>Agency Start Date</th>\n",
       "      <td>18</td>\n",
       "      <td>0.010801</td>\n",
       "    </tr>\n",
       "    <tr>\n",
       "      <th>Title Description</th>\n",
       "      <td>3</td>\n",
       "      <td>0.001800</td>\n",
       "    </tr>\n",
       "    <tr>\n",
       "      <th>Agency Name</th>\n",
       "      <td>0</td>\n",
       "      <td>0.000000</td>\n",
       "    </tr>\n",
       "    <tr>\n",
       "      <th>Total Other Pay</th>\n",
       "      <td>0</td>\n",
       "      <td>0.000000</td>\n",
       "    </tr>\n",
       "    <tr>\n",
       "      <th>Total OT Paid</th>\n",
       "      <td>0</td>\n",
       "      <td>0.000000</td>\n",
       "    </tr>\n",
       "    <tr>\n",
       "      <th>Leave Status as of June 30</th>\n",
       "      <td>0</td>\n",
       "      <td>0.000000</td>\n",
       "    </tr>\n",
       "    <tr>\n",
       "      <th>Base Salary</th>\n",
       "      <td>0</td>\n",
       "      <td>0.000000</td>\n",
       "    </tr>\n",
       "    <tr>\n",
       "      <th>Pay Basis</th>\n",
       "      <td>0</td>\n",
       "      <td>0.000000</td>\n",
       "    </tr>\n",
       "    <tr>\n",
       "      <th>Regular Hours</th>\n",
       "      <td>0</td>\n",
       "      <td>0.000000</td>\n",
       "    </tr>\n",
       "    <tr>\n",
       "      <th>Regular Gross Paid</th>\n",
       "      <td>0</td>\n",
       "      <td>0.000000</td>\n",
       "    </tr>\n",
       "    <tr>\n",
       "      <th>OT Hours</th>\n",
       "      <td>0</td>\n",
       "      <td>0.000000</td>\n",
       "    </tr>\n",
       "    <tr>\n",
       "      <th>Fiscal Year</th>\n",
       "      <td>0</td>\n",
       "      <td>0.000000</td>\n",
       "    </tr>\n",
       "  </tbody>\n",
       "</table>\n",
       "</div>"
      ],
      "text/plain": [
       "                            Values    Percent\n",
       "Payroll Number               87431  52.462587\n",
       "Mid Init                     67882  40.732296\n",
       "Work Location Borough        25161  15.097747\n",
       "First Name                      80   0.048004\n",
       "Last Name                       78   0.046804\n",
       "Agency Start Date               18   0.010801\n",
       "Title Description                3   0.001800\n",
       "Agency Name                      0   0.000000\n",
       "Total Other Pay                  0   0.000000\n",
       "Total OT Paid                    0   0.000000\n",
       "Leave Status as of June 30       0   0.000000\n",
       "Base Salary                      0   0.000000\n",
       "Pay Basis                        0   0.000000\n",
       "Regular Hours                    0   0.000000\n",
       "Regular Gross Paid               0   0.000000\n",
       "OT Hours                         0   0.000000\n",
       "Fiscal Year                      0   0.000000"
      ]
     },
     "execution_count": 16,
     "metadata": {},
     "output_type": "execute_result"
    }
   ],
   "source": [
    "# percentage of missing values for each feature\n",
    "\n",
    "values = payroll_sample.isnull().sum().sort_values(ascending=False)\n",
    "percent = payroll_sample.isnull().mean().sort_values(ascending=False)\n",
    "percent *= 100\n",
    "missing_data = pd.concat([values, percent], axis=1, keys=['Values', 'Percent'])\n",
    "missing_data.head(20)"
   ]
  },
  {
   "cell_type": "markdown",
   "metadata": {},
   "source": [
    "### Since Work Location Borough is important we'll keep it and take care of 1 observation in title description variable and keep the variable"
   ]
  },
  {
   "cell_type": "code",
   "execution_count": 17,
   "metadata": {},
   "outputs": [
    {
     "data": {
      "text/plain": [
       "25161"
      ]
     },
     "execution_count": 17,
     "metadata": {},
     "output_type": "execute_result"
    }
   ],
   "source": [
    "# dealing or removing missing data with greater than 20 percent data missing\n",
    "payroll_sample = payroll_sample.drop((missing_data[missing_data['Percent'] > 20]).index,1)\n",
    "payroll_sample = payroll_sample.drop(payroll_sample.loc[payroll_sample['Title Description'].isnull()].index)\n",
    "payroll_sample.isnull().sum().max()"
   ]
  },
  {
   "cell_type": "markdown",
   "metadata": {},
   "source": [
    "### Since First and Last names are not as important for our project we'll just drop them"
   ]
  },
  {
   "cell_type": "code",
   "execution_count": 18,
   "metadata": {},
   "outputs": [],
   "source": [
    "payroll_sample = payroll_sample.drop([\"First Name\", \"Last Name\"], axis=1)"
   ]
  },
  {
   "cell_type": "code",
   "execution_count": 19,
   "metadata": {},
   "outputs": [
    {
     "data": {
      "text/html": [
       "<div>\n",
       "<style scoped>\n",
       "    .dataframe tbody tr th:only-of-type {\n",
       "        vertical-align: middle;\n",
       "    }\n",
       "\n",
       "    .dataframe tbody tr th {\n",
       "        vertical-align: top;\n",
       "    }\n",
       "\n",
       "    .dataframe thead th {\n",
       "        text-align: right;\n",
       "    }\n",
       "</style>\n",
       "<table border=\"1\" class=\"dataframe\">\n",
       "  <thead>\n",
       "    <tr style=\"text-align: right;\">\n",
       "      <th></th>\n",
       "      <th>Values</th>\n",
       "      <th>Percent</th>\n",
       "    </tr>\n",
       "  </thead>\n",
       "  <tbody>\n",
       "    <tr>\n",
       "      <th>Work Location Borough</th>\n",
       "      <td>25161</td>\n",
       "      <td>15.098019</td>\n",
       "    </tr>\n",
       "    <tr>\n",
       "      <th>Agency Start Date</th>\n",
       "      <td>18</td>\n",
       "      <td>0.010801</td>\n",
       "    </tr>\n",
       "    <tr>\n",
       "      <th>Total Other Pay</th>\n",
       "      <td>0</td>\n",
       "      <td>0.000000</td>\n",
       "    </tr>\n",
       "    <tr>\n",
       "      <th>Total OT Paid</th>\n",
       "      <td>0</td>\n",
       "      <td>0.000000</td>\n",
       "    </tr>\n",
       "    <tr>\n",
       "      <th>OT Hours</th>\n",
       "      <td>0</td>\n",
       "      <td>0.000000</td>\n",
       "    </tr>\n",
       "  </tbody>\n",
       "</table>\n",
       "</div>"
      ],
      "text/plain": [
       "                       Values    Percent\n",
       "Work Location Borough   25161  15.098019\n",
       "Agency Start Date          18   0.010801\n",
       "Total Other Pay             0   0.000000\n",
       "Total OT Paid               0   0.000000\n",
       "OT Hours                    0   0.000000"
      ]
     },
     "execution_count": 19,
     "metadata": {},
     "output_type": "execute_result"
    }
   ],
   "source": [
    "values = payroll_sample.isnull().sum().sort_values(ascending=False)\n",
    "percent = payroll_sample.isnull().mean().sort_values(ascending=False)\n",
    "percent *= 100\n",
    "missing_data = pd.concat([values, percent], axis=1, keys=['Values', 'Percent'])\n",
    "missing_data.head()"
   ]
  },
  {
   "cell_type": "code",
   "execution_count": 20,
   "metadata": {},
   "outputs": [
    {
     "data": {
      "text/plain": [
       "True"
      ]
     },
     "execution_count": 20,
     "metadata": {},
     "output_type": "execute_result"
    }
   ],
   "source": [
    "# any missing values?\n",
    "payroll_sample.isnull().values.any()"
   ]
  },
  {
   "cell_type": "code",
   "execution_count": 21,
   "metadata": {},
   "outputs": [
    {
     "data": {
      "text/plain": [
       "<matplotlib.axes._subplots.AxesSubplot at 0x1d98006beb8>"
      ]
     },
     "execution_count": 21,
     "metadata": {},
     "output_type": "execute_result"
    },
    {
     "data": {
      "image/png": "[encoded data removed]",
      "text/plain": [
       "<Figure size 576x432 with 2 Axes>"
      ]
     },
     "metadata": {
      "needs_background": "light"
     },
     "output_type": "display_data"
    }
   ],
   "source": [
    "# correlation\n",
    "\n",
    "corrmap = payroll_sample.corr()\n",
    "f, ax = plt.subplots(figsize=(8, 6))\n",
    "sns.heatmap(corrmap, vmax=1, square=True)"
   ]
  },
  {
   "cell_type": "code",
   "execution_count": 22,
   "metadata": {},
   "outputs": [
    {
     "data": {
      "text/html": [
       "<div>\n",
       "<style scoped>\n",
       "    .dataframe tbody tr th:only-of-type {\n",
       "        vertical-align: middle;\n",
       "    }\n",
       "\n",
       "    .dataframe tbody tr th {\n",
       "        vertical-align: top;\n",
       "    }\n",
       "\n",
       "    .dataframe thead th {\n",
       "        text-align: right;\n",
       "    }\n",
       "</style>\n",
       "<table border=\"1\" class=\"dataframe\">\n",
       "  <thead>\n",
       "    <tr style=\"text-align: right;\">\n",
       "      <th></th>\n",
       "      <th>Fiscal Year</th>\n",
       "      <th>Base Salary</th>\n",
       "      <th>Regular Hours</th>\n",
       "      <th>Regular Gross Paid</th>\n",
       "      <th>OT Hours</th>\n",
       "      <th>Total OT Paid</th>\n",
       "      <th>Total Other Pay</th>\n",
       "    </tr>\n",
       "  </thead>\n",
       "  <tbody>\n",
       "    <tr>\n",
       "      <th>Fiscal Year</th>\n",
       "      <td>1.000000</td>\n",
       "      <td>0.059331</td>\n",
       "      <td>0.002348</td>\n",
       "      <td>0.069536</td>\n",
       "      <td>-0.000791</td>\n",
       "      <td>0.014495</td>\n",
       "      <td>-0.002621</td>\n",
       "    </tr>\n",
       "    <tr>\n",
       "      <th>Base Salary</th>\n",
       "      <td>0.059331</td>\n",
       "      <td>1.000000</td>\n",
       "      <td>0.346606</td>\n",
       "      <td>0.842952</td>\n",
       "      <td>0.194892</td>\n",
       "      <td>0.236011</td>\n",
       "      <td>0.310475</td>\n",
       "    </tr>\n",
       "    <tr>\n",
       "      <th>Regular Hours</th>\n",
       "      <td>0.002348</td>\n",
       "      <td>0.346606</td>\n",
       "      <td>1.000000</td>\n",
       "      <td>0.448538</td>\n",
       "      <td>0.599197</td>\n",
       "      <td>0.550561</td>\n",
       "      <td>0.584060</td>\n",
       "    </tr>\n",
       "    <tr>\n",
       "      <th>Regular Gross Paid</th>\n",
       "      <td>0.069536</td>\n",
       "      <td>0.842952</td>\n",
       "      <td>0.448538</td>\n",
       "      <td>1.000000</td>\n",
       "      <td>0.280622</td>\n",
       "      <td>0.345986</td>\n",
       "      <td>0.384757</td>\n",
       "    </tr>\n",
       "    <tr>\n",
       "      <th>OT Hours</th>\n",
       "      <td>-0.000791</td>\n",
       "      <td>0.194892</td>\n",
       "      <td>0.599197</td>\n",
       "      <td>0.280622</td>\n",
       "      <td>1.000000</td>\n",
       "      <td>0.919040</td>\n",
       "      <td>0.529801</td>\n",
       "    </tr>\n",
       "    <tr>\n",
       "      <th>Total OT Paid</th>\n",
       "      <td>0.014495</td>\n",
       "      <td>0.236011</td>\n",
       "      <td>0.550561</td>\n",
       "      <td>0.345986</td>\n",
       "      <td>0.919040</td>\n",
       "      <td>1.000000</td>\n",
       "      <td>0.612930</td>\n",
       "    </tr>\n",
       "    <tr>\n",
       "      <th>Total Other Pay</th>\n",
       "      <td>-0.002621</td>\n",
       "      <td>0.310475</td>\n",
       "      <td>0.584060</td>\n",
       "      <td>0.384757</td>\n",
       "      <td>0.529801</td>\n",
       "      <td>0.612930</td>\n",
       "      <td>1.000000</td>\n",
       "    </tr>\n",
       "  </tbody>\n",
       "</table>\n",
       "</div>"
      ],
      "text/plain": [
       "                    Fiscal Year  Base Salary  Regular Hours  \\\n",
       "Fiscal Year            1.000000     0.059331       0.002348   \n",
       "Base Salary            0.059331     1.000000       0.346606   \n",
       "Regular Hours          0.002348     0.346606       1.000000   \n",
       "Regular Gross Paid     0.069536     0.842952       0.448538   \n",
       "OT Hours              -0.000791     0.194892       0.599197   \n",
       "Total OT Paid          0.014495     0.236011       0.550561   \n",
       "Total Other Pay       -0.002621     0.310475       0.584060   \n",
       "\n",
       "                    Regular Gross Paid  OT Hours  Total OT Paid  \\\n",
       "Fiscal Year                   0.069536 -0.000791       0.014495   \n",
       "Base Salary                   0.842952  0.194892       0.236011   \n",
       "Regular Hours                 0.448538  0.599197       0.550561   \n",
       "Regular Gross Paid            1.000000  0.280622       0.345986   \n",
       "OT Hours                      0.280622  1.000000       0.919040   \n",
       "Total OT Paid                 0.345986  0.919040       1.000000   \n",
       "Total Other Pay               0.384757  0.529801       0.612930   \n",
       "\n",
       "                    Total Other Pay  \n",
       "Fiscal Year               -0.002621  \n",
       "Base Salary                0.310475  \n",
       "Regular Hours              0.584060  \n",
       "Regular Gross Paid         0.384757  \n",
       "OT Hours                   0.529801  \n",
       "Total OT Paid              0.612930  \n",
       "Total Other Pay            1.000000  "
      ]
     },
     "execution_count": 22,
     "metadata": {},
     "output_type": "execute_result"
    }
   ],
   "source": [
    "pearsoncorr = payroll_sample.corr(method='pearson')\n",
    "pearsoncorr"
   ]
  },
  {
   "cell_type": "code",
   "execution_count": 23,
   "metadata": {},
   "outputs": [
    {
     "data": {
      "text/plain": [
       "<matplotlib.axes._subplots.AxesSubplot at 0x1d9802489e8>"
      ]
     },
     "execution_count": 23,
     "metadata": {},
     "output_type": "execute_result"
    },
    {
     "data": {
      "image/png": "[encoded data removed]",
      "text/plain": [
       "<Figure size 576x432 with 2 Axes>"
      ]
     },
     "metadata": {
      "needs_background": "light"
     },
     "output_type": "display_data"
    }
   ],
   "source": [
    "f, ax = plt.subplots(figsize=(8, 6))\n",
    "sns.heatmap(pearsoncorr, \n",
    "            xticklabels=pearsoncorr.columns,\n",
    "            yticklabels=pearsoncorr.columns,\n",
    "            cmap='RdBu_r',\n",
    "            annot=True,\n",
    "            linewidth=0.5)"
   ]
  },
  {
   "cell_type": "code",
   "execution_count": 24,
   "metadata": {},
   "outputs": [],
   "source": [
    "# to be continued..."
   ]
  },
  {
   "cell_type": "code",
   "execution_count": 25,
   "metadata": {},
   "outputs": [
    {
     "data": {
      "text/html": [
       "<div>\n",
       "<style scoped>\n",
       "    .dataframe tbody tr th:only-of-type {\n",
       "        vertical-align: middle;\n",
       "    }\n",
       "\n",
       "    .dataframe tbody tr th {\n",
       "        vertical-align: top;\n",
       "    }\n",
       "\n",
       "    .dataframe thead th {\n",
       "        text-align: right;\n",
       "    }\n",
       "</style>\n",
       "<table border=\"1\" class=\"dataframe\">\n",
       "  <thead>\n",
       "    <tr style=\"text-align: right;\">\n",
       "      <th></th>\n",
       "      <th>Fiscal Year</th>\n",
       "      <th>Agency Name</th>\n",
       "      <th>Agency Start Date</th>\n",
       "      <th>Work Location Borough</th>\n",
       "      <th>Title Description</th>\n",
       "      <th>Leave Status as of June 30</th>\n",
       "      <th>Base Salary</th>\n",
       "      <th>Pay Basis</th>\n",
       "      <th>Regular Hours</th>\n",
       "      <th>Regular Gross Paid</th>\n",
       "      <th>OT Hours</th>\n",
       "      <th>Total OT Paid</th>\n",
       "      <th>Total Other Pay</th>\n",
       "      <th>Total Pay</th>\n",
       "    </tr>\n",
       "  </thead>\n",
       "  <tbody>\n",
       "    <tr>\n",
       "      <th>613118</th>\n",
       "      <td>2015</td>\n",
       "      <td>ADMIN FOR CHILDREN'S SVCS</td>\n",
       "      <td>1996-06-23</td>\n",
       "      <td>MANHATTAN</td>\n",
       "      <td>ADMINISTRATIVE DIRECTOR OF SOCIAL SERVICES</td>\n",
       "      <td>ACTIVE</td>\n",
       "      <td>131011.00</td>\n",
       "      <td>per Annum</td>\n",
       "      <td>1825.0</td>\n",
       "      <td>137013.81</td>\n",
       "      <td>0.0</td>\n",
       "      <td>0.00</td>\n",
       "      <td>1000.00</td>\n",
       "      <td>137013.81</td>\n",
       "    </tr>\n",
       "    <tr>\n",
       "      <th>895571</th>\n",
       "      <td>2015</td>\n",
       "      <td>DEPT OF ED PEDAGOGICAL</td>\n",
       "      <td>1984-10-30</td>\n",
       "      <td>OTHER</td>\n",
       "      <td>PRINCIPAL</td>\n",
       "      <td>CEASED</td>\n",
       "      <td>154295.00</td>\n",
       "      <td>per Annum</td>\n",
       "      <td>0.0</td>\n",
       "      <td>171933.70</td>\n",
       "      <td>0.0</td>\n",
       "      <td>0.00</td>\n",
       "      <td>1002.04</td>\n",
       "      <td>171933.70</td>\n",
       "    </tr>\n",
       "    <tr>\n",
       "      <th>1033517</th>\n",
       "      <td>2015</td>\n",
       "      <td>DEPT OF PARKS &amp; RECREATION</td>\n",
       "      <td>2012-09-27</td>\n",
       "      <td>QUEENS</td>\n",
       "      <td>JOB TRAINING PARTICIPANT</td>\n",
       "      <td>CEASED</td>\n",
       "      <td>9.39</td>\n",
       "      <td>per Hour</td>\n",
       "      <td>0.0</td>\n",
       "      <td>173.98</td>\n",
       "      <td>0.0</td>\n",
       "      <td>0.27</td>\n",
       "      <td>0.00</td>\n",
       "      <td>174.25</td>\n",
       "    </tr>\n",
       "    <tr>\n",
       "      <th>1869047</th>\n",
       "      <td>2017</td>\n",
       "      <td>DEPT OF ED PEDAGOGICAL</td>\n",
       "      <td>2003-09-02</td>\n",
       "      <td>MANHATTAN</td>\n",
       "      <td>TEACHER</td>\n",
       "      <td>ACTIVE</td>\n",
       "      <td>92087.00</td>\n",
       "      <td>per Annum</td>\n",
       "      <td>0.0</td>\n",
       "      <td>88366.68</td>\n",
       "      <td>0.0</td>\n",
       "      <td>0.00</td>\n",
       "      <td>0.00</td>\n",
       "      <td>88366.68</td>\n",
       "    </tr>\n",
       "    <tr>\n",
       "      <th>2261309</th>\n",
       "      <td>2018</td>\n",
       "      <td>CITY COUNCIL</td>\n",
       "      <td>2015-05-18</td>\n",
       "      <td>MANHATTAN</td>\n",
       "      <td>LEGISLATIVE ADMINISTRATIVE ASSISTANT</td>\n",
       "      <td>ACTIVE</td>\n",
       "      <td>42230.00</td>\n",
       "      <td>per Annum</td>\n",
       "      <td>1790.0</td>\n",
       "      <td>42114.28</td>\n",
       "      <td>0.0</td>\n",
       "      <td>0.00</td>\n",
       "      <td>0.00</td>\n",
       "      <td>42114.28</td>\n",
       "    </tr>\n",
       "  </tbody>\n",
       "</table>\n",
       "</div>"
      ],
      "text/plain": [
       "         Fiscal Year                 Agency Name Agency Start Date  \\\n",
       "613118          2015   ADMIN FOR CHILDREN'S SVCS        1996-06-23   \n",
       "895571          2015      DEPT OF ED PEDAGOGICAL        1984-10-30   \n",
       "1033517         2015  DEPT OF PARKS & RECREATION        2012-09-27   \n",
       "1869047         2017      DEPT OF ED PEDAGOGICAL        2003-09-02   \n",
       "2261309         2018                CITY COUNCIL        2015-05-18   \n",
       "\n",
       "        Work Location Borough                           Title Description  \\\n",
       "613118              MANHATTAN  ADMINISTRATIVE DIRECTOR OF SOCIAL SERVICES   \n",
       "895571                  OTHER                                   PRINCIPAL   \n",
       "1033517                QUEENS                    JOB TRAINING PARTICIPANT   \n",
       "1869047             MANHATTAN                                     TEACHER   \n",
       "2261309             MANHATTAN        LEGISLATIVE ADMINISTRATIVE ASSISTANT   \n",
       "\n",
       "        Leave Status as of June 30  Base Salary  Pay Basis  Regular Hours  \\\n",
       "613118                      ACTIVE    131011.00  per Annum         1825.0   \n",
       "895571                      CEASED    154295.00  per Annum            0.0   \n",
       "1033517                     CEASED         9.39   per Hour            0.0   \n",
       "1869047                     ACTIVE     92087.00  per Annum            0.0   \n",
       "2261309                     ACTIVE     42230.00  per Annum         1790.0   \n",
       "\n",
       "         Regular Gross Paid  OT Hours  Total OT Paid  Total Other Pay  \\\n",
       "613118            137013.81       0.0           0.00          1000.00   \n",
       "895571            171933.70       0.0           0.00          1002.04   \n",
       "1033517              173.98       0.0           0.27             0.00   \n",
       "1869047            88366.68       0.0           0.00             0.00   \n",
       "2261309            42114.28       0.0           0.00             0.00   \n",
       "\n",
       "         Total Pay  \n",
       "613118   137013.81  \n",
       "895571   171933.70  \n",
       "1033517     174.25  \n",
       "1869047   88366.68  \n",
       "2261309   42114.28  "
      ]
     },
     "execution_count": 25,
     "metadata": {},
     "output_type": "execute_result"
    }
   ],
   "source": [
    "# total pay of Regular Gross Paid and Total OT Paid (OT = overtime)\n",
    "payroll_sample[\"Total Pay\"] = payroll_sample[\"Regular Gross Paid\"] + payroll_sample[\"Total OT Paid\"]\n",
    "payroll_sample.head()"
   ]
  },
  {
   "cell_type": "code",
   "execution_count": 26,
   "metadata": {},
   "outputs": [],
   "source": []
  },
  {
   "cell_type": "code",
   "execution_count": 27,
   "metadata": {},
   "outputs": [
    {
     "data": {
      "text/plain": [
       "(500000, 600000)"
      ]
     },
     "execution_count": 27,
     "metadata": {},
     "output_type": "execute_result"
    },
    {
     "data": {
      "image/png": "[encoded data removed]",
      "text/plain": [
       "<Figure size 432x288 with 1 Axes>"
      ]
     },
     "metadata": {
      "needs_background": "light"
     },
     "output_type": "display_data"
    }
   ],
   "source": [
    "# counts of municipal employees (use full dataset since you're interested in purely counts)\n",
    "    ## year-to-year\n",
    "payroll_year_counts = payroll[\"Fiscal Year\"].value_counts()\n",
    "#plt.bar(payroll_year_counts.index, payroll_year_counts.values, color = \"r\")\n",
    "#plt.ylim(500000, 600000) # to make the differences between each year stand out more...\n",
    "#plt.title(\"Number of NYC Municipal Employees by Year\")\n",
    "#plt.xlabel(\"Fiscal Year\")\n",
    "#plt.ylabel(\"Count\")\n",
    "\n",
    "import matplotlib.ticker as tkr\n",
    "\n",
    "def func(x, pos):  # formatter function takes tick label and tick position\n",
    "    s = '%d' % x\n",
    "    groups = []\n",
    "    while s and s[-1].isdigit():\n",
    "        groups.append(s[-3:])\n",
    "        s = s[:-3]\n",
    "    return s + ','.join(reversed(groups))\n",
    "\n",
    "y_format = tkr.FuncFormatter(func) \n",
    "\n",
    "ax = plt.subplot(111)\n",
    "ax.bar(payroll_year_counts.index, payroll_year_counts.values, color = \"r\")\n",
    "ax.yaxis.set_major_formatter(y_format)\n",
    "ax.set_title(\"Number of NYC Municipal Employees by Year\")\n",
    "ax.set_xlabel(\"Fiscal Year\")\n",
    "ax.set_ylabel(\"Count\")\n",
    "ax.set_ylim(500000, 600000)"
   ]
  },
  {
   "cell_type": "code",
   "execution_count": 28,
   "metadata": {},
   "outputs": [
    {
     "data": {
      "text/plain": [
       "Text(0, 0.5, 'Count')"
      ]
     },
     "execution_count": 28,
     "metadata": {},
     "output_type": "execute_result"
    },
    {
     "data": {
      "image/png": "[encoded data removed]",
      "text/plain": [
       "<Figure size 432x288 with 1 Axes>"
      ]
     },
     "metadata": {
      "needs_background": "light"
     },
     "output_type": "display_data"
    }
   ],
   "source": [
    "## agency-to-agency\n",
    "    \n",
    "payroll_agency_counts = payroll[\"Agency Name\"].value_counts()\n",
    "ax = plt.subplot(111)\n",
    "ax.bar(payroll_agency_counts.index, payroll_agency_counts.values, color = \"b\")\n",
    "ax.yaxis.set_major_formatter(y_format)\n",
    "ax.set_title(\"Number of NYC Municipal Employees by Agency\")\n",
    "ax.set_xlabel(\"Agency Name\")\n",
    "ax.set_ylabel(\"Count\")\n",
    "#ax.set_ylim(500000, 600000)"
   ]
  },
  {
   "cell_type": "code",
   "execution_count": 47,
   "metadata": {},
   "outputs": [
    {
     "data": {
      "text/plain": [
       "DEPT OF ED PEDAGOGICAL            643361\n",
       "DEPT OF ED PER SESSION TEACHER    502848\n",
       "POLICE DEPARTMENT                 307445\n",
       "BOARD OF ELECTION POLL WORKERS    204209\n",
       "DEPT OF ED PARA PROFESSIONALS     203906\n",
       "DEPT OF ED HRLY SUPPORT STAFF     142792\n",
       "FIRE DEPARTMENT                   109626\n",
       "DEPT OF PARKS & RECREATION        103204\n",
       "DEPARTMENT OF EDUCATION ADMIN      93067\n",
       "HRA/DEPT OF SOCIAL SERVICES        89784\n",
       "Name: Agency Name, dtype: int64"
      ]
     },
     "execution_count": 47,
     "metadata": {},
     "output_type": "execute_result"
    }
   ],
   "source": [
    "payroll_agency_counts.head(10) #85,000 is a good cutoff"
   ]
  },
  {
   "cell_type": "code",
   "execution_count": 51,
   "metadata": {},
   "outputs": [
    {
     "data": {
      "text/plain": [
       "DEPT OF ED PEDAGOGICAL            643361\n",
       "DEPT OF ED PER SESSION TEACHER    502848\n",
       "POLICE DEPARTMENT                 307445\n",
       "BOARD OF ELECTION POLL WORKERS    204209\n",
       "DEPT OF ED PARA PROFESSIONALS     203906\n",
       "DEPT OF ED HRLY SUPPORT STAFF     142792\n",
       "FIRE DEPARTMENT                   109626\n",
       "DEPT OF PARKS & RECREATION        103204\n",
       "DEPARTMENT OF EDUCATION ADMIN      93067\n",
       "HRA/DEPT OF SOCIAL SERVICES        89784\n",
       "Name: Agency Name, dtype: int64"
      ]
     },
     "execution_count": 51,
     "metadata": {},
     "output_type": "execute_result"
    }
   ],
   "source": [
    "payroll_agency_counts_filter = payroll_agency_counts >= 85000\n",
    "payroll_agency_counts_top = payroll_agency_counts[payroll_agency_counts_filter]\n",
    "payroll_agency_counts_top"
   ]
  },
  {
   "cell_type": "code",
   "execution_count": 53,
   "metadata": {},
   "outputs": [
    {
     "data": {
      "text/plain": [
       "[Text(0, 0, 'DEPT OF ED PEDAGOGICAL'),\n",
       " Text(1, 0, 'DEPT OF ED PER SESSION TEACHER'),\n",
       " Text(2, 0, 'POLICE DEPARTMENT'),\n",
       " Text(3, 0, 'BOARD OF ELECTION POLL WORKERS'),\n",
       " Text(4, 0, 'DEPT OF ED PARA PROFESSIONALS'),\n",
       " Text(5, 0, 'DEPT OF ED HRLY SUPPORT STAFF'),\n",
       " Text(6, 0, 'FIRE DEPARTMENT'),\n",
       " Text(7, 0, 'DEPT OF PARKS & RECREATION'),\n",
       " Text(8, 0, 'DEPARTMENT OF EDUCATION ADMIN'),\n",
       " Text(9, 0, 'HRA/DEPT OF SOCIAL SERVICES')]"
      ]
     },
     "execution_count": 53,
     "metadata": {},
     "output_type": "execute_result"
    },
    {
     "data": {
      "image/png": "[encoded data removed]",
      "text/plain": [
       "<Figure size 432x288 with 1 Axes>"
      ]
     },
     "metadata": {
      "needs_background": "light"
     },
     "output_type": "display_data"
    }
   ],
   "source": [
    "ax = plt.subplot(111)\n",
    "ax.bar(payroll_agency_counts_top.index, payroll_agency_counts_top.values, color = \"b\")\n",
    "ax.yaxis.set_major_formatter(y_format)\n",
    "ax.set_title(\"Number of NYC Municipal Employees by Agency\")\n",
    "ax.set_xlabel(\"Agency Name\")\n",
    "ax.set_ylabel(\"Count\")\n",
    "plt.draw()\n",
    "ax.set_xticklabels(ax.get_xticklabels(), rotation=90)\n",
    "#ax.set_ylim(500000, 600000)"
   ]
  },
  {
   "cell_type": "code",
   "execution_count": null,
   "metadata": {},
   "outputs": [],
   "source": [
    "    ## borough-to-borough\n",
    "payroll_borough_counts = payroll[\"Work Location Borough\"].value_counts()\n",
    "ax = plt.subplot(111)\n",
    "ax.bar(payroll_borough_counts.index, payroll_borough_counts.values, color = \"r\")\n",
    "ax.yaxis.set_major_formatter(y_format)\n",
    "ax.set_title(\"Number of NYC Municipal Employees by Borough\")\n",
    "ax.set_xlabel(\"Borough\")\n",
    "ax.set_ylabel(\"Count\")\n",
    "plt.draw()\n",
    "ax.set_xticklabels(ax.get_xticklabels(), rotation=90)\n",
    "#ax.set_ylim(500000, 600000)"
   ]
  },
  {
   "cell_type": "code",
   "execution_count": 30,
   "metadata": {},
   "outputs": [],
   "source": [
    "# distributions of base pay\n",
    "    # whole\n",
    "    # by borough "
   ]
  },
  {
   "cell_type": "code",
   "execution_count": 31,
   "metadata": {},
   "outputs": [],
   "source": [
    "# distributions of actual pay\n",
    "    # whole\n",
    "    # by borough "
   ]
  },
  {
   "cell_type": "code",
   "execution_count": 32,
   "metadata": {},
   "outputs": [],
   "source": [
    "# hypothesis testing for actual pay"
   ]
  },
  {
   "cell_type": "code",
   "execution_count": 33,
   "metadata": {},
   "outputs": [],
   "source": [
    "# distributions of the difference between base pay and actual pay"
   ]
  },
  {
   "cell_type": "code",
   "execution_count": 34,
   "metadata": {},
   "outputs": [],
   "source": [
    "# distributions of overtime"
   ]
  },
  {
   "cell_type": "code",
   "execution_count": 35,
   "metadata": {},
   "outputs": [],
   "source": [
    "# bar graph of the pay of active and ceased employees"
   ]
  },
  {
   "cell_type": "code",
   "execution_count": 36,
   "metadata": {},
   "outputs": [],
   "source": [
    "# bar graph of pay basis"
   ]
  },
  {
   "cell_type": "code",
   "execution_count": 37,
   "metadata": {},
   "outputs": [],
   "source": [
    "# regular hours vs. base salary scatterplot"
   ]
  },
  {
   "cell_type": "code",
   "execution_count": 38,
   "metadata": {},
   "outputs": [],
   "source": [
    "# Pearson's R for regular hours vs base salary"
   ]
  },
  {
   "cell_type": "code",
   "execution_count": 39,
   "metadata": {},
   "outputs": [],
   "source": [
    "# agency start date vs. actual pay"
   ]
  },
  {
   "cell_type": "code",
   "execution_count": 40,
   "metadata": {},
   "outputs": [],
   "source": [
    "# double bar graph of base salary and regular gross paid \n",
    "    # by borough\n",
    "    # by agency "
   ]
  },
  {
   "cell_type": "code",
   "execution_count": 41,
   "metadata": {},
   "outputs": [],
   "source": [
    "# swarm plot of borough vs. regular gross paid "
   ]
  },
  {
   "cell_type": "code",
   "execution_count": 42,
   "metadata": {},
   "outputs": [],
   "source": [
    "# swarm plot of fiscal year vs. regular gross paid"
   ]
  },
  {
   "cell_type": "code",
   "execution_count": 43,
   "metadata": {},
   "outputs": [],
   "source": [
    "# total hours (regular hours + OT Hours) vs regular gross paid"
   ]
  },
  {
   "cell_type": "code",
   "execution_count": 44,
   "metadata": {},
   "outputs": [],
   "source": [
    "# K-Nearest Neighbor Regressor with k = 5 to predict regular gross paid\n",
    "    # manually compute for one random observation\n",
    "    # create a 80/20 train-test split and utilize a k-nearest neighbor algorithm\n",
    "        # compute mse and rmse\n",
    "        # regular gross paid vs residuals "
   ]
  }
 ],
 "metadata": {
  "kernelspec": {
   "display_name": "Python 3",
   "language": "python",
   "name": "python3"
  },
  "language_info": {
   "codemirror_mode": {
    "name": "ipython",
    "version": 3
   },
   "file_extension": ".py",
   "mimetype": "text/x-python",
   "name": "python",
   "nbconvert_exporter": "python",
   "pygments_lexer": "ipython3",
   "version": "3.7.3"
  }
 },
 "nbformat": 4,
 "nbformat_minor": 2
}
