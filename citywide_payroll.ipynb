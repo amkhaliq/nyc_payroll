{
 "cells": [
  {
   "cell_type": "code",
   "execution_count": 1,
   "metadata": {},
   "outputs": [],
   "source": [
    "import numpy as np\n",
    "import pandas as pd\n",
    "import datetime\n",
    "import seaborn as sns\n",
    "import matplotlib.pyplot as plt\n",
    "%matplotlib inline"
   ]
  },
  {
   "cell_type": "code",
   "execution_count": 2,
   "metadata": {
    "scrolled": true
   },
   "outputs": [
    {
     "name": "stderr",
     "output_type": "stream",
     "text": [
      "C:\\Anaconda3\\lib\\site-packages\\IPython\\core\\interactiveshell.py:3057: DtypeWarning: Columns (7) have mixed types. Specify dtype option on import or set low_memory=False.\n",
      "  interactivity=interactivity, compiler=compiler, result=result)\n"
     ]
    }
   ],
   "source": [
    "# load in the data\n",
    "missing_values = [\"n/a\", \"na\", \"--\", \"-\", \"NA\"]\n",
    "payroll = pd.read_csv(\"../nyc_payroll/Input/city_payroll.csv\", na_values = missing_values)"
   ]
  },
  {
   "cell_type": "code",
   "execution_count": 3,
   "metadata": {
    "scrolled": true
   },
   "outputs": [
    {
     "data": {
      "text/html": [
       "<div>\n",
       "<style scoped>\n",
       "    .dataframe tbody tr th:only-of-type {\n",
       "        vertical-align: middle;\n",
       "    }\n",
       "\n",
       "    .dataframe tbody tr th {\n",
       "        vertical-align: top;\n",
       "    }\n",
       "\n",
       "    .dataframe thead th {\n",
       "        text-align: right;\n",
       "    }\n",
       "</style>\n",
       "<table border=\"1\" class=\"dataframe\">\n",
       "  <thead>\n",
       "    <tr style=\"text-align: right;\">\n",
       "      <th></th>\n",
       "      <th>Fiscal Year</th>\n",
       "      <th>Payroll Number</th>\n",
       "      <th>Agency Name</th>\n",
       "      <th>Last Name</th>\n",
       "      <th>First Name</th>\n",
       "      <th>Mid Init</th>\n",
       "      <th>Agency Start Date</th>\n",
       "      <th>Work Location Borough</th>\n",
       "      <th>Title Description</th>\n",
       "      <th>Leave Status as of June 30</th>\n",
       "      <th>Base Salary</th>\n",
       "      <th>Pay Basis</th>\n",
       "      <th>Regular Hours</th>\n",
       "      <th>Regular Gross Paid</th>\n",
       "      <th>OT Hours</th>\n",
       "      <th>Total OT Paid</th>\n",
       "      <th>Total Other Pay</th>\n",
       "    </tr>\n",
       "  </thead>\n",
       "  <tbody>\n",
       "    <tr>\n",
       "      <th>0</th>\n",
       "      <td>2016</td>\n",
       "      <td>NaN</td>\n",
       "      <td>DISTRICT ATTORNEY-MANHATTAN</td>\n",
       "      <td>ABA'AHMID</td>\n",
       "      <td>RAHASHEEM</td>\n",
       "      <td>E</td>\n",
       "      <td>07/14/2003</td>\n",
       "      <td>MANHATTAN</td>\n",
       "      <td>COMMUNITY ASSOCIATE</td>\n",
       "      <td>ACTIVE</td>\n",
       "      <td>47678.0</td>\n",
       "      <td>per Annum</td>\n",
       "      <td>1830.00</td>\n",
       "      <td>47166.03</td>\n",
       "      <td>2.25</td>\n",
       "      <td>57.28</td>\n",
       "      <td>0.0</td>\n",
       "    </tr>\n",
       "    <tr>\n",
       "      <th>1</th>\n",
       "      <td>2016</td>\n",
       "      <td>NaN</td>\n",
       "      <td>DISTRICT ATTORNEY-MANHATTAN</td>\n",
       "      <td>ABENSUR</td>\n",
       "      <td>MARGARET</td>\n",
       "      <td>NaN</td>\n",
       "      <td>06/12/1995</td>\n",
       "      <td>MANHATTAN</td>\n",
       "      <td>ADMINISTRATIVE ACCOUNTANT</td>\n",
       "      <td>ACTIVE</td>\n",
       "      <td>119959.0</td>\n",
       "      <td>per Annum</td>\n",
       "      <td>1831.00</td>\n",
       "      <td>119042.50</td>\n",
       "      <td>0.00</td>\n",
       "      <td>0.00</td>\n",
       "      <td>0.0</td>\n",
       "    </tr>\n",
       "    <tr>\n",
       "      <th>2</th>\n",
       "      <td>2016</td>\n",
       "      <td>NaN</td>\n",
       "      <td>DISTRICT ATTORNEY-MANHATTAN</td>\n",
       "      <td>ABOUNAOUM</td>\n",
       "      <td>ANDREA</td>\n",
       "      <td>L</td>\n",
       "      <td>10/11/2011</td>\n",
       "      <td>MANHATTAN</td>\n",
       "      <td>COMMUNITY ASSOCIATE</td>\n",
       "      <td>ON LEAVE</td>\n",
       "      <td>39966.0</td>\n",
       "      <td>per Annum</td>\n",
       "      <td>1181.68</td>\n",
       "      <td>27452.62</td>\n",
       "      <td>1.00</td>\n",
       "      <td>21.34</td>\n",
       "      <td>33.0</td>\n",
       "    </tr>\n",
       "    <tr>\n",
       "      <th>3</th>\n",
       "      <td>2016</td>\n",
       "      <td>NaN</td>\n",
       "      <td>DISTRICT ATTORNEY-MANHATTAN</td>\n",
       "      <td>ABRAHAM</td>\n",
       "      <td>JONATHAN</td>\n",
       "      <td>J</td>\n",
       "      <td>12/01/2014</td>\n",
       "      <td>MANHATTAN</td>\n",
       "      <td>COMPUTER SYSTEMS MANAGER</td>\n",
       "      <td>ACTIVE</td>\n",
       "      <td>116000.0</td>\n",
       "      <td>per Annum</td>\n",
       "      <td>1831.00</td>\n",
       "      <td>115104.57</td>\n",
       "      <td>0.00</td>\n",
       "      <td>0.00</td>\n",
       "      <td>0.0</td>\n",
       "    </tr>\n",
       "    <tr>\n",
       "      <th>4</th>\n",
       "      <td>2016</td>\n",
       "      <td>NaN</td>\n",
       "      <td>DISTRICT ATTORNEY-MANHATTAN</td>\n",
       "      <td>ABRAMS</td>\n",
       "      <td>JOSEPH</td>\n",
       "      <td>NaN</td>\n",
       "      <td>05/21/2015</td>\n",
       "      <td>MANHATTAN</td>\n",
       "      <td>COLLEGE AIDE</td>\n",
       "      <td>CEASED</td>\n",
       "      <td>1.0</td>\n",
       "      <td>per Hour</td>\n",
       "      <td>0.00</td>\n",
       "      <td>3500.00</td>\n",
       "      <td>0.00</td>\n",
       "      <td>0.00</td>\n",
       "      <td>0.0</td>\n",
       "    </tr>\n",
       "  </tbody>\n",
       "</table>\n",
       "</div>"
      ],
      "text/plain": [
       "   Fiscal Year  Payroll Number                  Agency Name  Last Name  \\\n",
       "0         2016             NaN  DISTRICT ATTORNEY-MANHATTAN  ABA'AHMID   \n",
       "1         2016             NaN  DISTRICT ATTORNEY-MANHATTAN    ABENSUR   \n",
       "2         2016             NaN  DISTRICT ATTORNEY-MANHATTAN  ABOUNAOUM   \n",
       "3         2016             NaN  DISTRICT ATTORNEY-MANHATTAN    ABRAHAM   \n",
       "4         2016             NaN  DISTRICT ATTORNEY-MANHATTAN     ABRAMS   \n",
       "\n",
       "  First Name Mid Init Agency Start Date Work Location Borough  \\\n",
       "0  RAHASHEEM        E        07/14/2003             MANHATTAN   \n",
       "1   MARGARET      NaN        06/12/1995             MANHATTAN   \n",
       "2     ANDREA        L        10/11/2011             MANHATTAN   \n",
       "3   JONATHAN        J        12/01/2014             MANHATTAN   \n",
       "4     JOSEPH      NaN        05/21/2015             MANHATTAN   \n",
       "\n",
       "           Title Description Leave Status as of June 30  Base Salary  \\\n",
       "0        COMMUNITY ASSOCIATE                     ACTIVE      47678.0   \n",
       "1  ADMINISTRATIVE ACCOUNTANT                     ACTIVE     119959.0   \n",
       "2        COMMUNITY ASSOCIATE                   ON LEAVE      39966.0   \n",
       "3   COMPUTER SYSTEMS MANAGER                     ACTIVE     116000.0   \n",
       "4               COLLEGE AIDE                     CEASED          1.0   \n",
       "\n",
       "   Pay Basis  Regular Hours  Regular Gross Paid  OT Hours  Total OT Paid  \\\n",
       "0  per Annum        1830.00            47166.03      2.25          57.28   \n",
       "1  per Annum        1831.00           119042.50      0.00           0.00   \n",
       "2  per Annum        1181.68            27452.62      1.00          21.34   \n",
       "3  per Annum        1831.00           115104.57      0.00           0.00   \n",
       "4   per Hour           0.00             3500.00      0.00           0.00   \n",
       "\n",
       "   Total Other Pay  \n",
       "0              0.0  \n",
       "1              0.0  \n",
       "2             33.0  \n",
       "3              0.0  \n",
       "4              0.0  "
      ]
     },
     "execution_count": 3,
     "metadata": {},
     "output_type": "execute_result"
    }
   ],
   "source": [
    "payroll.head()"
   ]
  },
  {
   "cell_type": "code",
   "execution_count": 4,
   "metadata": {},
   "outputs": [
    {
     "data": {
      "text/plain": [
       "(3333096, 17)"
      ]
     },
     "execution_count": 4,
     "metadata": {},
     "output_type": "execute_result"
    }
   ],
   "source": [
    "# number of instances in the original dataset which is pretty huge\n",
    "payroll.shape"
   ]
  },
  {
   "cell_type": "code",
   "execution_count": 5,
   "metadata": {},
   "outputs": [],
   "source": [
    "# sample the data to make it more manageable\n",
    "payroll_sample = payroll.sample(int(len(payroll) / 20))\n",
    "payroll_sample.reset_index(inplace = True)"
   ]
  },
  {
   "cell_type": "code",
   "execution_count": 6,
   "metadata": {},
   "outputs": [
    {
     "data": {
      "text/html": [
       "<div>\n",
       "<style scoped>\n",
       "    .dataframe tbody tr th:only-of-type {\n",
       "        vertical-align: middle;\n",
       "    }\n",
       "\n",
       "    .dataframe tbody tr th {\n",
       "        vertical-align: top;\n",
       "    }\n",
       "\n",
       "    .dataframe thead th {\n",
       "        text-align: right;\n",
       "    }\n",
       "</style>\n",
       "<table border=\"1\" class=\"dataframe\">\n",
       "  <thead>\n",
       "    <tr style=\"text-align: right;\">\n",
       "      <th></th>\n",
       "      <th>index</th>\n",
       "      <th>Fiscal Year</th>\n",
       "      <th>Payroll Number</th>\n",
       "      <th>Agency Name</th>\n",
       "      <th>Last Name</th>\n",
       "      <th>First Name</th>\n",
       "      <th>Mid Init</th>\n",
       "      <th>Agency Start Date</th>\n",
       "      <th>Work Location Borough</th>\n",
       "      <th>Title Description</th>\n",
       "      <th>Leave Status as of June 30</th>\n",
       "      <th>Base Salary</th>\n",
       "      <th>Pay Basis</th>\n",
       "      <th>Regular Hours</th>\n",
       "      <th>Regular Gross Paid</th>\n",
       "      <th>OT Hours</th>\n",
       "      <th>Total OT Paid</th>\n",
       "      <th>Total Other Pay</th>\n",
       "    </tr>\n",
       "  </thead>\n",
       "  <tbody>\n",
       "    <tr>\n",
       "      <th>0</th>\n",
       "      <td>1214156</td>\n",
       "      <td>2014</td>\n",
       "      <td>300.0</td>\n",
       "      <td>BOARD OF ELECTION POLL WORKERS</td>\n",
       "      <td>PARAGAS</td>\n",
       "      <td>EUGENIA</td>\n",
       "      <td>S</td>\n",
       "      <td>01/02/2012</td>\n",
       "      <td>NaN</td>\n",
       "      <td>ELECTION WORKER</td>\n",
       "      <td>ACTIVE</td>\n",
       "      <td>1.0</td>\n",
       "      <td>per Hour</td>\n",
       "      <td>0.00</td>\n",
       "      <td>783.00</td>\n",
       "      <td>0.00</td>\n",
       "      <td>0.00</td>\n",
       "      <td>0.00</td>\n",
       "    </tr>\n",
       "    <tr>\n",
       "      <th>1</th>\n",
       "      <td>2970416</td>\n",
       "      <td>2019</td>\n",
       "      <td>742.0</td>\n",
       "      <td>DEPT OF ED PEDAGOGICAL</td>\n",
       "      <td>CUNNINGHAM</td>\n",
       "      <td>CATHERINE</td>\n",
       "      <td>M</td>\n",
       "      <td>09/02/2014</td>\n",
       "      <td>MANHATTAN</td>\n",
       "      <td>TEACHER SPECIAL EDUCATION</td>\n",
       "      <td>ACTIVE</td>\n",
       "      <td>68270.0</td>\n",
       "      <td>per Annum</td>\n",
       "      <td>0.00</td>\n",
       "      <td>69743.19</td>\n",
       "      <td>0.00</td>\n",
       "      <td>0.00</td>\n",
       "      <td>0.00</td>\n",
       "    </tr>\n",
       "    <tr>\n",
       "      <th>2</th>\n",
       "      <td>6642</td>\n",
       "      <td>2016</td>\n",
       "      <td>NaN</td>\n",
       "      <td>POLICE DEPARTMENT</td>\n",
       "      <td>AMBROSIO</td>\n",
       "      <td>CARMINE</td>\n",
       "      <td>NaN</td>\n",
       "      <td>04/02/1995</td>\n",
       "      <td>QUEENS</td>\n",
       "      <td>POLICE OFFICER</td>\n",
       "      <td>ACTIVE</td>\n",
       "      <td>78026.0</td>\n",
       "      <td>per Annum</td>\n",
       "      <td>2091.42</td>\n",
       "      <td>84324.25</td>\n",
       "      <td>230.63</td>\n",
       "      <td>15269.40</td>\n",
       "      <td>15484.52</td>\n",
       "    </tr>\n",
       "    <tr>\n",
       "      <th>3</th>\n",
       "      <td>2257346</td>\n",
       "      <td>2018</td>\n",
       "      <td>72.0</td>\n",
       "      <td>DEPARTMENT OF CORRECTION</td>\n",
       "      <td>PHILLIPS</td>\n",
       "      <td>THOMAS</td>\n",
       "      <td>NaN</td>\n",
       "      <td>11/09/2006</td>\n",
       "      <td>QUEENS</td>\n",
       "      <td>CORRECTION OFFICER</td>\n",
       "      <td>ACTIVE</td>\n",
       "      <td>85292.0</td>\n",
       "      <td>per Annum</td>\n",
       "      <td>2045.72</td>\n",
       "      <td>83363.77</td>\n",
       "      <td>6.00</td>\n",
       "      <td>380.06</td>\n",
       "      <td>12553.19</td>\n",
       "    </tr>\n",
       "    <tr>\n",
       "      <th>4</th>\n",
       "      <td>2372744</td>\n",
       "      <td>2018</td>\n",
       "      <td>742.0</td>\n",
       "      <td>DEPT OF ED PEDAGOGICAL</td>\n",
       "      <td>BRIDWELL</td>\n",
       "      <td>KELLY</td>\n",
       "      <td>NaN</td>\n",
       "      <td>09/03/2002</td>\n",
       "      <td>MANHATTAN</td>\n",
       "      <td>TEACHER</td>\n",
       "      <td>ACTIVE</td>\n",
       "      <td>98487.0</td>\n",
       "      <td>per Annum</td>\n",
       "      <td>0.00</td>\n",
       "      <td>93405.15</td>\n",
       "      <td>0.00</td>\n",
       "      <td>0.00</td>\n",
       "      <td>0.00</td>\n",
       "    </tr>\n",
       "  </tbody>\n",
       "</table>\n",
       "</div>"
      ],
      "text/plain": [
       "     index  Fiscal Year  Payroll Number                     Agency Name  \\\n",
       "0  1214156         2014           300.0  BOARD OF ELECTION POLL WORKERS   \n",
       "1  2970416         2019           742.0          DEPT OF ED PEDAGOGICAL   \n",
       "2     6642         2016             NaN               POLICE DEPARTMENT   \n",
       "3  2257346         2018            72.0        DEPARTMENT OF CORRECTION   \n",
       "4  2372744         2018           742.0          DEPT OF ED PEDAGOGICAL   \n",
       "\n",
       "    Last Name First Name Mid Init Agency Start Date Work Location Borough  \\\n",
       "0     PARAGAS    EUGENIA        S        01/02/2012                   NaN   \n",
       "1  CUNNINGHAM  CATHERINE        M        09/02/2014             MANHATTAN   \n",
       "2    AMBROSIO    CARMINE      NaN        04/02/1995                QUEENS   \n",
       "3    PHILLIPS     THOMAS      NaN        11/09/2006                QUEENS   \n",
       "4    BRIDWELL      KELLY      NaN        09/03/2002             MANHATTAN   \n",
       "\n",
       "           Title Description Leave Status as of June 30  Base Salary  \\\n",
       "0            ELECTION WORKER                     ACTIVE          1.0   \n",
       "1  TEACHER SPECIAL EDUCATION                     ACTIVE      68270.0   \n",
       "2             POLICE OFFICER                     ACTIVE      78026.0   \n",
       "3         CORRECTION OFFICER                     ACTIVE      85292.0   \n",
       "4                    TEACHER                     ACTIVE      98487.0   \n",
       "\n",
       "   Pay Basis  Regular Hours  Regular Gross Paid  OT Hours  Total OT Paid  \\\n",
       "0   per Hour           0.00              783.00      0.00           0.00   \n",
       "1  per Annum           0.00            69743.19      0.00           0.00   \n",
       "2  per Annum        2091.42            84324.25    230.63       15269.40   \n",
       "3  per Annum        2045.72            83363.77      6.00         380.06   \n",
       "4  per Annum           0.00            93405.15      0.00           0.00   \n",
       "\n",
       "   Total Other Pay  \n",
       "0             0.00  \n",
       "1             0.00  \n",
       "2         15484.52  \n",
       "3         12553.19  \n",
       "4             0.00  "
      ]
     },
     "execution_count": 6,
     "metadata": {},
     "output_type": "execute_result"
    }
   ],
   "source": [
    "payroll_sample.head()"
   ]
  },
  {
   "cell_type": "code",
   "execution_count": 7,
   "metadata": {},
   "outputs": [
    {
     "name": "stdout",
     "output_type": "stream",
     "text": [
      "Original Dataset Observation Count: 3333096\n",
      "Sampled Dataset Observation Count: 166654\n"
     ]
    }
   ],
   "source": [
    "print(\"Original Dataset Observation Count: \" + str(len(payroll)))\n",
    "print(\"Sampled Dataset Observation Count: \" + str(len(payroll_sample)))"
   ]
  },
  {
   "cell_type": "code",
   "execution_count": 8,
   "metadata": {},
   "outputs": [],
   "source": [
    "# save sampled dataset\n",
    "payroll_sample.to_csv(\"../nyc_payroll/Input/city_payroll_sample.csv\")"
   ]
  },
  {
   "cell_type": "code",
   "execution_count": 9,
   "metadata": {},
   "outputs": [
    {
     "data": {
      "text/plain": [
       "18"
      ]
     },
     "execution_count": 9,
     "metadata": {},
     "output_type": "execute_result"
    }
   ],
   "source": [
    "# number of features\n",
    "payroll_sample.shape[1]"
   ]
  },
  {
   "cell_type": "code",
   "execution_count": 10,
   "metadata": {},
   "outputs": [
    {
     "data": {
      "text/html": [
       "<div>\n",
       "<style scoped>\n",
       "    .dataframe tbody tr th:only-of-type {\n",
       "        vertical-align: middle;\n",
       "    }\n",
       "\n",
       "    .dataframe tbody tr th {\n",
       "        vertical-align: top;\n",
       "    }\n",
       "\n",
       "    .dataframe thead th {\n",
       "        text-align: right;\n",
       "    }\n",
       "</style>\n",
       "<table border=\"1\" class=\"dataframe\">\n",
       "  <thead>\n",
       "    <tr style=\"text-align: right;\">\n",
       "      <th></th>\n",
       "      <th>index</th>\n",
       "      <th>Fiscal Year</th>\n",
       "      <th>Payroll Number</th>\n",
       "      <th>Agency Name</th>\n",
       "      <th>Last Name</th>\n",
       "      <th>First Name</th>\n",
       "      <th>Mid Init</th>\n",
       "      <th>Agency Start Date</th>\n",
       "      <th>Work Location Borough</th>\n",
       "      <th>Title Description</th>\n",
       "      <th>Leave Status as of June 30</th>\n",
       "      <th>Base Salary</th>\n",
       "      <th>Pay Basis</th>\n",
       "      <th>Regular Hours</th>\n",
       "      <th>Regular Gross Paid</th>\n",
       "      <th>OT Hours</th>\n",
       "      <th>Total OT Paid</th>\n",
       "      <th>Total Other Pay</th>\n",
       "    </tr>\n",
       "  </thead>\n",
       "  <tbody>\n",
       "    <tr>\n",
       "      <th>0</th>\n",
       "      <td>1214156</td>\n",
       "      <td>2014</td>\n",
       "      <td>300.0</td>\n",
       "      <td>BOARD OF ELECTION POLL WORKERS</td>\n",
       "      <td>PARAGAS</td>\n",
       "      <td>EUGENIA</td>\n",
       "      <td>S</td>\n",
       "      <td>01/02/2012</td>\n",
       "      <td>NaN</td>\n",
       "      <td>ELECTION WORKER</td>\n",
       "      <td>ACTIVE</td>\n",
       "      <td>1.0</td>\n",
       "      <td>per Hour</td>\n",
       "      <td>0.00</td>\n",
       "      <td>783.00</td>\n",
       "      <td>0.00</td>\n",
       "      <td>0.00</td>\n",
       "      <td>0.00</td>\n",
       "    </tr>\n",
       "    <tr>\n",
       "      <th>1</th>\n",
       "      <td>2970416</td>\n",
       "      <td>2019</td>\n",
       "      <td>742.0</td>\n",
       "      <td>DEPT OF ED PEDAGOGICAL</td>\n",
       "      <td>CUNNINGHAM</td>\n",
       "      <td>CATHERINE</td>\n",
       "      <td>M</td>\n",
       "      <td>09/02/2014</td>\n",
       "      <td>MANHATTAN</td>\n",
       "      <td>TEACHER SPECIAL EDUCATION</td>\n",
       "      <td>ACTIVE</td>\n",
       "      <td>68270.0</td>\n",
       "      <td>per Annum</td>\n",
       "      <td>0.00</td>\n",
       "      <td>69743.19</td>\n",
       "      <td>0.00</td>\n",
       "      <td>0.00</td>\n",
       "      <td>0.00</td>\n",
       "    </tr>\n",
       "    <tr>\n",
       "      <th>2</th>\n",
       "      <td>6642</td>\n",
       "      <td>2016</td>\n",
       "      <td>NaN</td>\n",
       "      <td>POLICE DEPARTMENT</td>\n",
       "      <td>AMBROSIO</td>\n",
       "      <td>CARMINE</td>\n",
       "      <td>NaN</td>\n",
       "      <td>04/02/1995</td>\n",
       "      <td>QUEENS</td>\n",
       "      <td>POLICE OFFICER</td>\n",
       "      <td>ACTIVE</td>\n",
       "      <td>78026.0</td>\n",
       "      <td>per Annum</td>\n",
       "      <td>2091.42</td>\n",
       "      <td>84324.25</td>\n",
       "      <td>230.63</td>\n",
       "      <td>15269.40</td>\n",
       "      <td>15484.52</td>\n",
       "    </tr>\n",
       "    <tr>\n",
       "      <th>3</th>\n",
       "      <td>2257346</td>\n",
       "      <td>2018</td>\n",
       "      <td>72.0</td>\n",
       "      <td>DEPARTMENT OF CORRECTION</td>\n",
       "      <td>PHILLIPS</td>\n",
       "      <td>THOMAS</td>\n",
       "      <td>NaN</td>\n",
       "      <td>11/09/2006</td>\n",
       "      <td>QUEENS</td>\n",
       "      <td>CORRECTION OFFICER</td>\n",
       "      <td>ACTIVE</td>\n",
       "      <td>85292.0</td>\n",
       "      <td>per Annum</td>\n",
       "      <td>2045.72</td>\n",
       "      <td>83363.77</td>\n",
       "      <td>6.00</td>\n",
       "      <td>380.06</td>\n",
       "      <td>12553.19</td>\n",
       "    </tr>\n",
       "    <tr>\n",
       "      <th>4</th>\n",
       "      <td>2372744</td>\n",
       "      <td>2018</td>\n",
       "      <td>742.0</td>\n",
       "      <td>DEPT OF ED PEDAGOGICAL</td>\n",
       "      <td>BRIDWELL</td>\n",
       "      <td>KELLY</td>\n",
       "      <td>NaN</td>\n",
       "      <td>09/03/2002</td>\n",
       "      <td>MANHATTAN</td>\n",
       "      <td>TEACHER</td>\n",
       "      <td>ACTIVE</td>\n",
       "      <td>98487.0</td>\n",
       "      <td>per Annum</td>\n",
       "      <td>0.00</td>\n",
       "      <td>93405.15</td>\n",
       "      <td>0.00</td>\n",
       "      <td>0.00</td>\n",
       "      <td>0.00</td>\n",
       "    </tr>\n",
       "  </tbody>\n",
       "</table>\n",
       "</div>"
      ],
      "text/plain": [
       "     index  Fiscal Year  Payroll Number                     Agency Name  \\\n",
       "0  1214156         2014           300.0  BOARD OF ELECTION POLL WORKERS   \n",
       "1  2970416         2019           742.0          DEPT OF ED PEDAGOGICAL   \n",
       "2     6642         2016             NaN               POLICE DEPARTMENT   \n",
       "3  2257346         2018            72.0        DEPARTMENT OF CORRECTION   \n",
       "4  2372744         2018           742.0          DEPT OF ED PEDAGOGICAL   \n",
       "\n",
       "    Last Name First Name Mid Init Agency Start Date Work Location Borough  \\\n",
       "0     PARAGAS    EUGENIA        S        01/02/2012                   NaN   \n",
       "1  CUNNINGHAM  CATHERINE        M        09/02/2014             MANHATTAN   \n",
       "2    AMBROSIO    CARMINE      NaN        04/02/1995                QUEENS   \n",
       "3    PHILLIPS     THOMAS      NaN        11/09/2006                QUEENS   \n",
       "4    BRIDWELL      KELLY      NaN        09/03/2002             MANHATTAN   \n",
       "\n",
       "           Title Description Leave Status as of June 30  Base Salary  \\\n",
       "0            ELECTION WORKER                     ACTIVE          1.0   \n",
       "1  TEACHER SPECIAL EDUCATION                     ACTIVE      68270.0   \n",
       "2             POLICE OFFICER                     ACTIVE      78026.0   \n",
       "3         CORRECTION OFFICER                     ACTIVE      85292.0   \n",
       "4                    TEACHER                     ACTIVE      98487.0   \n",
       "\n",
       "   Pay Basis  Regular Hours  Regular Gross Paid  OT Hours  Total OT Paid  \\\n",
       "0   per Hour           0.00              783.00      0.00           0.00   \n",
       "1  per Annum           0.00            69743.19      0.00           0.00   \n",
       "2  per Annum        2091.42            84324.25    230.63       15269.40   \n",
       "3  per Annum        2045.72            83363.77      6.00         380.06   \n",
       "4  per Annum           0.00            93405.15      0.00           0.00   \n",
       "\n",
       "   Total Other Pay  \n",
       "0             0.00  \n",
       "1             0.00  \n",
       "2         15484.52  \n",
       "3         12553.19  \n",
       "4             0.00  "
      ]
     },
     "execution_count": 10,
     "metadata": {},
     "output_type": "execute_result"
    }
   ],
   "source": [
    "payroll_sample.head()"
   ]
  },
  {
   "cell_type": "code",
   "execution_count": 11,
   "metadata": {},
   "outputs": [
    {
     "name": "stdout",
     "output_type": "stream",
     "text": [
      "Feature Names: \n",
      "\n",
      "index\n",
      "Fiscal Year\n",
      "Payroll Number\n",
      "Agency Name\n",
      "Last Name\n",
      "First Name\n",
      "Mid Init\n",
      "Agency Start Date\n",
      "Work Location Borough\n",
      "Title Description\n",
      "Leave Status as of June 30\n",
      "Base Salary\n",
      "Pay Basis\n",
      "Regular Hours\n",
      "Regular Gross Paid\n",
      "OT Hours\n",
      "Total OT Paid\n",
      "Total Other Pay\n"
     ]
    }
   ],
   "source": [
    "# printing feature names\n",
    "print(\"Feature Names: \\n\\n\" + \"\\n\".join(payroll_sample.columns))"
   ]
  },
  {
   "cell_type": "code",
   "execution_count": 12,
   "metadata": {},
   "outputs": [
    {
     "name": "stdout",
     "output_type": "stream",
     "text": [
      "<class 'pandas.core.frame.DataFrame'>\n",
      "RangeIndex: 166654 entries, 0 to 166653\n",
      "Data columns (total 18 columns):\n",
      "index                         166654 non-null int64\n",
      "Fiscal Year                   166654 non-null int64\n",
      "Payroll Number                79390 non-null float64\n",
      "Agency Name                   166654 non-null object\n",
      "Last Name                     166575 non-null object\n",
      "First Name                    166574 non-null object\n",
      "Mid Init                      99133 non-null object\n",
      "Agency Start Date             166654 non-null object\n",
      "Work Location Borough         141248 non-null object\n",
      "Title Description             166650 non-null object\n",
      "Leave Status as of June 30    166654 non-null object\n",
      "Base Salary                   166654 non-null float64\n",
      "Pay Basis                     166654 non-null object\n",
      "Regular Hours                 166654 non-null float64\n",
      "Regular Gross Paid            166654 non-null float64\n",
      "OT Hours                      166654 non-null float64\n",
      "Total OT Paid                 166654 non-null float64\n",
      "Total Other Pay               166654 non-null float64\n",
      "dtypes: float64(7), int64(2), object(9)\n",
      "memory usage: 22.9+ MB\n",
      "Datatypes: \n",
      "\n",
      " None\n"
     ]
    }
   ],
   "source": [
    "# data types\n",
    "print(\"Datatypes: \\n\\n\", payroll_sample.info())"
   ]
  },
  {
   "cell_type": "code",
   "execution_count": 13,
   "metadata": {},
   "outputs": [
    {
     "name": "stdout",
     "output_type": "stream",
     "text": [
      " index                                  int64\n",
      "Fiscal Year                            int64\n",
      "Payroll Number                       float64\n",
      "Agency Name                           object\n",
      "Last Name                             object\n",
      "First Name                            object\n",
      "Mid Init                              object\n",
      "Agency Start Date             datetime64[ns]\n",
      "Work Location Borough                 object\n",
      "Title Description                     object\n",
      "Leave Status as of June 30            object\n",
      "Base Salary                          float64\n",
      "Pay Basis                             object\n",
      "Regular Hours                        float64\n",
      "Regular Gross Paid                   float64\n",
      "OT Hours                             float64\n",
      "Total OT Paid                        float64\n",
      "Total Other Pay                      float64\n",
      "dtype: object\n"
     ]
    }
   ],
   "source": [
    "# converting Fiscal Year and Agency Start Date to Datetime64\n",
    "payroll_sample[\"Agency Start Date\"] = pd.to_datetime(payroll_sample[\"Agency Start Date\"], errors = \"coerce\")\n",
    "payroll_sample[\"Agency Name\"] = payroll_sample[\"Agency Name\"].astype(str)\n",
    "\n",
    "print(\"\", payroll_sample.dtypes)"
   ]
  },
  {
   "cell_type": "code",
   "execution_count": 14,
   "metadata": {},
   "outputs": [
    {
     "data": {
      "text/plain": [
       "True"
      ]
     },
     "execution_count": 14,
     "metadata": {},
     "output_type": "execute_result"
    }
   ],
   "source": [
    "# any missing values?\n",
    "payroll_sample.isnull().values.any()"
   ]
  },
  {
   "cell_type": "code",
   "execution_count": 15,
   "metadata": {},
   "outputs": [
    {
     "data": {
      "text/plain": [
       "180375"
      ]
     },
     "execution_count": 15,
     "metadata": {},
     "output_type": "execute_result"
    }
   ],
   "source": [
    "# total number of missing values\n",
    "payroll_sample.isnull().sum().sum()"
   ]
  },
  {
   "cell_type": "code",
   "execution_count": 16,
   "metadata": {},
   "outputs": [
    {
     "data": {
      "text/plain": [
       "index                             0\n",
       "Fiscal Year                       0\n",
       "Payroll Number                87264\n",
       "Agency Name                       0\n",
       "Last Name                        79\n",
       "First Name                       80\n",
       "Mid Init                      67521\n",
       "Agency Start Date                21\n",
       "Work Location Borough         25406\n",
       "Title Description                 4\n",
       "Leave Status as of June 30        0\n",
       "Base Salary                       0\n",
       "Pay Basis                         0\n",
       "Regular Hours                     0\n",
       "Regular Gross Paid                0\n",
       "OT Hours                          0\n",
       "Total OT Paid                     0\n",
       "Total Other Pay                   0\n",
       "dtype: int64"
      ]
     },
     "execution_count": 16,
     "metadata": {},
     "output_type": "execute_result"
    }
   ],
   "source": [
    "# how many missing values per feature?\n",
    "payroll_sample.isnull().sum()"
   ]
  },
  {
   "cell_type": "code",
   "execution_count": 17,
   "metadata": {},
   "outputs": [
    {
     "data": {
      "text/html": [
       "<div>\n",
       "<style scoped>\n",
       "    .dataframe tbody tr th:only-of-type {\n",
       "        vertical-align: middle;\n",
       "    }\n",
       "\n",
       "    .dataframe tbody tr th {\n",
       "        vertical-align: top;\n",
       "    }\n",
       "\n",
       "    .dataframe thead th {\n",
       "        text-align: right;\n",
       "    }\n",
       "</style>\n",
       "<table border=\"1\" class=\"dataframe\">\n",
       "  <thead>\n",
       "    <tr style=\"text-align: right;\">\n",
       "      <th></th>\n",
       "      <th>Values</th>\n",
       "      <th>Percent</th>\n",
       "    </tr>\n",
       "  </thead>\n",
       "  <tbody>\n",
       "    <tr>\n",
       "      <th>Payroll Number</th>\n",
       "      <td>87264</td>\n",
       "      <td>52.362380</td>\n",
       "    </tr>\n",
       "    <tr>\n",
       "      <th>Mid Init</th>\n",
       "      <td>67521</td>\n",
       "      <td>40.515679</td>\n",
       "    </tr>\n",
       "    <tr>\n",
       "      <th>Work Location Borough</th>\n",
       "      <td>25406</td>\n",
       "      <td>15.244759</td>\n",
       "    </tr>\n",
       "    <tr>\n",
       "      <th>First Name</th>\n",
       "      <td>80</td>\n",
       "      <td>0.048004</td>\n",
       "    </tr>\n",
       "    <tr>\n",
       "      <th>Last Name</th>\n",
       "      <td>79</td>\n",
       "      <td>0.047404</td>\n",
       "    </tr>\n",
       "    <tr>\n",
       "      <th>Agency Start Date</th>\n",
       "      <td>21</td>\n",
       "      <td>0.012601</td>\n",
       "    </tr>\n",
       "    <tr>\n",
       "      <th>Title Description</th>\n",
       "      <td>4</td>\n",
       "      <td>0.002400</td>\n",
       "    </tr>\n",
       "    <tr>\n",
       "      <th>Fiscal Year</th>\n",
       "      <td>0</td>\n",
       "      <td>0.000000</td>\n",
       "    </tr>\n",
       "    <tr>\n",
       "      <th>Agency Name</th>\n",
       "      <td>0</td>\n",
       "      <td>0.000000</td>\n",
       "    </tr>\n",
       "    <tr>\n",
       "      <th>Total Other Pay</th>\n",
       "      <td>0</td>\n",
       "      <td>0.000000</td>\n",
       "    </tr>\n",
       "    <tr>\n",
       "      <th>Total OT Paid</th>\n",
       "      <td>0</td>\n",
       "      <td>0.000000</td>\n",
       "    </tr>\n",
       "    <tr>\n",
       "      <th>Leave Status as of June 30</th>\n",
       "      <td>0</td>\n",
       "      <td>0.000000</td>\n",
       "    </tr>\n",
       "    <tr>\n",
       "      <th>Base Salary</th>\n",
       "      <td>0</td>\n",
       "      <td>0.000000</td>\n",
       "    </tr>\n",
       "    <tr>\n",
       "      <th>Pay Basis</th>\n",
       "      <td>0</td>\n",
       "      <td>0.000000</td>\n",
       "    </tr>\n",
       "    <tr>\n",
       "      <th>Regular Hours</th>\n",
       "      <td>0</td>\n",
       "      <td>0.000000</td>\n",
       "    </tr>\n",
       "    <tr>\n",
       "      <th>Regular Gross Paid</th>\n",
       "      <td>0</td>\n",
       "      <td>0.000000</td>\n",
       "    </tr>\n",
       "    <tr>\n",
       "      <th>OT Hours</th>\n",
       "      <td>0</td>\n",
       "      <td>0.000000</td>\n",
       "    </tr>\n",
       "    <tr>\n",
       "      <th>index</th>\n",
       "      <td>0</td>\n",
       "      <td>0.000000</td>\n",
       "    </tr>\n",
       "  </tbody>\n",
       "</table>\n",
       "</div>"
      ],
      "text/plain": [
       "                            Values    Percent\n",
       "Payroll Number               87264  52.362380\n",
       "Mid Init                     67521  40.515679\n",
       "Work Location Borough        25406  15.244759\n",
       "First Name                      80   0.048004\n",
       "Last Name                       79   0.047404\n",
       "Agency Start Date               21   0.012601\n",
       "Title Description                4   0.002400\n",
       "Fiscal Year                      0   0.000000\n",
       "Agency Name                      0   0.000000\n",
       "Total Other Pay                  0   0.000000\n",
       "Total OT Paid                    0   0.000000\n",
       "Leave Status as of June 30       0   0.000000\n",
       "Base Salary                      0   0.000000\n",
       "Pay Basis                        0   0.000000\n",
       "Regular Hours                    0   0.000000\n",
       "Regular Gross Paid               0   0.000000\n",
       "OT Hours                         0   0.000000\n",
       "index                            0   0.000000"
      ]
     },
     "execution_count": 17,
     "metadata": {},
     "output_type": "execute_result"
    }
   ],
   "source": [
    "# percentage of missing values for each feature\n",
    "\n",
    "values = payroll_sample.isnull().sum().sort_values(ascending=False)\n",
    "percent = payroll_sample.isnull().mean().sort_values(ascending=False)\n",
    "percent *= 100\n",
    "missing_data = pd.concat([values, percent], axis=1, keys=['Values', 'Percent'])\n",
    "missing_data.head(20)"
   ]
  },
  {
   "cell_type": "markdown",
   "metadata": {},
   "source": [
    "### Since Work Location Borough is important we'll keep it and take care of 1 observation in title description variable and keep the variable"
   ]
  },
  {
   "cell_type": "code",
   "execution_count": 18,
   "metadata": {},
   "outputs": [
    {
     "data": {
      "text/plain": [
       "25405"
      ]
     },
     "execution_count": 18,
     "metadata": {},
     "output_type": "execute_result"
    }
   ],
   "source": [
    "# dealing or removing missing data with greater than 20 percent data missing\n",
    "payroll_sample = payroll_sample.drop((missing_data[missing_data['Percent'] > 20]).index,1)\n",
    "payroll_sample = payroll_sample.drop(payroll_sample.loc[payroll_sample['Title Description'].isnull()].index)\n",
    "payroll_sample.isnull().sum().max()"
   ]
  },
  {
   "cell_type": "markdown",
   "metadata": {},
   "source": [
    "### Since First and Last names are not as important for our project we'll just drop them"
   ]
  },
  {
   "cell_type": "code",
   "execution_count": 19,
   "metadata": {},
   "outputs": [],
   "source": [
    "payroll_sample = payroll_sample.drop([\"First Name\", \"Last Name\"], axis=1)"
   ]
  },
  {
   "cell_type": "code",
   "execution_count": 20,
   "metadata": {},
   "outputs": [
    {
     "data": {
      "text/html": [
       "<div>\n",
       "<style scoped>\n",
       "    .dataframe tbody tr th:only-of-type {\n",
       "        vertical-align: middle;\n",
       "    }\n",
       "\n",
       "    .dataframe tbody tr th {\n",
       "        vertical-align: top;\n",
       "    }\n",
       "\n",
       "    .dataframe thead th {\n",
       "        text-align: right;\n",
       "    }\n",
       "</style>\n",
       "<table border=\"1\" class=\"dataframe\">\n",
       "  <thead>\n",
       "    <tr style=\"text-align: right;\">\n",
       "      <th></th>\n",
       "      <th>Values</th>\n",
       "      <th>Percent</th>\n",
       "    </tr>\n",
       "  </thead>\n",
       "  <tbody>\n",
       "    <tr>\n",
       "      <th>Work Location Borough</th>\n",
       "      <td>25405</td>\n",
       "      <td>15.244524</td>\n",
       "    </tr>\n",
       "    <tr>\n",
       "      <th>Agency Start Date</th>\n",
       "      <td>21</td>\n",
       "      <td>0.012601</td>\n",
       "    </tr>\n",
       "    <tr>\n",
       "      <th>Total Other Pay</th>\n",
       "      <td>0</td>\n",
       "      <td>0.000000</td>\n",
       "    </tr>\n",
       "    <tr>\n",
       "      <th>Total OT Paid</th>\n",
       "      <td>0</td>\n",
       "      <td>0.000000</td>\n",
       "    </tr>\n",
       "    <tr>\n",
       "      <th>OT Hours</th>\n",
       "      <td>0</td>\n",
       "      <td>0.000000</td>\n",
       "    </tr>\n",
       "  </tbody>\n",
       "</table>\n",
       "</div>"
      ],
      "text/plain": [
       "                       Values    Percent\n",
       "Work Location Borough   25405  15.244524\n",
       "Agency Start Date          21   0.012601\n",
       "Total Other Pay             0   0.000000\n",
       "Total OT Paid               0   0.000000\n",
       "OT Hours                    0   0.000000"
      ]
     },
     "execution_count": 20,
     "metadata": {},
     "output_type": "execute_result"
    }
   ],
   "source": [
    "values = payroll_sample.isnull().sum().sort_values(ascending=False)\n",
    "percent = payroll_sample.isnull().mean().sort_values(ascending=False)\n",
    "percent *= 100\n",
    "missing_data = pd.concat([values, percent], axis=1, keys=['Values', 'Percent'])\n",
    "missing_data.head()"
   ]
  },
  {
   "cell_type": "code",
   "execution_count": 21,
   "metadata": {},
   "outputs": [
    {
     "data": {
      "text/plain": [
       "True"
      ]
     },
     "execution_count": 21,
     "metadata": {},
     "output_type": "execute_result"
    }
   ],
   "source": [
    "# any missing values?\n",
    "payroll_sample.isnull().values.any()"
   ]
  },
  {
   "cell_type": "code",
   "execution_count": 22,
   "metadata": {},
   "outputs": [
    {
     "data": {
      "text/plain": [
       "<matplotlib.axes._subplots.AxesSubplot at 0x29e12423320>"
      ]
     },
     "execution_count": 22,
     "metadata": {},
     "output_type": "execute_result"
    },
    {
     "data": {
      "image/png": "[encoded data removed]",
      "text/plain": [
       "<Figure size 576x432 with 2 Axes>"
      ]
     },
     "metadata": {
      "needs_background": "light"
     },
     "output_type": "display_data"
    }
   ],
   "source": [
    "# correlation\n",
    "\n",
    "corrmap = payroll_sample.corr()\n",
    "f, ax = plt.subplots(figsize=(8, 6))\n",
    "sns.heatmap(corrmap, vmax=1, square=True)"
   ]
  },
  {
   "cell_type": "code",
   "execution_count": 23,
   "metadata": {},
   "outputs": [
    {
     "data": {
      "text/html": [
       "<div>\n",
       "<style scoped>\n",
       "    .dataframe tbody tr th:only-of-type {\n",
       "        vertical-align: middle;\n",
       "    }\n",
       "\n",
       "    .dataframe tbody tr th {\n",
       "        vertical-align: top;\n",
       "    }\n",
       "\n",
       "    .dataframe thead th {\n",
       "        text-align: right;\n",
       "    }\n",
       "</style>\n",
       "<table border=\"1\" class=\"dataframe\">\n",
       "  <thead>\n",
       "    <tr style=\"text-align: right;\">\n",
       "      <th></th>\n",
       "      <th>index</th>\n",
       "      <th>Fiscal Year</th>\n",
       "      <th>Base Salary</th>\n",
       "      <th>Regular Hours</th>\n",
       "      <th>Regular Gross Paid</th>\n",
       "      <th>OT Hours</th>\n",
       "      <th>Total OT Paid</th>\n",
       "      <th>Total Other Pay</th>\n",
       "    </tr>\n",
       "  </thead>\n",
       "  <tbody>\n",
       "    <tr>\n",
       "      <th>index</th>\n",
       "      <td>1.000000</td>\n",
       "      <td>0.772460</td>\n",
       "      <td>0.021353</td>\n",
       "      <td>0.014990</td>\n",
       "      <td>0.043156</td>\n",
       "      <td>-0.002475</td>\n",
       "      <td>0.008013</td>\n",
       "      <td>0.010646</td>\n",
       "    </tr>\n",
       "    <tr>\n",
       "      <th>Fiscal Year</th>\n",
       "      <td>0.772460</td>\n",
       "      <td>1.000000</td>\n",
       "      <td>0.049551</td>\n",
       "      <td>-0.005569</td>\n",
       "      <td>0.057768</td>\n",
       "      <td>-0.003831</td>\n",
       "      <td>0.011703</td>\n",
       "      <td>-0.008497</td>\n",
       "    </tr>\n",
       "    <tr>\n",
       "      <th>Base Salary</th>\n",
       "      <td>0.021353</td>\n",
       "      <td>0.049551</td>\n",
       "      <td>1.000000</td>\n",
       "      <td>0.352673</td>\n",
       "      <td>0.842784</td>\n",
       "      <td>0.197483</td>\n",
       "      <td>0.238664</td>\n",
       "      <td>0.307782</td>\n",
       "    </tr>\n",
       "    <tr>\n",
       "      <th>Regular Hours</th>\n",
       "      <td>0.014990</td>\n",
       "      <td>-0.005569</td>\n",
       "      <td>0.352673</td>\n",
       "      <td>1.000000</td>\n",
       "      <td>0.452894</td>\n",
       "      <td>0.596949</td>\n",
       "      <td>0.549864</td>\n",
       "      <td>0.578506</td>\n",
       "    </tr>\n",
       "    <tr>\n",
       "      <th>Regular Gross Paid</th>\n",
       "      <td>0.043156</td>\n",
       "      <td>0.057768</td>\n",
       "      <td>0.842784</td>\n",
       "      <td>0.452894</td>\n",
       "      <td>1.000000</td>\n",
       "      <td>0.281948</td>\n",
       "      <td>0.345676</td>\n",
       "      <td>0.382220</td>\n",
       "    </tr>\n",
       "    <tr>\n",
       "      <th>OT Hours</th>\n",
       "      <td>-0.002475</td>\n",
       "      <td>-0.003831</td>\n",
       "      <td>0.197483</td>\n",
       "      <td>0.596949</td>\n",
       "      <td>0.281948</td>\n",
       "      <td>1.000000</td>\n",
       "      <td>0.923433</td>\n",
       "      <td>0.527501</td>\n",
       "    </tr>\n",
       "    <tr>\n",
       "      <th>Total OT Paid</th>\n",
       "      <td>0.008013</td>\n",
       "      <td>0.011703</td>\n",
       "      <td>0.238664</td>\n",
       "      <td>0.549864</td>\n",
       "      <td>0.345676</td>\n",
       "      <td>0.923433</td>\n",
       "      <td>1.000000</td>\n",
       "      <td>0.610050</td>\n",
       "    </tr>\n",
       "    <tr>\n",
       "      <th>Total Other Pay</th>\n",
       "      <td>0.010646</td>\n",
       "      <td>-0.008497</td>\n",
       "      <td>0.307782</td>\n",
       "      <td>0.578506</td>\n",
       "      <td>0.382220</td>\n",
       "      <td>0.527501</td>\n",
       "      <td>0.610050</td>\n",
       "      <td>1.000000</td>\n",
       "    </tr>\n",
       "  </tbody>\n",
       "</table>\n",
       "</div>"
      ],
      "text/plain": [
       "                       index  Fiscal Year  Base Salary  Regular Hours  \\\n",
       "index               1.000000     0.772460     0.021353       0.014990   \n",
       "Fiscal Year         0.772460     1.000000     0.049551      -0.005569   \n",
       "Base Salary         0.021353     0.049551     1.000000       0.352673   \n",
       "Regular Hours       0.014990    -0.005569     0.352673       1.000000   \n",
       "Regular Gross Paid  0.043156     0.057768     0.842784       0.452894   \n",
       "OT Hours           -0.002475    -0.003831     0.197483       0.596949   \n",
       "Total OT Paid       0.008013     0.011703     0.238664       0.549864   \n",
       "Total Other Pay     0.010646    -0.008497     0.307782       0.578506   \n",
       "\n",
       "                    Regular Gross Paid  OT Hours  Total OT Paid  \\\n",
       "index                         0.043156 -0.002475       0.008013   \n",
       "Fiscal Year                   0.057768 -0.003831       0.011703   \n",
       "Base Salary                   0.842784  0.197483       0.238664   \n",
       "Regular Hours                 0.452894  0.596949       0.549864   \n",
       "Regular Gross Paid            1.000000  0.281948       0.345676   \n",
       "OT Hours                      0.281948  1.000000       0.923433   \n",
       "Total OT Paid                 0.345676  0.923433       1.000000   \n",
       "Total Other Pay               0.382220  0.527501       0.610050   \n",
       "\n",
       "                    Total Other Pay  \n",
       "index                      0.010646  \n",
       "Fiscal Year               -0.008497  \n",
       "Base Salary                0.307782  \n",
       "Regular Hours              0.578506  \n",
       "Regular Gross Paid         0.382220  \n",
       "OT Hours                   0.527501  \n",
       "Total OT Paid              0.610050  \n",
       "Total Other Pay            1.000000  "
      ]
     },
     "execution_count": 23,
     "metadata": {},
     "output_type": "execute_result"
    }
   ],
   "source": [
    "pearsoncorr = payroll_sample.corr(method='pearson')\n",
    "pearsoncorr"
   ]
  },
  {
   "cell_type": "code",
   "execution_count": 24,
   "metadata": {},
   "outputs": [
    {
     "data": {
      "text/plain": [
       "<matplotlib.axes._subplots.AxesSubplot at 0x29e1246c7f0>"
      ]
     },
     "execution_count": 24,
     "metadata": {},
     "output_type": "execute_result"
    },
    {
     "data": {
      "image/png": "[encoded data removed]",
      "text/plain": [
       "<Figure size 576x432 with 2 Axes>"
      ]
     },
     "metadata": {
      "needs_background": "light"
     },
     "output_type": "display_data"
    }
   ],
   "source": [
    "f, ax = plt.subplots(figsize=(8, 6))\n",
    "sns.heatmap(pearsoncorr, \n",
    "            xticklabels=pearsoncorr.columns,\n",
    "            yticklabels=pearsoncorr.columns,\n",
    "            cmap='RdBu_r',\n",
    "            annot=True,\n",
    "            linewidth=0.5)"
   ]
  },
  {
   "cell_type": "code",
   "execution_count": 25,
   "metadata": {},
   "outputs": [],
   "source": [
    "# to be continued..."
   ]
  },
  {
   "cell_type": "code",
   "execution_count": 26,
   "metadata": {},
   "outputs": [
    {
     "data": {
      "text/html": [
       "<div>\n",
       "<style scoped>\n",
       "    .dataframe tbody tr th:only-of-type {\n",
       "        vertical-align: middle;\n",
       "    }\n",
       "\n",
       "    .dataframe tbody tr th {\n",
       "        vertical-align: top;\n",
       "    }\n",
       "\n",
       "    .dataframe thead th {\n",
       "        text-align: right;\n",
       "    }\n",
       "</style>\n",
       "<table border=\"1\" class=\"dataframe\">\n",
       "  <thead>\n",
       "    <tr style=\"text-align: right;\">\n",
       "      <th></th>\n",
       "      <th>index</th>\n",
       "      <th>Fiscal Year</th>\n",
       "      <th>Agency Name</th>\n",
       "      <th>Agency Start Date</th>\n",
       "      <th>Work Location Borough</th>\n",
       "      <th>Title Description</th>\n",
       "      <th>Leave Status as of June 30</th>\n",
       "      <th>Base Salary</th>\n",
       "      <th>Pay Basis</th>\n",
       "      <th>Regular Hours</th>\n",
       "      <th>Regular Gross Paid</th>\n",
       "      <th>OT Hours</th>\n",
       "      <th>Total OT Paid</th>\n",
       "      <th>Total Other Pay</th>\n",
       "      <th>Total Pay</th>\n",
       "    </tr>\n",
       "  </thead>\n",
       "  <tbody>\n",
       "    <tr>\n",
       "      <th>0</th>\n",
       "      <td>1214156</td>\n",
       "      <td>2014</td>\n",
       "      <td>BOARD OF ELECTION POLL WORKERS</td>\n",
       "      <td>2012-01-02</td>\n",
       "      <td>NaN</td>\n",
       "      <td>ELECTION WORKER</td>\n",
       "      <td>ACTIVE</td>\n",
       "      <td>1.0</td>\n",
       "      <td>per Hour</td>\n",
       "      <td>0.00</td>\n",
       "      <td>783.00</td>\n",
       "      <td>0.00</td>\n",
       "      <td>0.00</td>\n",
       "      <td>0.00</td>\n",
       "      <td>783.00</td>\n",
       "    </tr>\n",
       "    <tr>\n",
       "      <th>1</th>\n",
       "      <td>2970416</td>\n",
       "      <td>2019</td>\n",
       "      <td>DEPT OF ED PEDAGOGICAL</td>\n",
       "      <td>2014-09-02</td>\n",
       "      <td>MANHATTAN</td>\n",
       "      <td>TEACHER SPECIAL EDUCATION</td>\n",
       "      <td>ACTIVE</td>\n",
       "      <td>68270.0</td>\n",
       "      <td>per Annum</td>\n",
       "      <td>0.00</td>\n",
       "      <td>69743.19</td>\n",
       "      <td>0.00</td>\n",
       "      <td>0.00</td>\n",
       "      <td>0.00</td>\n",
       "      <td>69743.19</td>\n",
       "    </tr>\n",
       "    <tr>\n",
       "      <th>2</th>\n",
       "      <td>6642</td>\n",
       "      <td>2016</td>\n",
       "      <td>POLICE DEPARTMENT</td>\n",
       "      <td>1995-04-02</td>\n",
       "      <td>QUEENS</td>\n",
       "      <td>POLICE OFFICER</td>\n",
       "      <td>ACTIVE</td>\n",
       "      <td>78026.0</td>\n",
       "      <td>per Annum</td>\n",
       "      <td>2091.42</td>\n",
       "      <td>84324.25</td>\n",
       "      <td>230.63</td>\n",
       "      <td>15269.40</td>\n",
       "      <td>15484.52</td>\n",
       "      <td>99593.65</td>\n",
       "    </tr>\n",
       "    <tr>\n",
       "      <th>3</th>\n",
       "      <td>2257346</td>\n",
       "      <td>2018</td>\n",
       "      <td>DEPARTMENT OF CORRECTION</td>\n",
       "      <td>2006-11-09</td>\n",
       "      <td>QUEENS</td>\n",
       "      <td>CORRECTION OFFICER</td>\n",
       "      <td>ACTIVE</td>\n",
       "      <td>85292.0</td>\n",
       "      <td>per Annum</td>\n",
       "      <td>2045.72</td>\n",
       "      <td>83363.77</td>\n",
       "      <td>6.00</td>\n",
       "      <td>380.06</td>\n",
       "      <td>12553.19</td>\n",
       "      <td>83743.83</td>\n",
       "    </tr>\n",
       "    <tr>\n",
       "      <th>4</th>\n",
       "      <td>2372744</td>\n",
       "      <td>2018</td>\n",
       "      <td>DEPT OF ED PEDAGOGICAL</td>\n",
       "      <td>2002-09-03</td>\n",
       "      <td>MANHATTAN</td>\n",
       "      <td>TEACHER</td>\n",
       "      <td>ACTIVE</td>\n",
       "      <td>98487.0</td>\n",
       "      <td>per Annum</td>\n",
       "      <td>0.00</td>\n",
       "      <td>93405.15</td>\n",
       "      <td>0.00</td>\n",
       "      <td>0.00</td>\n",
       "      <td>0.00</td>\n",
       "      <td>93405.15</td>\n",
       "    </tr>\n",
       "  </tbody>\n",
       "</table>\n",
       "</div>"
      ],
      "text/plain": [
       "     index  Fiscal Year                     Agency Name Agency Start Date  \\\n",
       "0  1214156         2014  BOARD OF ELECTION POLL WORKERS        2012-01-02   \n",
       "1  2970416         2019          DEPT OF ED PEDAGOGICAL        2014-09-02   \n",
       "2     6642         2016               POLICE DEPARTMENT        1995-04-02   \n",
       "3  2257346         2018        DEPARTMENT OF CORRECTION        2006-11-09   \n",
       "4  2372744         2018          DEPT OF ED PEDAGOGICAL        2002-09-03   \n",
       "\n",
       "  Work Location Borough          Title Description Leave Status as of June 30  \\\n",
       "0                   NaN            ELECTION WORKER                     ACTIVE   \n",
       "1             MANHATTAN  TEACHER SPECIAL EDUCATION                     ACTIVE   \n",
       "2                QUEENS             POLICE OFFICER                     ACTIVE   \n",
       "3                QUEENS         CORRECTION OFFICER                     ACTIVE   \n",
       "4             MANHATTAN                    TEACHER                     ACTIVE   \n",
       "\n",
       "   Base Salary  Pay Basis  Regular Hours  Regular Gross Paid  OT Hours  \\\n",
       "0          1.0   per Hour           0.00              783.00      0.00   \n",
       "1      68270.0  per Annum           0.00            69743.19      0.00   \n",
       "2      78026.0  per Annum        2091.42            84324.25    230.63   \n",
       "3      85292.0  per Annum        2045.72            83363.77      6.00   \n",
       "4      98487.0  per Annum           0.00            93405.15      0.00   \n",
       "\n",
       "   Total OT Paid  Total Other Pay  Total Pay  \n",
       "0           0.00             0.00     783.00  \n",
       "1           0.00             0.00   69743.19  \n",
       "2       15269.40         15484.52   99593.65  \n",
       "3         380.06         12553.19   83743.83  \n",
       "4           0.00             0.00   93405.15  "
      ]
     },
     "execution_count": 26,
     "metadata": {},
     "output_type": "execute_result"
    }
   ],
   "source": [
    "# total pay of Regular Gross Paid and Total OT Paid (OT = overtime)\n",
    "payroll_sample[\"Total Pay\"] = payroll_sample[\"Regular Gross Paid\"] + payroll_sample[\"Total OT Paid\"]\n",
    "payroll_sample.head()"
   ]
  },
  {
   "cell_type": "code",
   "execution_count": null,
   "metadata": {},
   "outputs": [],
   "source": []
  },
  {
   "cell_type": "code",
   "execution_count": 27,
   "metadata": {},
   "outputs": [
    {
     "data": {
      "text/plain": [
       "(500000, 600000)"
      ]
     },
     "execution_count": 27,
     "metadata": {},
     "output_type": "execute_result"
    },
    {
     "data": {
      "image/png": "[encoded data removed]",
      "text/plain": [
       "<Figure size 432x288 with 1 Axes>"
      ]
     },
     "metadata": {
      "needs_background": "light"
     },
     "output_type": "display_data"
    }
   ],
   "source": [
    "# counts of municipal employees (use full dataset since you're interested in purely counts)\n",
    "    ## year-to-year\n",
    "payroll_year_counts = payroll[\"Fiscal Year\"].value_counts()\n",
    "#plt.bar(payroll_year_counts.index, payroll_year_counts.values, color = \"r\")\n",
    "#plt.ylim(500000, 600000) # to make the differences between each year stand out more...\n",
    "#plt.title(\"Number of NYC Municipal Employees by Year\")\n",
    "#plt.xlabel(\"Fiscal Year\")\n",
    "#plt.ylabel(\"Count\")\n",
    "\n",
    "import matplotlib.ticker as tkr\n",
    "\n",
    "def func(x, pos):  # formatter function takes tick label and tick position\n",
    "    s = '%d' % x\n",
    "    groups = []\n",
    "    while s and s[-1].isdigit():\n",
    "        groups.append(s[-3:])\n",
    "        s = s[:-3]\n",
    "    return s + ','.join(reversed(groups))\n",
    "\n",
    "y_format = tkr.FuncFormatter(func) \n",
    "\n",
    "ax = plt.subplot(111)\n",
    "ax.bar(payroll_year_counts.index, payroll_year_counts.values, color = \"r\")\n",
    "ax.yaxis.set_major_formatter(y_format)\n",
    "ax.set_title(\"Number of NYC Municipal Employees by Year\")\n",
    "ax.set_xlabel(\"Fiscal Year\")\n",
    "ax.set_ylabel(\"Count\")\n",
    "ax.set_ylim(500000, 600000)"
   ]
  },
  {
   "cell_type": "code",
   "execution_count": 28,
   "metadata": {},
   "outputs": [
    {
     "data": {
      "text/plain": [
       "Text(0, 0.5, 'Count')"
      ]
     },
     "execution_count": 28,
     "metadata": {},
     "output_type": "execute_result"
    },
    {
     "data": {
      "image/png": "[encoded data removed]",
      "text/plain": [
       "<Figure size 432x288 with 1 Axes>"
      ]
     },
     "metadata": {
      "needs_background": "light"
     },
     "output_type": "display_data"
    }
   ],
   "source": [
    "## agency-to-agency\n",
    "    \n",
    "payroll_agency_counts = payroll[\"Agency Name\"].value_counts()\n",
    "ax = plt.subplot(111)\n",
    "ax.bar(payroll_agency_counts.index, payroll_agency_counts.values, color = \"b\")\n",
    "ax.yaxis.set_major_formatter(y_format)\n",
    "ax.set_title(\"Number of NYC Municipal Employees by Agency\")\n",
    "ax.set_xlabel(\"Agency Name\")\n",
    "ax.set_ylabel(\"Count\")\n",
    "#ax.set_ylim(500000, 600000)"
   ]
  },
  {
   "cell_type": "code",
   "execution_count": 29,
   "metadata": {},
   "outputs": [
    {
     "data": {
      "text/plain": [
       "DEPT OF ED PEDAGOGICAL            643361\n",
       "DEPT OF ED PER SESSION TEACHER    502848\n",
       "POLICE DEPARTMENT                 307445\n",
       "BOARD OF ELECTION POLL WORKERS    204209\n",
       "DEPT OF ED PARA PROFESSIONALS     203906\n",
       "DEPT OF ED HRLY SUPPORT STAFF     142792\n",
       "FIRE DEPARTMENT                   109626\n",
       "DEPT OF PARKS & RECREATION        103204\n",
       "DEPARTMENT OF EDUCATION ADMIN      93067\n",
       "HRA/DEPT OF SOCIAL SERVICES        89784\n",
       "Name: Agency Name, dtype: int64"
      ]
     },
     "execution_count": 29,
     "metadata": {},
     "output_type": "execute_result"
    }
   ],
   "source": [
    "payroll_agency_counts.head(10) #85,000 is a good cutoff"
   ]
  },
  {
   "cell_type": "code",
   "execution_count": 30,
   "metadata": {},
   "outputs": [
    {
     "data": {
      "text/plain": [
       "DEPT OF ED PEDAGOGICAL            643361\n",
       "DEPT OF ED PER SESSION TEACHER    502848\n",
       "POLICE DEPARTMENT                 307445\n",
       "BOARD OF ELECTION POLL WORKERS    204209\n",
       "DEPT OF ED PARA PROFESSIONALS     203906\n",
       "DEPT OF ED HRLY SUPPORT STAFF     142792\n",
       "FIRE DEPARTMENT                   109626\n",
       "DEPT OF PARKS & RECREATION        103204\n",
       "DEPARTMENT OF EDUCATION ADMIN      93067\n",
       "HRA/DEPT OF SOCIAL SERVICES        89784\n",
       "Name: Agency Name, dtype: int64"
      ]
     },
     "execution_count": 30,
     "metadata": {},
     "output_type": "execute_result"
    }
   ],
   "source": [
    "payroll_agency_counts_filter = payroll_agency_counts >= 85000\n",
    "payroll_agency_counts_top = payroll_agency_counts[payroll_agency_counts_filter]\n",
    "payroll_agency_counts_top"
   ]
  },
  {
   "cell_type": "code",
   "execution_count": 31,
   "metadata": {},
   "outputs": [
    {
     "data": {
      "text/plain": [
       "[Text(0, 0, 'DEPT OF ED PEDAGOGICAL'),\n",
       " Text(1, 0, 'DEPT OF ED PER SESSION TEACHER'),\n",
       " Text(2, 0, 'POLICE DEPARTMENT'),\n",
       " Text(3, 0, 'BOARD OF ELECTION POLL WORKERS'),\n",
       " Text(4, 0, 'DEPT OF ED PARA PROFESSIONALS'),\n",
       " Text(5, 0, 'DEPT OF ED HRLY SUPPORT STAFF'),\n",
       " Text(6, 0, 'FIRE DEPARTMENT'),\n",
       " Text(7, 0, 'DEPT OF PARKS & RECREATION'),\n",
       " Text(8, 0, 'DEPARTMENT OF EDUCATION ADMIN'),\n",
       " Text(9, 0, 'HRA/DEPT OF SOCIAL SERVICES')]"
      ]
     },
     "execution_count": 31,
     "metadata": {},
     "output_type": "execute_result"
    },
    {
     "data": {
      "image/png": "[encoded data removed]",
      "text/plain": [
       "<Figure size 432x288 with 1 Axes>"
      ]
     },
     "metadata": {
      "needs_background": "light"
     },
     "output_type": "display_data"
    }
   ],
   "source": [
    "ax = plt.subplot(111)\n",
    "ax.bar(payroll_agency_counts_top.index, payroll_agency_counts_top.values, color = \"b\")\n",
    "ax.yaxis.set_major_formatter(y_format)\n",
    "ax.set_title(\"Number of NYC Municipal Employees by Agency\")\n",
    "ax.set_xlabel(\"Agency Name\")\n",
    "ax.set_ylabel(\"Count\")\n",
    "plt.draw()\n",
    "ax.set_xticklabels(ax.get_xticklabels(), rotation=90)\n",
    "#ax.set_ylim(500000, 600000)"
   ]
  },
  {
   "cell_type": "code",
   "execution_count": 32,
   "metadata": {},
   "outputs": [
    {
     "data": {
      "text/plain": [
       "[Text(0, 0, 'MANHATTAN'),\n",
       " Text(1, 0, 'QUEENS'),\n",
       " Text(2, 0, 'BROOKLYN'),\n",
       " Text(3, 0, 'BRONX'),\n",
       " Text(4, 0, 'OTHER'),\n",
       " Text(5, 0, 'RICHMOND'),\n",
       " Text(6, 0, 'WESTCHESTER'),\n",
       " Text(7, 0, 'Manhattan'),\n",
       " Text(8, 0, 'ULSTER'),\n",
       " Text(9, 0, 'Bronx'),\n",
       " Text(10, 0, 'SULLIVAN'),\n",
       " Text(11, 0, 'Queens'),\n",
       " Text(12, 0, 'DELAWARE'),\n",
       " Text(13, 0, 'PUTNAM'),\n",
       " Text(14, 0, 'NASSAU'),\n",
       " Text(15, 0, 'SCHOHARIE'),\n",
       " Text(16, 0, 'Richmond'),\n",
       " Text(17, 0, 'DUTCHESS'),\n",
       " Text(18, 0, 'ALBANY'),\n",
       " Text(19, 0, 'GREENE'),\n",
       " Text(20, 0, 'WASHINGTON DC'),\n",
       " Text(21, 0, 'ORANGE')]"
      ]
     },
     "execution_count": 32,
     "metadata": {},
     "output_type": "execute_result"
    },
    {
     "data": {
      "image/png": "[encoded data removed]",
      "text/plain": [
       "<Figure size 432x288 with 1 Axes>"
      ]
     },
     "metadata": {
      "needs_background": "light"
     },
     "output_type": "display_data"
    }
   ],
   "source": [
    "    ## borough-to-borough\n",
    "payroll_borough_counts = payroll[\"Work Location Borough\"].value_counts()\n",
    "ax = plt.subplot(111)\n",
    "ax.bar(payroll_borough_counts.index, payroll_borough_counts.values, color = \"r\")\n",
    "ax.yaxis.set_major_formatter(y_format)\n",
    "ax.set_title(\"Number of NYC Municipal Employees by Borough\")\n",
    "ax.set_xlabel(\"Borough\")\n",
    "ax.set_ylabel(\"Count\")\n",
    "plt.draw()\n",
    "ax.set_xticklabels(ax.get_xticklabels(), rotation=90)\n",
    "# way more than five boroughs are listed here, many of them aren't even in the city "
   ]
  },
  {
   "cell_type": "code",
   "execution_count": 33,
   "metadata": {},
   "outputs": [],
   "source": [
    "payroll2 = payroll.copy()"
   ]
  },
  {
   "cell_type": "code",
   "execution_count": 34,
   "metadata": {},
   "outputs": [
    {
     "data": {
      "text/plain": [
       "['ALBANY',\n",
       " 'DELAWARE',\n",
       " 'NASSAU',\n",
       " 'SULLIVAN',\n",
       " 'ORANGE',\n",
       " 'WESTCHESTER',\n",
       " nan,\n",
       " 'ULSTER',\n",
       " 'PUTNAM',\n",
       " 'DUTCHESS',\n",
       " 'SCHOHARIE',\n",
       " 'GREENE',\n",
       " 'WASHINGTON DC']"
      ]
     },
     "execution_count": 34,
     "metadata": {},
     "output_type": "execute_result"
    }
   ],
   "source": [
    "# values to convert to \"Other\"\n",
    "values = payroll2[\"Work Location Borough\"].unique()\n",
    "values = values[6:]\n",
    "values = values.tolist()\n",
    "values.remove(\"Bronx\")\n",
    "values.remove(\"Queens\")\n",
    "values.remove(\"Richmond\")\n",
    "values.remove(\"Manhattan\")\n",
    "values"
   ]
  },
  {
   "cell_type": "code",
   "execution_count": 35,
   "metadata": {},
   "outputs": [],
   "source": [
    "payroll2 = payroll2.replace(\"MANHATTAN\", \"Manhattan\")\n",
    "payroll2 = payroll2.replace(\"QUEENS\", \"Queens\")\n",
    "payroll2 = payroll2.replace(\"BROOKLYN\", \"Brooklyn\")\n",
    "payroll2 = payroll2.replace(\"BRONX\", \"Bronx\")\n",
    "payroll2 = payroll2.replace(\"RICHMOND\", \"Staten Island\")\n",
    "payroll2 = payroll2.replace(\"Richmond\", \"Staten Island\")\n",
    "payroll2 = payroll2.replace(values, \"Other\")\n",
    "payroll2 = payroll2.replace(\"OTHER\", \"Other\")"
   ]
  },
  {
   "cell_type": "code",
   "execution_count": 36,
   "metadata": {},
   "outputs": [
    {
     "data": {
      "text/plain": [
       "Manhattan        1975275\n",
       "Other             584295\n",
       "Queens            314935\n",
       "Brooklyn          270118\n",
       "Bronx             150130\n",
       "Staten Island      38343\n",
       "Name: Work Location Borough, dtype: int64"
      ]
     },
     "execution_count": 36,
     "metadata": {},
     "output_type": "execute_result"
    }
   ],
   "source": [
    "payroll2[\"Work Location Borough\"].value_counts() # despite not looking like much at a first glance, the amount of\n",
    "                                                 # NYC municipal employees that work outside the city is extremely\n",
    "                                                 # significant"
   ]
  },
  {
   "cell_type": "code",
   "execution_count": 37,
   "metadata": {},
   "outputs": [
    {
     "data": {
      "text/plain": [
       "[Text(0, 0, 'Manhattan'),\n",
       " Text(1, 0, 'Other'),\n",
       " Text(2, 0, 'Queens'),\n",
       " Text(3, 0, 'Brooklyn'),\n",
       " Text(4, 0, 'Bronx'),\n",
       " Text(5, 0, 'Staten Island')]"
      ]
     },
     "execution_count": 37,
     "metadata": {},
     "output_type": "execute_result"
    },
    {
     "data": {
      "image/png": "[encoded data removed]",
      "text/plain": [
       "<Figure size 432x288 with 1 Axes>"
      ]
     },
     "metadata": {
      "needs_background": "light"
     },
     "output_type": "display_data"
    }
   ],
   "source": [
    "    ## revised borough-to-borough\n",
    "payroll_borough_counts = payroll2[\"Work Location Borough\"].value_counts()\n",
    "ax = plt.subplot(111)\n",
    "ax.bar(payroll_borough_counts.index, payroll_borough_counts.values, color = \"pink\")\n",
    "ax.yaxis.set_major_formatter(y_format)\n",
    "ax.set_title(\"Number of NYC Municipal Employees by Borough\")\n",
    "ax.set_xlabel(\"Borough\")\n",
    "ax.set_ylabel(\"Count\")\n",
    "plt.draw()\n",
    "ax.set_xticklabels(ax.get_xticklabels(), rotation=90)"
   ]
  },
  {
   "cell_type": "code",
   "execution_count": 38,
   "metadata": {},
   "outputs": [],
   "source": [
    "payroll[\"Borough\"] = payroll2[\"Work Location Borough\"] # add the altered boroughs to the original dataset"
   ]
  },
  {
   "cell_type": "code",
   "execution_count": 65,
   "metadata": {},
   "outputs": [
    {
     "data": {
      "text/plain": [
       "Text(0, 0.5, 'Frequency')"
      ]
     },
     "execution_count": 65,
     "metadata": {},
     "output_type": "execute_result"
    },
    {
     "data": {
      "image/png": "[encoded data removed]",
      "text/plain": [
       "<Figure size 432x288 with 1 Axes>"
      ]
     },
     "metadata": {
      "needs_background": "light"
     },
     "output_type": "display_data"
    }
   ],
   "source": [
    "# distributions of base pay\n",
    "    # whole\n",
    "payroll_sample[\"Base Salary\"].hist(grid = False, edgecolor = \"white\", bins = 20)\n",
    "plt.title(\"Distribution of Base Salary\")\n",
    "plt.xlabel(\"Base Salary\")\n",
    "plt.ylabel(\"Frequency\")"
   ]
  },
  {
   "cell_type": "code",
   "execution_count": 89,
   "metadata": {},
   "outputs": [
    {
     "data": {
      "text/plain": [
       "[<matplotlib.lines.Line2D at 0x29e1781acf8>]"
      ]
     },
     "execution_count": 89,
     "metadata": {},
     "output_type": "execute_result"
    },
    {
     "data": {
      "image/png": "[encoded data removed]",
      "text/plain": [
       "<Figure size 432x288 with 1 Axes>"
      ]
     },
     "metadata": {
      "needs_background": "light"
     },
     "output_type": "display_data"
    }
   ],
   "source": [
    "\n",
    "paid_filter = payroll_sample[\"Base Salary\"] > 18000\n",
    "paid_payroll_sample = payroll_sample[paid_filter]\n",
    "\n",
    "paid_payroll_sample[\"Base Salary\"].hist(grid = False, edgecolor = \"white\", bins = 15, density = True, color = \"blue\")\n",
    "plt.title(\"Distribution of Base Salary\")\n",
    "plt.xlabel(\"Base Salary\")\n",
    "plt.ylabel(\"Density\")\n",
    "\n",
    "import numpy as np\n",
    "import scipy.stats as stats\n",
    "x = np.arange(paid_payroll_sample[\"Base Salary\"].min(), paid_payroll_sample[\"Base Salary\"].max(), 1000)\n",
    "y = stats.norm.pdf(x, loc = paid_payroll_sample[\"Base Salary\"].mean(), scale = paid_payroll_sample[\"Base Salary\"].std())\n",
    "plt.plot(x,y, color = \"red\", linewidth = 3)"
   ]
  },
  {
   "cell_type": "code",
   "execution_count": 95,
   "metadata": {},
   "outputs": [
    {
     "name": "stdout",
     "output_type": "stream",
     "text": [
      "After you filter out the employees with lower salaries, the distribution of base salary roughly resembles\n",
      "N(70328.95, 28251.25)\n"
     ]
    }
   ],
   "source": [
    "print(\"After you filter out the employees with lower salaries, the distribution of base salary roughly resembles\")\n",
    "print(\"N(\" + str(round(paid_payroll_sample[\"Base Salary\"].mean(), 2)) + \", \" + str(round(paid_payroll_sample[\"Base Salary\"].std(), 2)) + \").\")"
   ]
  },
  {
   "cell_type": "code",
   "execution_count": 96,
   "metadata": {},
   "outputs": [],
   "source": [
    "base_salary_means = []\n",
    "for i in range(10000): \n",
    "    sample = paid_payroll_sample[\"Base Salary\"].sample(len(paid_payroll_sample[\"Base Salary\"]), replace = True) \n",
    "    sample_mean = sample.mean()\n",
    "    base_salary_means.append(sample_mean)"
   ]
  },
  {
   "cell_type": "code",
   "execution_count": 102,
   "metadata": {},
   "outputs": [
    {
     "data": {
      "text/plain": [
       "Text(0, 0.5, 'Frequency')"
      ]
     },
     "execution_count": 102,
     "metadata": {},
     "output_type": "execute_result"
    },
    {
     "data": {
      "image/png": "[encoded data removed]",
      "text/plain": [
       "<Figure size 432x288 with 1 Axes>"
      ]
     },
     "metadata": {
      "needs_background": "light"
     },
     "output_type": "display_data"
    }
   ],
   "source": [
    "base_salary_means = pd.Series(base_salary_means)\n",
    "base_salary_means.hist(bins = 30, edgecolor = \"white\", grid = False, color = \"g\", )\n",
    "plt.title(\"Distribution of Bootstrapped Sample Means\")\n",
    "plt.xlabel(\"Sample Mean\")\n",
    "plt.ylabel(\"Frequency\")"
   ]
  },
  {
   "cell_type": "code",
   "execution_count": null,
   "metadata": {},
   "outputs": [],
   "source": [
    "    # by borough "
   ]
  },
  {
   "cell_type": "code",
   "execution_count": 40,
   "metadata": {},
   "outputs": [],
   "source": [
    "# distributions of actual pay\n",
    "    # whole\n",
    "    # by borough "
   ]
  },
  {
   "cell_type": "code",
   "execution_count": 41,
   "metadata": {},
   "outputs": [],
   "source": [
    "# one-way ANOVA on base pay by borough "
   ]
  },
  {
   "cell_type": "code",
   "execution_count": null,
   "metadata": {},
   "outputs": [],
   "source": [
    "# one-way ANOVA on actual pay by borough "
   ]
  },
  {
   "cell_type": "code",
   "execution_count": 42,
   "metadata": {},
   "outputs": [],
   "source": [
    "# distributions of the difference between base pay and actual pay"
   ]
  },
  {
   "cell_type": "code",
   "execution_count": 43,
   "metadata": {},
   "outputs": [],
   "source": [
    "# distributions of overtime"
   ]
  },
  {
   "cell_type": "code",
   "execution_count": 44,
   "metadata": {},
   "outputs": [],
   "source": [
    "# bar graph of the pay of active and ceased employees"
   ]
  },
  {
   "cell_type": "code",
   "execution_count": 45,
   "metadata": {},
   "outputs": [],
   "source": [
    "# bar graph of pay basis"
   ]
  },
  {
   "cell_type": "code",
   "execution_count": 46,
   "metadata": {},
   "outputs": [],
   "source": [
    "# regular hours vs. base salary scatterplot"
   ]
  },
  {
   "cell_type": "code",
   "execution_count": 47,
   "metadata": {},
   "outputs": [],
   "source": [
    "# Pearson's R for regular hours vs base salary"
   ]
  },
  {
   "cell_type": "code",
   "execution_count": 48,
   "metadata": {},
   "outputs": [],
   "source": [
    "# agency start date vs. actual pay"
   ]
  },
  {
   "cell_type": "code",
   "execution_count": 49,
   "metadata": {},
   "outputs": [],
   "source": [
    "# double bar graph of base salary and regular gross paid \n",
    "    # by borough\n",
    "    # by agency "
   ]
  },
  {
   "cell_type": "code",
   "execution_count": 50,
   "metadata": {},
   "outputs": [],
   "source": [
    "# swarm plot of borough vs. regular gross paid "
   ]
  },
  {
   "cell_type": "code",
   "execution_count": 51,
   "metadata": {},
   "outputs": [],
   "source": [
    "# swarm plot of fiscal year vs. regular gross paid"
   ]
  },
  {
   "cell_type": "code",
   "execution_count": 52,
   "metadata": {},
   "outputs": [],
   "source": [
    "# total hours (regular hours + OT Hours) vs regular gross paid"
   ]
  },
  {
   "cell_type": "code",
   "execution_count": 53,
   "metadata": {},
   "outputs": [],
   "source": [
    "# K-Nearest Neighbor Regressor with k = 5 to predict regular gross paid\n",
    "    # manually compute for one random observation\n",
    "    # create a 80/20 train-test split and utilize a k-nearest neighbor algorithm\n",
    "        # compute mse and rmse\n",
    "        # regular gross paid vs residuals "
   ]
  }
 ],
 "metadata": {
  "kernelspec": {
   "display_name": "Python 3",
   "language": "python",
   "name": "python3"
  },
  "language_info": {
   "codemirror_mode": {
    "name": "ipython",
    "version": 3
   },
   "file_extension": ".py",
   "mimetype": "text/x-python",
   "name": "python",
   "nbconvert_exporter": "python",
   "pygments_lexer": "ipython3",
   "version": "3.7.3"
  }
 },
 "nbformat": 4,
 "nbformat_minor": 2
}
